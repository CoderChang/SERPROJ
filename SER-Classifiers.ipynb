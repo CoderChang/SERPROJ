{
 "cells": [
  {
   "cell_type": "code",
   "execution_count": 1,
   "metadata": {
    "collapsed": false
   },
   "outputs": [],
   "source": [
    "%matplotlib inline\n",
    "import cv2\n",
    "import matplotlib.pyplot as plt\n",
    "import logging\n",
    "\n",
    "logger = logging.getLogger()\n",
    "logger.setLevel(logging.DEBUG)"
   ]
  },
  {
   "cell_type": "code",
   "execution_count": 2,
   "metadata": {
    "collapsed": false
   },
   "outputs": [],
   "source": [
    "import mxnet as mx\n",
    "import numpy as np\n",
    "\n",
    "from sklearn import svm\n",
    "from sklearn import metrics\n",
    "from sklearn import preprocessing\n",
    "from imblearn.over_sampling import SMOTE\n",
    "from sklearn.decomposition import PCA\n",
    "from sklearn.discriminant_analysis import LinearDiscriminantAnalysis\n",
    "from sklearn.discriminant_analysis import QuadraticDiscriminantAnalysis\n",
    "\n",
    "import os\n",
    "import sys\n",
    "import math\n",
    "import time\n",
    "import pickle\n",
    "\n",
    "proj_dir = os.getcwd()\n",
    "label_dir = os.path.join(proj_dir, 'emotiondetection/features_labels_lld/labels')\n",
    "lld_dir = os.path.join(proj_dir, 'emotiondetection/features_labels_lld/lld')\n",
    "\n",
    "pickle_train_y_list = 'pickle_train_y_list'\n",
    "pickle_train_x_list = 'pickle_train_x_list'\n",
    "\n",
    "pickle_test_y_list = 'pickle_test_y_list'\n",
    "pickle_test_x_list = 'pickle_test_x_list'"
   ]
  },
  {
   "cell_type": "code",
   "execution_count": 3,
   "metadata": {
    "collapsed": false
   },
   "outputs": [],
   "source": [
    "train_y_list = pickle.load(open(pickle_train_y_list))\n",
    "train_x_list = pickle.load(open(pickle_train_x_list))\n",
    "\n",
    "test_y_list = pickle.load(open(pickle_test_y_list))\n",
    "test_x_list = pickle.load(open(pickle_test_x_list))"
   ]
  },
  {
   "cell_type": "code",
   "execution_count": 4,
   "metadata": {
    "collapsed": true
   },
   "outputs": [],
   "source": [
    "def calc_score(test_y_list, predict_y_list):\n",
    "    print \"Resulting Accuracy (AVG), Recall (AVG), F-Score (AVG):\"\n",
    "    print 'macro   : ', metrics.precision_recall_fscore_support(test_y_list, predict_y_list, average='macro')\n",
    "    print 'weighted: ', metrics.precision_recall_fscore_support(test_y_list, predict_y_list, average='weighted')"
   ]
  },
  {
   "cell_type": "code",
   "execution_count": 5,
   "metadata": {
    "collapsed": true
   },
   "outputs": [],
   "source": [
    "# z-score normalization\n",
    "# scaler = preprocessing.StandardScaler().fit(train_x_list)\n",
    "# train_x_list = scaler.transform(train_x_list)\n",
    "# test_x_list = scaler.transform(test_x_list)"
   ]
  },
  {
   "cell_type": "code",
   "execution_count": 6,
   "metadata": {
    "collapsed": false
   },
   "outputs": [],
   "source": [
    "# PCA whiten\n",
    "# pca = PCA(n_components='mle', svd_solver='full', whiten=True)\n",
    "# x_pca = pca.fit(train_x_list)\n",
    "# train_x_list = pca.transform(train_x_list)\n",
    "# test_x_list = pca.transform(test_x_list)"
   ]
  },
  {
   "cell_type": "code",
   "execution_count": 7,
   "metadata": {
    "collapsed": false
   },
   "outputs": [],
   "source": [
    "# sklearn l1/l2 normalization\n",
    "# x_normalizer = preprocessing.Normalizer(norm='l2').fit(train_x_list)\n",
    "# train_x_list = x_normalizer.transform(train_x_list)\n",
    "# test_x_list = x_normalizer.transform(test_x_list)"
   ]
  },
  {
   "cell_type": "code",
   "execution_count": 8,
   "metadata": {
    "collapsed": false
   },
   "outputs": [],
   "source": [
    "# # SMOTE up-sampling training data\n",
    "# sm = SMOTE(kind='regular')\n",
    "# train_x_list, train_y_list = sm.fit_sample(train_x_list, train_y_list)\n",
    "# train_x_list, train_y_list = sm.fit_sample(train_x_list, train_y_list)\n",
    "# train_x_list, train_y_list = sm.fit_sample(train_x_list, train_y_list)\n",
    "# train_x_list, train_y_list = sm.fit_sample(train_x_list, train_y_list)\n",
    "# train_x_list, train_y_list = sm.fit_sample(train_x_list, train_y_list)\n",
    "\n",
    "# # split training data to 5 different classes\n",
    "# train_x_lists = [[] for i in range(5)]\n",
    "# for i in xrange(len(train_y_list)):\n",
    "#     train_x_lists[int(train_y_list[i])].append(train_x_list[i])\n",
    "# for i in xrange(5):\n",
    "#     print 'number of class', i, ':', len(train_x_lists[i])"
   ]
  },
  {
   "cell_type": "code",
   "execution_count": 9,
   "metadata": {
    "collapsed": false
   },
   "outputs": [
    {
     "name": "stdout",
     "output_type": "stream",
     "text": [
      "(9959,) (9959, 384)\n",
      "(8257,) (8257, 384)\n"
     ]
    }
   ],
   "source": [
    "print train_y_list.shape, train_x_list.shape\n",
    "print test_y_list.shape, test_x_list.shape"
   ]
  },
  {
   "cell_type": "code",
   "execution_count": 10,
   "metadata": {
    "collapsed": false
   },
   "outputs": [
    {
     "name": "stdout",
     "output_type": "stream",
     "text": [
      "[  5.66733100e-03   3.11773100e-04   5.35555800e-03   5.30000000e+01\n",
      "   9.60000000e+01   1.30774500e-03   4.18643100e-06   1.09633100e-03\n",
      "   1.80239600e-06   1.34818000e-03]\n",
      "[  1.23016500e-02   9.11361400e-05   1.22105100e-02   5.20000000e+01\n",
      "   2.40000000e+01   1.31725500e-03   3.23349300e-07   1.29866300e-03\n",
      "   6.89166500e-06   2.62522000e-03]\n"
     ]
    }
   ],
   "source": [
    "print train_x_list[0][:10]\n",
    "print test_x_list[0][:10]"
   ]
  },
  {
   "cell_type": "code",
   "execution_count": null,
   "metadata": {
    "collapsed": true
   },
   "outputs": [],
   "source": []
  },
  {
   "cell_type": "code",
   "execution_count": 11,
   "metadata": {
    "collapsed": true
   },
   "outputs": [],
   "source": [
    "X = train_x_list\n",
    "y = train_y_list"
   ]
  },
  {
   "cell_type": "code",
   "execution_count": null,
   "metadata": {
    "collapsed": true
   },
   "outputs": [],
   "source": []
  },
  {
   "cell_type": "code",
   "execution_count": 12,
   "metadata": {
    "collapsed": false
   },
   "outputs": [],
   "source": [
    "import numpy as np\n",
    "import matplotlib.pyplot as plt\n",
    "from matplotlib.colors import ListedColormap\n",
    "from sklearn.model_selection import train_test_split\n",
    "from sklearn.preprocessing import StandardScaler\n",
    "from sklearn.neural_network import MLPClassifier\n",
    "from sklearn.neighbors import KNeighborsClassifier\n",
    "from sklearn.svm import SVC\n",
    "from sklearn.tree import DecisionTreeClassifier\n",
    "from sklearn.ensemble import RandomForestClassifier, AdaBoostClassifier\n",
    "from sklearn.naive_bayes import GaussianNB\n",
    "from sklearn.discriminant_analysis import QuadraticDiscriminantAnalysis, LinearDiscriminantAnalysis\n",
    "\n",
    "names = [\n",
    "    \"Nearest Neighbors\",\n",
    "    \"RBF SVM\",\n",
    "    \"Decision Tree\",\n",
    "    \"Random Forest\",\n",
    "    \"Neural Net\",\n",
    "    \"AdaBoost\",\n",
    "    \"Naive Bayes\",\n",
    "    \"QDA\",\n",
    "    \"LDA\"\n",
    "]\n",
    "\n",
    "classifiers = [\n",
    "    KNeighborsClassifier(3),\n",
    "    SVC(gamma=2, C=1),\n",
    "    DecisionTreeClassifier(max_depth=5),\n",
    "    RandomForestClassifier(max_depth=5, n_estimators=10, max_features=1),\n",
    "    MLPClassifier(alpha=1),\n",
    "    AdaBoostClassifier(),\n",
    "    GaussianNB(),\n",
    "    QuadraticDiscriminantAnalysis(), \n",
    "    LinearDiscriminantAnalysis()\n",
    "]"
   ]
  },
  {
   "cell_type": "code",
   "execution_count": null,
   "metadata": {
    "collapsed": true
   },
   "outputs": [],
   "source": []
  },
  {
   "cell_type": "code",
   "execution_count": 15,
   "metadata": {
    "collapsed": false
   },
   "outputs": [
    {
     "name": "stdout",
     "output_type": "stream",
     "text": [
      "Classifier: Nearest Neighbors\n",
      "Resulting Accuracy (AVG), Recall (AVG), F-Score (AVG):\n",
      "macro   :  (0.22337881757647482, 0.2246092702787347, 0.21403899896209175, None)\n",
      "weighted:  (0.49487035914572108, 0.48019861935327601, 0.48318798393795204, None)\n",
      "-------------------------------\n",
      "Classifier: RBF SVM\n",
      "Resulting Accuracy (AVG), Recall (AVG), F-Score (AVG):\n",
      "macro   :  (0.1302410076298898, 0.20000000000000001, 0.15775267713070268, None)\n",
      "weighted:  (0.42406800171122527, 0.65120503814944897, 0.51364669064538471, None)\n",
      "-------------------------------\n",
      "Classifier: Decision Tree\n",
      "Resulting Accuracy (AVG), Recall (AVG), F-Score (AVG):\n",
      "macro   :  (0.32130744465163391, 0.24424087509997849, 0.24115107059080859, None)\n",
      "weighted:  (0.54476921614528651, 0.64757175729683902, 0.56993712510300187, None)\n",
      "-------------------------------\n",
      "Classifier: Random Forest\n",
      "Resulting Accuracy (AVG), Recall (AVG), F-Score (AVG):\n",
      "macro   :  (0.25029568589432866, 0.20036068252193123, 0.15857432808825822, None)\n",
      "weighted:  (0.53382578603233932, 0.65144725687295624, 0.51446382264192114, None)\n",
      "-------------------------------\n",
      "Classifier: Neural Net\n",
      "Resulting Accuracy (AVG), Recall (AVG), F-Score (AVG):\n",
      "macro   :  (0.3175777969941303, 0.27340220066889437, 0.22563993984956529, None)\n",
      "weighted:  (0.57756789221896021, 0.40729078357757054, 0.41732285138791275, None)\n",
      "-------------------------------\n",
      "Classifier: AdaBoost\n",
      "Resulting Accuracy (AVG), Recall (AVG), F-Score (AVG):\n",
      "macro   :  (0.28383638653731275, 0.30783695028703983, 0.28210483616535337, None)\n",
      "weighted:  (0.54156141884134534, 0.58495821727019504, 0.55266746944642009, None)\n",
      "-------------------------------\n",
      "Classifier: Naive Bayes\n",
      "Resulting Accuracy (AVG), Recall (AVG), F-Score (AVG):\n",
      "macro   :  (0.28915750889259723, 0.3098419238691843, 0.1713498535041558, None)\n",
      "weighted:  (0.58573136921738367, 0.18360179241855396, 0.18342158177773341, None)\n",
      "-------------------------------\n",
      "Classifier: QDA\n"
     ]
    },
    {
     "name": "stderr",
     "output_type": "stream",
     "text": [
      "/home/slhome/cc001/anaconda3/envs/python2/lib/python2.7/site-packages/sklearn/discriminant_analysis.py:695: UserWarning: Variables are collinear\n",
      "  warnings.warn(\"Variables are collinear\")\n"
     ]
    },
    {
     "name": "stdout",
     "output_type": "stream",
     "text": [
      "Resulting Accuracy (AVG), Recall (AVG), F-Score (AVG):\n",
      "macro   :  (0.48686372745064377, 0.28079546552893037, 0.22556947756713636, None)\n",
      "weighted:  (0.60372976351401275, 0.39723870655201649, 0.43285330988382714, None)\n",
      "-------------------------------\n",
      "Classifier: LDA\n",
      "Resulting Accuracy (AVG), Recall (AVG), F-Score (AVG):\n",
      "macro   :  (0.35936656041590076, 0.3375721378731863, 0.34056468342636742, None)\n",
      "weighted:  (0.58814106817086764, 0.63558193048322631, 0.60588664292089445, None)\n",
      "-------------------------------\n"
     ]
    },
    {
     "name": "stderr",
     "output_type": "stream",
     "text": [
      "/home/slhome/cc001/anaconda3/envs/python2/lib/python2.7/site-packages/sklearn/discriminant_analysis.py:387: UserWarning: Variables are collinear.\n",
      "  warnings.warn(\"Variables are collinear.\")\n"
     ]
    }
   ],
   "source": [
    "# no preprocessing\n",
    "for name, clf in zip(names, classifiers):\n",
    "    print 'Classifier:', name\n",
    "\n",
    "    clf.fit(train_x_list, train_y_list)\n",
    "    predict_y_list = clf.predict(test_x_list)\n",
    "    calc_score(test_y_list, predict_y_list)\n",
    "\n",
    "    print '-------------------------------'"
   ]
  },
  {
   "cell_type": "code",
   "execution_count": null,
   "metadata": {
    "collapsed": false
   },
   "outputs": [],
   "source": []
  },
  {
   "cell_type": "code",
   "execution_count": 14,
   "metadata": {
    "collapsed": false
   },
   "outputs": [
    {
     "name": "stderr",
     "output_type": "stream",
     "text": [
      "No handlers could be found for logger \"imblearn.base\"\n"
     ]
    },
    {
     "name": "stdout",
     "output_type": "stream",
     "text": [
      "number of class 0 : 5590\n",
      "number of class 1 : 5590\n",
      "number of class 2 : 5590\n",
      "number of class 3 : 5590\n",
      "number of class 4 : 5590\n",
      "Classifier: Nearest Neighbors\n",
      "Resulting Accuracy (AVG), Recall (AVG), F-Score (AVG):\n",
      "macro   :  (0.21331998335295493, 0.223594155147463, 0.14962706910247364, None)\n",
      "weighted:  (0.48908193499399338, 0.18275402688627831, 0.19524399813470242, None)\n",
      "-------------------------------\n",
      "Classifier: RBF SVM\n",
      "Resulting Accuracy (AVG), Recall (AVG), F-Score (AVG):\n",
      "macro   :  (0.1302410076298898, 0.20000000000000001, 0.15775267713070268, None)\n",
      "weighted:  (0.42406800171122527, 0.65120503814944897, 0.51364669064538471, None)\n",
      "-------------------------------\n",
      "Classifier: Decision Tree\n"
     ]
    },
    {
     "name": "stderr",
     "output_type": "stream",
     "text": [
      "/home/slhome/cc001/anaconda3/envs/python2/lib/python2.7/site-packages/sklearn/metrics/classification.py:1113: UndefinedMetricWarning: Precision and F-score are ill-defined and being set to 0.0 in labels with no predicted samples.\n",
      "  'precision', 'predicted', average, warn_for)\n"
     ]
    },
    {
     "name": "stdout",
     "output_type": "stream",
     "text": [
      "Resulting Accuracy (AVG), Recall (AVG), F-Score (AVG):\n",
      "macro   :  (0.29082324232884293, 0.32672313424835797, 0.22142930298901664, None)\n",
      "weighted:  (0.59516876675966224, 0.2552985345767228, 0.30956398972444643, None)\n",
      "-------------------------------\n",
      "Classifier: Random Forest\n",
      "Resulting Accuracy (AVG), Recall (AVG), F-Score (AVG):\n",
      "macro   :  (0.27202446679472408, 0.35676132078267608, 0.22412091446913651, None)\n",
      "weighted:  (0.55302175387078956, 0.26171733074966697, 0.28817483692564988, None)\n",
      "-------------------------------\n",
      "Classifier: Neural Net\n",
      "Resulting Accuracy (AVG), Recall (AVG), F-Score (AVG):\n",
      "macro   :  (0.32638557691728298, 0.3166140457571941, 0.18422848712637113, None)\n",
      "weighted:  (0.6327465041814917, 0.19098946348552742, 0.12213844629212331, None)\n",
      "-------------------------------\n",
      "Classifier: AdaBoost\n",
      "Resulting Accuracy (AVG), Recall (AVG), F-Score (AVG):\n",
      "macro   :  (0.29882506007456228, 0.37509584870934909, 0.29245379536938887, None)\n",
      "weighted:  (0.57798164161393339, 0.39772314399903114, 0.44760464944932254, None)\n",
      "-------------------------------\n",
      "Classifier: Naive Bayes\n",
      "Resulting Accuracy (AVG), Recall (AVG), F-Score (AVG):\n",
      "macro   :  (0.26551870525470184, 0.31980230927848513, 0.19032873131956118, None)\n",
      "weighted:  (0.53360575207053951, 0.21618021073028945, 0.22538718437270353, None)\n",
      "-------------------------------\n",
      "Classifier: QDA\n"
     ]
    },
    {
     "name": "stderr",
     "output_type": "stream",
     "text": [
      "/home/slhome/cc001/anaconda3/envs/python2/lib/python2.7/site-packages/sklearn/discriminant_analysis.py:695: UserWarning: Variables are collinear\n",
      "  warnings.warn(\"Variables are collinear\")\n"
     ]
    },
    {
     "name": "stdout",
     "output_type": "stream",
     "text": [
      "Resulting Accuracy (AVG), Recall (AVG), F-Score (AVG):\n",
      "macro   :  (0.4230678346734843, 0.2568685103473255, 0.23711752614876919, None)\n",
      "weighted:  (0.54944185464817585, 0.51023374106818453, 0.50257846080952973, None)\n",
      "-------------------------------\n",
      "Classifier: LDA\n",
      "Resulting Accuracy (AVG), Recall (AVG), F-Score (AVG):\n",
      "macro   :  (0.31886607662911548, 0.40623576072601875, 0.30567705263257078, None)\n",
      "weighted:  (0.606998702599993, 0.39009325420855034, 0.44301917007145286, None)\n",
      "-------------------------------\n"
     ]
    },
    {
     "name": "stderr",
     "output_type": "stream",
     "text": [
      "/home/slhome/cc001/anaconda3/envs/python2/lib/python2.7/site-packages/sklearn/discriminant_analysis.py:387: UserWarning: Variables are collinear.\n",
      "  warnings.warn(\"Variables are collinear.\")\n"
     ]
    }
   ],
   "source": [
    "# SMOTE up-sampling\n",
    "train_y_list = pickle.load(open(pickle_train_y_list))\n",
    "train_x_list = pickle.load(open(pickle_train_x_list))\n",
    "\n",
    "test_y_list = pickle.load(open(pickle_test_y_list))\n",
    "test_x_list = pickle.load(open(pickle_test_x_list))\n",
    "\n",
    "sm = SMOTE(kind='regular')\n",
    "train_x_list_smote, train_y_list_smote = sm.fit_sample(train_x_list, train_y_list)\n",
    "train_x_list_smote, train_y_list_smote = sm.fit_sample(train_x_list_smote, train_y_list_smote)\n",
    "train_x_list_smote, train_y_list_smote = sm.fit_sample(train_x_list_smote, train_y_list_smote)\n",
    "train_x_list_smote, train_y_list_smote = sm.fit_sample(train_x_list_smote, train_y_list_smote)\n",
    "train_x_list_smote, train_y_list_smote = sm.fit_sample(train_x_list_smote, train_y_list_smote)\n",
    "\n",
    "# split training data to 5 different classes\n",
    "train_x_lists = [[] for i in range(5)]\n",
    "for i in xrange(len(train_y_list_smote)):\n",
    "    train_x_lists[int(train_y_list_smote[i])].append(train_x_list_smote[i])\n",
    "for i in xrange(5):\n",
    "    print 'number of class', i, ':', len(train_x_lists[i])\n",
    "\n",
    "\n",
    "for name, clf in zip(names, classifiers):\n",
    "    print 'Classifier:', name\n",
    "\n",
    "    clf.fit(train_x_list_smote, train_y_list_smote)\n",
    "    predict_y_list = clf.predict(test_x_list)\n",
    "    calc_score(test_y_list, predict_y_list)\n",
    "\n",
    "    print '-------------------------------'"
   ]
  },
  {
   "cell_type": "code",
   "execution_count": null,
   "metadata": {
    "collapsed": true
   },
   "outputs": [],
   "source": []
  },
  {
   "cell_type": "code",
   "execution_count": 14,
   "metadata": {
    "collapsed": false
   },
   "outputs": [
    {
     "name": "stdout",
     "output_type": "stream",
     "text": [
      "Classifier: Nearest Neighbors\n",
      "Resulting Accuracy (AVG), Recall (AVG), F-Score (AVG):\n",
      "macro   :  (0.30401841139910524, 0.27225375995343493, 0.26805498127804583, None)\n",
      "weighted:  (0.52636029825317443, 0.54426547172096407, 0.53006767294109602, None)\n",
      "-------------------------------\n",
      "Classifier: RBF SVM\n",
      "Resulting Accuracy (AVG), Recall (AVG), F-Score (AVG):\n",
      "macro   :  (0.1302410076298898, 0.20000000000000001, 0.15775267713070268, None)\n",
      "weighted:  (0.42406800171122527, 0.65120503814944897, 0.51364669064538471, None)\n",
      "-------------------------------\n",
      "Classifier: Decision Tree\n"
     ]
    },
    {
     "name": "stderr",
     "output_type": "stream",
     "text": [
      "/home/slhome/cc001/anaconda3/envs/python2/lib/python2.7/site-packages/sklearn/metrics/classification.py:1113: UndefinedMetricWarning: Precision and F-score are ill-defined and being set to 0.0 in labels with no predicted samples.\n",
      "  'precision', 'predicted', average, warn_for)\n"
     ]
    },
    {
     "name": "stdout",
     "output_type": "stream",
     "text": [
      "Resulting Accuracy (AVG), Recall (AVG), F-Score (AVG):\n",
      "macro   :  (0.32130744465163391, 0.24424087509997849, 0.24115107059080859, None)\n",
      "weighted:  (0.54476921614528651, 0.64757175729683902, 0.56993712510300187, None)\n",
      "-------------------------------\n",
      "Classifier: Random Forest\n",
      "Resulting Accuracy (AVG), Recall (AVG), F-Score (AVG):\n",
      "macro   :  (0.23025566460680963, 0.20019086106508271, 0.15826937932587234, None)\n",
      "weighted:  (0.51543218395955881, 0.65120503814944897, 0.51408947722424947, None)\n",
      "-------------------------------\n",
      "Classifier: Neural Net\n",
      "Resulting Accuracy (AVG), Recall (AVG), F-Score (AVG):\n",
      "macro   :  (0.344865356888164, 0.31160775944526348, 0.32053246304749788, None)\n",
      "weighted:  (0.56335867096416448, 0.60324573089499822, 0.57884560743363433, None)\n",
      "-------------------------------\n",
      "Classifier: AdaBoost\n",
      "Resulting Accuracy (AVG), Recall (AVG), F-Score (AVG):\n",
      "macro   :  (0.30088067856482786, 0.31591976743535544, 0.30531255304262173, None)\n",
      "weighted:  (0.55458441677032522, 0.60627346493883982, 0.57650532167728252, None)\n",
      "-------------------------------\n",
      "Classifier: Naive Bayes\n",
      "Resulting Accuracy (AVG), Recall (AVG), F-Score (AVG):\n",
      "macro   :  (0.29572736256572374, 0.29547434092243002, 0.11243874110064375, None)\n",
      "weighted:  (0.59016358257669166, 0.11844495579508296, 0.088302651871851032, None)\n",
      "-------------------------------\n",
      "Classifier: QDA\n"
     ]
    },
    {
     "name": "stderr",
     "output_type": "stream",
     "text": [
      "/home/slhome/cc001/anaconda3/envs/python2/lib/python2.7/site-packages/sklearn/discriminant_analysis.py:695: UserWarning: Variables are collinear\n",
      "  warnings.warn(\"Variables are collinear\")\n"
     ]
    },
    {
     "name": "stdout",
     "output_type": "stream",
     "text": [
      "Resulting Accuracy (AVG), Recall (AVG), F-Score (AVG):\n",
      "macro   :  (0.47581066517412374, 0.27898370042499537, 0.22497193790724285, None)\n",
      "weighted:  (0.59750731735212304, 0.3955431754874652, 0.42862249967330673, None)\n",
      "-------------------------------\n",
      "Classifier: LDA\n",
      "Resulting Accuracy (AVG), Recall (AVG), F-Score (AVG):\n",
      "macro   :  (0.35936656041590076, 0.3375721378731863, 0.34056468342636742, None)\n",
      "weighted:  (0.58814106817086764, 0.63558193048322631, 0.60588664292089445, None)\n",
      "-------------------------------\n"
     ]
    },
    {
     "name": "stderr",
     "output_type": "stream",
     "text": [
      "/home/slhome/cc001/anaconda3/envs/python2/lib/python2.7/site-packages/sklearn/discriminant_analysis.py:387: UserWarning: Variables are collinear.\n",
      "  warnings.warn(\"Variables are collinear.\")\n"
     ]
    }
   ],
   "source": [
    "# z-score normalization\n",
    "train_y_list = pickle.load(open(pickle_train_y_list))\n",
    "train_x_list = pickle.load(open(pickle_train_x_list))\n",
    "\n",
    "test_y_list = pickle.load(open(pickle_test_y_list))\n",
    "test_x_list = pickle.load(open(pickle_test_x_list))\n",
    "\n",
    "scaler = preprocessing.StandardScaler().fit(train_x_list)\n",
    "train_x_list = scaler.transform(train_x_list)\n",
    "test_x_list = scaler.transform(test_x_list)\n",
    "\n",
    "for name, clf in zip(names, classifiers):\n",
    "    print 'Classifier:', name\n",
    "\n",
    "    clf.fit(train_x_list, train_y_list)\n",
    "    predict_y_list = clf.predict(test_x_list)\n",
    "    calc_score(test_y_list, predict_y_list)\n",
    "\n",
    "    print '-------------------------------'"
   ]
  },
  {
   "cell_type": "code",
   "execution_count": null,
   "metadata": {
    "collapsed": true
   },
   "outputs": [],
   "source": []
  },
  {
   "cell_type": "code",
   "execution_count": 13,
   "metadata": {
    "collapsed": false
   },
   "outputs": [
    {
     "name": "stderr",
     "output_type": "stream",
     "text": [
      "No handlers could be found for logger \"imblearn.base\"\n"
     ]
    },
    {
     "name": "stdout",
     "output_type": "stream",
     "text": [
      "number of class 0 : 5590\n",
      "number of class 1 : 5590\n",
      "number of class 2 : 5590\n",
      "number of class 3 : 5590\n",
      "number of class 4 : 5590\n",
      "Classifier: Nearest Neighbors\n",
      "Resulting Accuracy (AVG), Recall (AVG), F-Score (AVG):\n",
      "macro   :  (0.2504848381259886, 0.32482717582095999, 0.17076050436616824, None)\n",
      "weighted:  (0.52340677352209264, 0.16931088773162165, 0.13666339971616298, None)\n",
      "-------------------------------\n",
      "Classifier: RBF SVM\n",
      "Resulting Accuracy (AVG), Recall (AVG), F-Score (AVG):\n",
      "macro   :  (0.1302410076298898, 0.20000000000000001, 0.15775267713070268, None)\n",
      "weighted:  (0.42406800171122527, 0.65120503814944897, 0.51364669064538471, None)\n",
      "-------------------------------\n",
      "Classifier: Decision Tree\n"
     ]
    },
    {
     "name": "stderr",
     "output_type": "stream",
     "text": [
      "/home/slhome/cc001/anaconda3/envs/python2/lib/python2.7/site-packages/sklearn/metrics/classification.py:1113: UndefinedMetricWarning: Precision and F-score are ill-defined and being set to 0.0 in labels with no predicted samples.\n",
      "  'precision', 'predicted', average, warn_for)\n"
     ]
    },
    {
     "name": "stdout",
     "output_type": "stream",
     "text": [
      "Resulting Accuracy (AVG), Recall (AVG), F-Score (AVG):\n",
      "macro   :  (0.28241382421937633, 0.33406576846637626, 0.26692470780384453, None)\n",
      "weighted:  (0.56597791085782789, 0.36744580356061524, 0.42156499832942923, None)\n",
      "-------------------------------\n",
      "Classifier: Random Forest\n",
      "Resulting Accuracy (AVG), Recall (AVG), F-Score (AVG):\n",
      "macro   :  (0.26628515609762449, 0.34957748491490315, 0.21752511331739766, None)\n",
      "weighted:  (0.55306116198993349, 0.25856848734407167, 0.28801272051244808, None)\n",
      "-------------------------------\n",
      "Classifier: Neural Net\n",
      "Resulting Accuracy (AVG), Recall (AVG), F-Score (AVG):\n",
      "macro   :  (0.32454651981470639, 0.36278258899119953, 0.33547705789553062, None)\n",
      "weighted:  (0.57954861679858538, 0.54341770618868834, 0.55900133207646352, None)\n",
      "-------------------------------\n",
      "Classifier: AdaBoost\n",
      "Resulting Accuracy (AVG), Recall (AVG), F-Score (AVG):\n",
      "macro   :  (0.29504710813095308, 0.37448237220974928, 0.28409575956565469, None)\n",
      "weighted:  (0.5719009521368722, 0.38573331718541842, 0.43801982188096644, None)\n",
      "-------------------------------\n",
      "Classifier: Naive Bayes\n",
      "Resulting Accuracy (AVG), Recall (AVG), F-Score (AVG):\n",
      "macro   :  (0.28089829366336794, 0.31855127063503319, 0.15493433022695957, None)\n",
      "weighted:  (0.54370871252456587, 0.16967421581688263, 0.17174051764120074, None)\n",
      "-------------------------------\n",
      "Classifier: QDA\n"
     ]
    },
    {
     "name": "stderr",
     "output_type": "stream",
     "text": [
      "/home/slhome/cc001/anaconda3/envs/python2/lib/python2.7/site-packages/sklearn/discriminant_analysis.py:695: UserWarning: Variables are collinear\n",
      "  warnings.warn(\"Variables are collinear\")\n"
     ]
    },
    {
     "name": "stdout",
     "output_type": "stream",
     "text": [
      "Resulting Accuracy (AVG), Recall (AVG), F-Score (AVG):\n",
      "macro   :  (0.32290536410833975, 0.24930750206464197, 0.22927171402679059, None)\n",
      "weighted:  (0.51200438573439166, 0.49666949255177423, 0.49002168480183766, None)\n",
      "-------------------------------\n",
      "Classifier: LDA\n",
      "Resulting Accuracy (AVG), Recall (AVG), F-Score (AVG):\n",
      "macro   :  (0.31387632154901624, 0.3933762334200086, 0.29463325528329876, None)\n",
      "weighted:  (0.60457771943693206, 0.37168463122199347, 0.42587316041872558, None)\n",
      "-------------------------------\n"
     ]
    },
    {
     "name": "stderr",
     "output_type": "stream",
     "text": [
      "/home/slhome/cc001/anaconda3/envs/python2/lib/python2.7/site-packages/sklearn/discriminant_analysis.py:387: UserWarning: Variables are collinear.\n",
      "  warnings.warn(\"Variables are collinear.\")\n"
     ]
    }
   ],
   "source": [
    "# z-score normalization + SMOTE up-sampling\n",
    "train_y_list = pickle.load(open(pickle_train_y_list))\n",
    "train_x_list = pickle.load(open(pickle_train_x_list))\n",
    "\n",
    "test_y_list = pickle.load(open(pickle_test_y_list))\n",
    "test_x_list = pickle.load(open(pickle_test_x_list))\n",
    "\n",
    "scaler = preprocessing.StandardScaler().fit(train_x_list)\n",
    "train_x_list = scaler.transform(train_x_list)\n",
    "test_x_list = scaler.transform(test_x_list)\n",
    "\n",
    "sm = SMOTE(kind='regular')\n",
    "train_x_list_smote, train_y_list_smote = sm.fit_sample(train_x_list, train_y_list)\n",
    "train_x_list_smote, train_y_list_smote = sm.fit_sample(train_x_list_smote, train_y_list_smote)\n",
    "train_x_list_smote, train_y_list_smote = sm.fit_sample(train_x_list_smote, train_y_list_smote)\n",
    "train_x_list_smote, train_y_list_smote = sm.fit_sample(train_x_list_smote, train_y_list_smote)\n",
    "train_x_list_smote, train_y_list_smote = sm.fit_sample(train_x_list_smote, train_y_list_smote)\n",
    "\n",
    "train_x_lists = [[] for i in range(5)]\n",
    "for i in xrange(len(train_y_list_smote)):\n",
    "    train_x_lists[int(train_y_list_smote[i])].append(train_x_list_smote[i])\n",
    "for i in xrange(5):\n",
    "    print 'number of class', i, ':', len(train_x_lists[i])\n",
    "\n",
    "\n",
    "for name, clf in zip(names, classifiers):\n",
    "    print 'Classifier:', name\n",
    "\n",
    "    clf.fit(train_x_list_smote, train_y_list_smote)\n",
    "    predict_y_list = clf.predict(test_x_list)\n",
    "    calc_score(test_y_list, predict_y_list)\n",
    "\n",
    "    print '-------------------------------'"
   ]
  },
  {
   "cell_type": "code",
   "execution_count": null,
   "metadata": {
    "collapsed": true
   },
   "outputs": [],
   "source": []
  },
  {
   "cell_type": "code",
   "execution_count": null,
   "metadata": {
    "collapsed": true
   },
   "outputs": [],
   "source": []
  },
  {
   "cell_type": "code",
   "execution_count": null,
   "metadata": {
    "collapsed": true
   },
   "outputs": [],
   "source": []
  },
  {
   "cell_type": "code",
   "execution_count": null,
   "metadata": {
    "collapsed": true
   },
   "outputs": [],
   "source": []
  },
  {
   "cell_type": "code",
   "execution_count": null,
   "metadata": {
    "collapsed": false
   },
   "outputs": [],
   "source": [
    "print predict_y_list[:100]"
   ]
  },
  {
   "cell_type": "code",
   "execution_count": null,
   "metadata": {
    "collapsed": false
   },
   "outputs": [],
   "source": [
    "print test_y_list[:100]"
   ]
  },
  {
   "cell_type": "code",
   "execution_count": null,
   "metadata": {
    "collapsed": true
   },
   "outputs": [],
   "source": []
  }
 ],
 "metadata": {
  "anaconda-cloud": {},
  "kernelspec": {
   "display_name": "Python [conda env:python2]",
   "language": "python",
   "name": "conda-env-python2-py"
  },
  "language_info": {
   "codemirror_mode": {
    "name": "ipython",
    "version": 2
   },
   "file_extension": ".py",
   "mimetype": "text/x-python",
   "name": "python",
   "nbconvert_exporter": "python",
   "pygments_lexer": "ipython2",
   "version": "2.7.12"
  }
 },
 "nbformat": 4,
 "nbformat_minor": 0
}
