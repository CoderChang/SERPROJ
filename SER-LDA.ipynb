{
 "cells": [
  {
   "cell_type": "code",
   "execution_count": 1,
   "metadata": {
    "collapsed": false
   },
   "outputs": [],
   "source": [
    "%matplotlib inline\n",
    "import cv2\n",
    "import matplotlib.pyplot as plt\n",
    "import logging\n",
    "\n",
    "logger = logging.getLogger()\n",
    "logger.setLevel(logging.DEBUG)"
   ]
  },
  {
   "cell_type": "code",
   "execution_count": 2,
   "metadata": {
    "collapsed": false
   },
   "outputs": [],
   "source": [
    "import mxnet as mx\n",
    "import numpy as np\n",
    "\n",
    "from sklearn import svm\n",
    "from sklearn import metrics\n",
    "from sklearn import preprocessing\n",
    "from imblearn.over_sampling import SMOTE\n",
    "from sklearn.decomposition import PCA\n",
    "from sklearn.discriminant_analysis import LinearDiscriminantAnalysis\n",
    "from sklearn.discriminant_analysis import QuadraticDiscriminantAnalysis\n",
    "\n",
    "import os\n",
    "import sys\n",
    "import math\n",
    "import time\n",
    "import pickle\n",
    "\n",
    "proj_dir = os.getcwd()\n",
    "label_dir = os.path.join(proj_dir, 'emotiondetection/features_labels_lld/labels')\n",
    "lld_dir = os.path.join(proj_dir, 'emotiondetection/features_labels_lld/lld')\n",
    "\n",
    "pickle_train_y_list = 'pickle_train_y_list'\n",
    "pickle_train_x_list = 'pickle_train_x_list'\n",
    "\n",
    "pickle_test_y_list = 'pickle_test_y_list'\n",
    "pickle_test_x_list = 'pickle_test_x_list'"
   ]
  },
  {
   "cell_type": "code",
   "execution_count": 3,
   "metadata": {
    "collapsed": false
   },
   "outputs": [],
   "source": [
    "train_y_list = pickle.load(open(pickle_train_y_list))\n",
    "train_x_list = pickle.load(open(pickle_train_x_list))\n",
    "\n",
    "test_y_list = pickle.load(open(pickle_test_y_list))\n",
    "test_x_list = pickle.load(open(pickle_test_x_list))"
   ]
  },
  {
   "cell_type": "code",
   "execution_count": 4,
   "metadata": {
    "collapsed": true
   },
   "outputs": [],
   "source": [
    "def calc_score(test_y_list, predict_y_list):\n",
    "    print \"Resulting Accuracy (AVG), Recall (AVG), F-Score (AVG):\"\n",
    "    print 'macro   : ', metrics.precision_recall_fscore_support(test_y_list, predict_y_list, average='macro')\n",
    "    print 'weighted: ', metrics.precision_recall_fscore_support(test_y_list, predict_y_list, average='weighted')"
   ]
  },
  {
   "cell_type": "code",
   "execution_count": 5,
   "metadata": {
    "collapsed": true
   },
   "outputs": [],
   "source": [
    "# z-score normalization\n",
    "# scaler = preprocessing.StandardScaler().fit(train_x_list)\n",
    "# train_x_list = scaler.transform(train_x_list)\n",
    "# test_x_list = scaler.transform(test_x_list)"
   ]
  },
  {
   "cell_type": "code",
   "execution_count": 6,
   "metadata": {
    "collapsed": false
   },
   "outputs": [],
   "source": [
    "# PCA whiten\n",
    "# pca = PCA(n_components='mle', svd_solver='full', whiten=True)\n",
    "# x_pca = pca.fit(train_x_list)\n",
    "# train_x_list = pca.transform(train_x_list)\n",
    "# test_x_list = pca.transform(test_x_list)"
   ]
  },
  {
   "cell_type": "code",
   "execution_count": 7,
   "metadata": {
    "collapsed": false
   },
   "outputs": [],
   "source": [
    "# sklearn l1/l2 normalization\n",
    "# x_normalizer = preprocessing.Normalizer(norm='l2').fit(train_x_list)\n",
    "# train_x_list = x_normalizer.transform(train_x_list)\n",
    "# test_x_list = x_normalizer.transform(test_x_list)"
   ]
  },
  {
   "cell_type": "code",
   "execution_count": 8,
   "metadata": {
    "collapsed": false
   },
   "outputs": [],
   "source": [
    "# # SMOTE up-sampling training data\n",
    "# sm = SMOTE(kind='regular')\n",
    "# train_x_list, train_y_list = sm.fit_sample(train_x_list, train_y_list)\n",
    "# train_x_list, train_y_list = sm.fit_sample(train_x_list, train_y_list)\n",
    "# train_x_list, train_y_list = sm.fit_sample(train_x_list, train_y_list)\n",
    "# train_x_list, train_y_list = sm.fit_sample(train_x_list, train_y_list)\n",
    "# train_x_list, train_y_list = sm.fit_sample(train_x_list, train_y_list)\n",
    "\n",
    "# # split training data to 5 different classes\n",
    "# train_x_lists = [[] for i in range(5)]\n",
    "# for i in xrange(len(train_y_list)):\n",
    "#     train_x_lists[int(train_y_list[i])].append(train_x_list[i])\n",
    "# for i in xrange(5):\n",
    "#     print 'number of class', i, ':', len(train_x_lists[i])"
   ]
  },
  {
   "cell_type": "code",
   "execution_count": 9,
   "metadata": {
    "collapsed": false
   },
   "outputs": [
    {
     "name": "stdout",
     "output_type": "stream",
     "text": [
      "(9959,) (9959, 384)\n",
      "(8257,) (8257, 384)\n"
     ]
    }
   ],
   "source": [
    "print train_y_list.shape, train_x_list.shape\n",
    "print test_y_list.shape, test_x_list.shape"
   ]
  },
  {
   "cell_type": "code",
   "execution_count": 10,
   "metadata": {
    "collapsed": false
   },
   "outputs": [
    {
     "name": "stdout",
     "output_type": "stream",
     "text": [
      "[  5.66733100e-03   3.11773100e-04   5.35555800e-03   5.30000000e+01\n",
      "   9.60000000e+01   1.30774500e-03   4.18643100e-06   1.09633100e-03\n",
      "   1.80239600e-06   1.34818000e-03]\n",
      "[  1.23016500e-02   9.11361400e-05   1.22105100e-02   5.20000000e+01\n",
      "   2.40000000e+01   1.31725500e-03   3.23349300e-07   1.29866300e-03\n",
      "   6.89166500e-06   2.62522000e-03]\n"
     ]
    }
   ],
   "source": [
    "print train_x_list[0][:10]\n",
    "print test_x_list[0][:10]"
   ]
  },
  {
   "cell_type": "code",
   "execution_count": null,
   "metadata": {
    "collapsed": true
   },
   "outputs": [],
   "source": []
  },
  {
   "cell_type": "code",
   "execution_count": 11,
   "metadata": {
    "collapsed": true
   },
   "outputs": [],
   "source": [
    "X = train_x_list\n",
    "y = train_y_list"
   ]
  },
  {
   "cell_type": "code",
   "execution_count": null,
   "metadata": {
    "collapsed": true
   },
   "outputs": [],
   "source": []
  },
  {
   "cell_type": "code",
   "execution_count": 12,
   "metadata": {
    "collapsed": false
   },
   "outputs": [
    {
     "name": "stdout",
     "output_type": "stream",
     "text": [
      "start: 2016-12-26 18:14:26\n",
      "Resulting Accuracy (AVG), Recall (AVG), F-Score (AVG):\n",
      "macro   :  (0.35936656041590076, 0.3375721378731863, 0.34056468342636742, None)\n",
      "weighted:  (0.58814106817086764, 0.63558193048322631, 0.60588664292089445, None)\n",
      "end: 2016-12-26 18:14:27\n"
     ]
    },
    {
     "name": "stderr",
     "output_type": "stream",
     "text": [
      "/home/slhome/cc001/anaconda3/envs/python2/lib/python2.7/site-packages/sklearn/discriminant_analysis.py:387: UserWarning: Variables are collinear.\n",
      "  warnings.warn(\"Variables are collinear.\")\n"
     ]
    }
   ],
   "source": [
    "# Linear Discriminant Analysis\n",
    "print 'start:', time.strftime( '%Y-%m-%d %H:%M:%S', time.localtime( time.time() ) )\n",
    "lda = LinearDiscriminantAnalysis(solver=\"svd\", store_covariance=True)\n",
    "predict_y_list = lda.fit(X, y).predict(test_x_list)\n",
    "calc_score(test_y_list, predict_y_list)\n",
    "\n",
    "print 'end:', time.strftime( '%Y-%m-%d %H:%M:%S', time.localtime( time.time() ) )"
   ]
  },
  {
   "cell_type": "code",
   "execution_count": null,
   "metadata": {
    "collapsed": true
   },
   "outputs": [],
   "source": []
  },
  {
   "cell_type": "code",
   "execution_count": 13,
   "metadata": {
    "collapsed": false
   },
   "outputs": [
    {
     "name": "stderr",
     "output_type": "stream",
     "text": [
      "/home/slhome/cc001/anaconda3/envs/python2/lib/python2.7/site-packages/sklearn/discriminant_analysis.py:695: UserWarning: Variables are collinear\n",
      "  warnings.warn(\"Variables are collinear\")\n"
     ]
    },
    {
     "name": "stdout",
     "output_type": "stream",
     "text": [
      "start: 2016-12-26 18:14:27\n",
      "Resulting Accuracy (AVG), Recall (AVG), F-Score (AVG):\n",
      "macro   :  (0.48686372745064377, 0.28079546552893037, 0.22556947756713636, None)\n",
      "weighted:  (0.60372976351401275, 0.39723870655201649, 0.43285330988382714, None)\n",
      "end: 2016-12-26 18:14:28\n"
     ]
    }
   ],
   "source": [
    "# Quadratic Discriminant Analysis\n",
    "print 'start:', time.strftime( '%Y-%m-%d %H:%M:%S', time.localtime( time.time() ) )\n",
    "\n",
    "qda = QuadraticDiscriminantAnalysis(store_covariances=True)\n",
    "predict_y_list = qda.fit(X, y).predict(test_x_list)\n",
    "calc_score(test_y_list, predict_y_list)\n",
    "\n",
    "print 'end:', time.strftime( '%Y-%m-%d %H:%M:%S', time.localtime( time.time() ) )"
   ]
  },
  {
   "cell_type": "code",
   "execution_count": null,
   "metadata": {
    "collapsed": true
   },
   "outputs": [],
   "source": []
  },
  {
   "cell_type": "code",
   "execution_count": null,
   "metadata": {
    "collapsed": true
   },
   "outputs": [],
   "source": []
  },
  {
   "cell_type": "code",
   "execution_count": null,
   "metadata": {
    "collapsed": true
   },
   "outputs": [],
   "source": []
  },
  {
   "cell_type": "code",
   "execution_count": 14,
   "metadata": {
    "collapsed": false
   },
   "outputs": [
    {
     "name": "stderr",
     "output_type": "stream",
     "text": [
      "No handlers could be found for logger \"imblearn.base\"\n"
     ]
    },
    {
     "name": "stdout",
     "output_type": "stream",
     "text": [
      "number of class 0 : 5590\n",
      "number of class 1 : 5590\n",
      "number of class 2 : 5590\n",
      "number of class 3 : 5590\n",
      "number of class 4 : 5590\n"
     ]
    }
   ],
   "source": [
    "# SMOTE up-sampling training data\n",
    "sm = SMOTE(kind='regular')\n",
    "train_x_list_smote, train_y_list_smote = sm.fit_sample(train_x_list, train_y_list)\n",
    "train_x_list_smote, train_y_list_smote = sm.fit_sample(train_x_list_smote, train_y_list_smote)\n",
    "train_x_list_smote, train_y_list_smote = sm.fit_sample(train_x_list_smote, train_y_list_smote)\n",
    "train_x_list_smote, train_y_list_smote = sm.fit_sample(train_x_list_smote, train_y_list_smote)\n",
    "train_x_list_smote, train_y_list_smote = sm.fit_sample(train_x_list_smote, train_y_list_smote)\n",
    "\n",
    "# split training data to 5 different classes\n",
    "train_x_lists = [[] for i in range(5)]\n",
    "for i in xrange(len(train_y_list_smote)):\n",
    "    train_x_lists[int(train_y_list_smote[i])].append(train_x_list_smote[i])\n",
    "for i in xrange(5):\n",
    "    print 'number of class', i, ':', len(train_x_lists[i])"
   ]
  },
  {
   "cell_type": "code",
   "execution_count": 15,
   "metadata": {
    "collapsed": false
   },
   "outputs": [
    {
     "name": "stdout",
     "output_type": "stream",
     "text": [
      "start: 2016-12-26 18:14:29\n",
      "Resulting Accuracy (AVG), Recall (AVG), F-Score (AVG):\n",
      "macro   :  (0.32158092597349536, 0.40633498567211018, 0.30672338417259271, None)\n",
      "weighted:  (0.61457900817162392, 0.39457430059343584, 0.44954440420234376, None)\n",
      "end: 2016-12-26 18:14:31\n"
     ]
    }
   ],
   "source": [
    "# Linear Discriminant Analysis\n",
    "print 'start:', time.strftime( '%Y-%m-%d %H:%M:%S', time.localtime( time.time() ) )\n",
    "lda = LinearDiscriminantAnalysis(solver=\"svd\", store_covariance=True)\n",
    "predict_y_list = lda.fit(train_x_list_smote, train_y_list_smote).predict(test_x_list)\n",
    "calc_score(test_y_list, predict_y_list)\n",
    "\n",
    "print 'end:', time.strftime( '%Y-%m-%d %H:%M:%S', time.localtime( time.time() ) )"
   ]
  },
  {
   "cell_type": "code",
   "execution_count": 16,
   "metadata": {
    "collapsed": false
   },
   "outputs": [
    {
     "name": "stdout",
     "output_type": "stream",
     "text": [
      "start: 2016-12-26 18:14:31\n",
      "Resulting Accuracy (AVG), Recall (AVG), F-Score (AVG):\n",
      "macro   :  (0.49342807596008953, 0.26110465396446486, 0.24265521009693697, None)\n",
      "weighted:  (0.58055464797966827, 0.52319244277582655, 0.51216583342230559, None)\n",
      "end: 2016-12-26 18:14:33\n"
     ]
    }
   ],
   "source": [
    "# Quadratic Discriminant Analysis\n",
    "print 'start:', time.strftime( '%Y-%m-%d %H:%M:%S', time.localtime( time.time() ) )\n",
    "\n",
    "qda = QuadraticDiscriminantAnalysis(store_covariances=True)\n",
    "predict_y_list = qda.fit(train_x_list_smote, train_y_list_smote).predict(test_x_list)\n",
    "calc_score(test_y_list, predict_y_list)\n",
    "\n",
    "print 'end:', time.strftime( '%Y-%m-%d %H:%M:%S', time.localtime( time.time() ) )"
   ]
  },
  {
   "cell_type": "code",
   "execution_count": null,
   "metadata": {
    "collapsed": true
   },
   "outputs": [],
   "source": []
  },
  {
   "cell_type": "code",
   "execution_count": null,
   "metadata": {
    "collapsed": true
   },
   "outputs": [],
   "source": []
  },
  {
   "cell_type": "code",
   "execution_count": null,
   "metadata": {
    "collapsed": true
   },
   "outputs": [],
   "source": []
  },
  {
   "cell_type": "code",
   "execution_count": null,
   "metadata": {
    "collapsed": true
   },
   "outputs": [],
   "source": []
  },
  {
   "cell_type": "code",
   "execution_count": 17,
   "metadata": {
    "collapsed": false
   },
   "outputs": [
    {
     "name": "stdout",
     "output_type": "stream",
     "text": [
      "[ 1.  2.  2.  2.  2.  2.  2.  2.  2.  2.  2.  2.  2.  2.  1.  2.  1.  2.\n",
      "  2.  1.  2.  2.  2.  2.  2.  2.  2.  2.  2.  2.  2.  2.  0.  1.  2.  2.\n",
      "  1.  0.  2.  0.  2.  2.  0.  1.  2.  1.  1.  1.  1.  2.  0.  2.  2.  2.\n",
      "  1.  2.  2.  2.  2.  2.  2.  1.  2.  1.  2.  1.  1.  2.  2.  2.  2.  0.\n",
      "  1.  2.  1.  2.  1.  2.  1.  1.  1.  1.  1.  1.  2.  1.  1.  1.  1.  1.\n",
      "  2.  2.  1.  2.  2.  2.  2.  1.  1.  2.]\n"
     ]
    }
   ],
   "source": [
    "print predict_y_list[:100]"
   ]
  },
  {
   "cell_type": "code",
   "execution_count": 18,
   "metadata": {
    "collapsed": false
   },
   "outputs": [
    {
     "name": "stdout",
     "output_type": "stream",
     "text": [
      "[2 2 2 2 2 4 2 2 2 2 2 2 2 2 1 1 1 2 2 2 2 2 2 2 2 2 2 2 2 2 2 2 2 2 2 1 1\n",
      " 1 2 2 2 2 2 2 2 1 1 2 1 1 2 2 2 0 1 2 2 2 2 2 2 2 2 2 2 1 1 2 2 2 2 2 2 2\n",
      " 1 1 1 2 1 1 1 1 1 2 2 1 1 1 2 1 1 2 2 2 2 2 1 1 1 2]\n"
     ]
    }
   ],
   "source": [
    "print test_y_list[:100]"
   ]
  },
  {
   "cell_type": "code",
   "execution_count": null,
   "metadata": {
    "collapsed": true
   },
   "outputs": [],
   "source": []
  }
 ],
 "metadata": {
  "anaconda-cloud": {},
  "kernelspec": {
   "display_name": "Python [conda env:python2]",
   "language": "python",
   "name": "conda-env-python2-py"
  },
  "language_info": {
   "codemirror_mode": {
    "name": "ipython",
    "version": 2
   },
   "file_extension": ".py",
   "mimetype": "text/x-python",
   "name": "python",
   "nbconvert_exporter": "python",
   "pygments_lexer": "ipython2",
   "version": "2.7.12"
  }
 },
 "nbformat": 4,
 "nbformat_minor": 0
}
