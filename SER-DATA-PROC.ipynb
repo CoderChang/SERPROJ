{
 "cells": [
  {
   "cell_type": "code",
   "execution_count": 1,
   "metadata": {
    "collapsed": false
   },
   "outputs": [],
   "source": [
    "import mxnet as mx\n",
    "import numpy as np\n",
    "\n",
    "from sklearn import svm\n",
    "from sklearn import metrics\n",
    "from sklearn import preprocessing\n",
    "from imblearn.over_sampling import SMOTE\n",
    "from sklearn.decomposition import PCA\n",
    "from sklearn.discriminant_analysis import LinearDiscriminantAnalysis\n",
    "from sklearn.discriminant_analysis import QuadraticDiscriminantAnalysis\n",
    "\n",
    "import os\n",
    "import sys\n",
    "import math\n",
    "import time\n",
    "import pickle\n",
    "\n",
    "proj_dir = os.getcwd()\n",
    "label_dir = os.path.join(proj_dir, 'emotiondetection/features_labels_lld/labels')\n",
    "lld_dir = os.path.join(proj_dir, 'emotiondetection/features_labels_lld/lld')\n",
    "\n",
    "pickle_train_y_list = 'pickle_train_y_list'\n",
    "pickle_train_x_list = 'pickle_train_x_list'\n",
    "\n",
    "pickle_test_y_list = 'pickle_test_y_list'\n",
    "pickle_test_x_list = 'pickle_test_x_list'"
   ]
  },
  {
   "cell_type": "code",
   "execution_count": 2,
   "metadata": {
    "collapsed": false
   },
   "outputs": [
    {
     "name": "stdout",
     "output_type": "stream",
     "text": [
      "train_y_dict:  9959\n",
      "test_y_dict:  8257\n"
     ]
    }
   ],
   "source": [
    "train_y_dict = {}\n",
    "with open(os.path.join(label_dir, 'train.txt'), 'r') as f:\n",
    "    for line in f.readlines():\n",
    "        line = line.strip()\n",
    "        line_list = line.split(' ')\n",
    "        train_y_dict[line_list[0]] = line_list[1]\n",
    "print 'train_y_dict: ', len(train_y_dict)\n",
    "\n",
    "test_y_dict = {}\n",
    "with open(os.path.join(label_dir, 'test.txt'), 'r') as f:\n",
    "    for line in f.readlines():\n",
    "        line_list = line.strip().split(' ')\n",
    "        test_y_dict[line_list[0]] = line_list[1]\n",
    "print 'test_y_dict: ', len(test_y_dict)"
   ]
  },
  {
   "cell_type": "code",
   "execution_count": 3,
   "metadata": {
    "collapsed": false
   },
   "outputs": [
    {
     "name": "stdout",
     "output_type": "stream",
     "text": [
      "train_x_dict:  9959\n",
      "test_x_dict:  8257\n"
     ]
    }
   ],
   "source": [
    "train_x_dict = {}\n",
    "for file_name in os.listdir(os.path.join(lld_dir, 'train')):\n",
    "    with open(os.path.join(lld_dir, 'train', file_name), 'r') as f:\n",
    "        key = file_name.split('.')[0]\n",
    "        train_x_dict[key] = [float(line.strip()) for line in f.readlines()]\n",
    "print 'train_x_dict: ', len(train_x_dict)\n",
    "\n",
    "test_x_dict = {}\n",
    "for file_name in os.listdir(os.path.join(lld_dir, 'test')):\n",
    "    with open(os.path.join(lld_dir, 'test', file_name), 'r') as f:\n",
    "        key = file_name.split('.')[0]\n",
    "        test_x_dict[key] = [float(line.strip()) for line in f.readlines()]\n",
    "print 'test_x_dict: ', len(test_x_dict)"
   ]
  },
  {
   "cell_type": "code",
   "execution_count": 4,
   "metadata": {
    "collapsed": false
   },
   "outputs": [],
   "source": [
    "def label_to_int(lb):\n",
    "    return ['A', 'E', 'N', 'P', 'R'].index(lb)"
   ]
  },
  {
   "cell_type": "code",
   "execution_count": 5,
   "metadata": {
    "collapsed": false
   },
   "outputs": [],
   "source": [
    "train_y_items = train_y_dict.items()\n",
    "train_y_list = [val[1] for val in sorted(train_y_items)]\n",
    "train_y_list = map(label_to_int, train_y_list)\n",
    "\n",
    "train_x_items = train_x_dict.items()\n",
    "train_x_list = [val[1] for val in sorted(train_x_items)]\n",
    "\n",
    "test_y_items = test_y_dict.items()\n",
    "test_y_list = [val[1] for val in sorted(test_y_items)]\n",
    "test_y_list = map(label_to_int, test_y_list)\n",
    "\n",
    "test_x_items = test_x_dict.items()\n",
    "test_x_list = [val[1] for val in sorted(test_x_items)]"
   ]
  },
  {
   "cell_type": "code",
   "execution_count": 6,
   "metadata": {
    "collapsed": false
   },
   "outputs": [],
   "source": [
    "train_y_list = np.array(train_y_list)\n",
    "train_x_list = np.array(train_x_list)\n",
    "\n",
    "test_y_list = np.array(test_y_list)\n",
    "test_x_list = np.array(test_x_list)"
   ]
  },
  {
   "cell_type": "code",
   "execution_count": 7,
   "metadata": {
    "collapsed": false
   },
   "outputs": [
    {
     "name": "stdout",
     "output_type": "stream",
     "text": [
      "(9959,) (9959, 384)\n",
      "(8257,) (8257, 384)\n"
     ]
    }
   ],
   "source": [
    "print train_y_list.shape, train_x_list.shape\n",
    "print test_y_list.shape, test_x_list.shape"
   ]
  },
  {
   "cell_type": "code",
   "execution_count": 8,
   "metadata": {
    "collapsed": false
   },
   "outputs": [],
   "source": [
    "pickle.dump(train_y_list, open('pickle_train_y_list', 'w'))\n",
    "pickle.dump(train_x_list, open('pickle_train_x_list', 'w'))\n",
    "\n",
    "pickle.dump(test_y_list, open('pickle_test_y_list', 'w'))\n",
    "pickle.dump(test_x_list, open('pickle_test_x_list', 'w'))"
   ]
  },
  {
   "cell_type": "code",
   "execution_count": null,
   "metadata": {
    "collapsed": true
   },
   "outputs": [],
   "source": []
  }
 ],
 "metadata": {
  "anaconda-cloud": {},
  "kernelspec": {
   "display_name": "Python [conda env:python2]",
   "language": "python",
   "name": "conda-env-python2-py"
  },
  "language_info": {
   "codemirror_mode": {
    "name": "ipython",
    "version": 2
   },
   "file_extension": ".py",
   "mimetype": "text/x-python",
   "name": "python",
   "nbconvert_exporter": "python",
   "pygments_lexer": "ipython2",
   "version": "2.7.12"
  }
 },
 "nbformat": 4,
 "nbformat_minor": 0
}
