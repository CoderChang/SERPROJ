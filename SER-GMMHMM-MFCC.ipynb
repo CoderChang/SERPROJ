{
 "cells": [
  {
   "cell_type": "code",
   "execution_count": null,
   "metadata": {
    "collapsed": false
   },
   "outputs": [],
   "source": [
    "%matplotlib inline\n",
    "import cv2\n",
    "import matplotlib.pyplot as plt\n",
    "import logging\n",
    "\n",
    "logger = logging.getLogger()\n",
    "logger.setLevel(logging.DEBUG)"
   ]
  },
  {
   "cell_type": "code",
   "execution_count": null,
   "metadata": {
    "collapsed": false
   },
   "outputs": [],
   "source": [
    "import mxnet as mx\n",
    "import numpy as np\n",
    "\n",
    "from sklearn import svm\n",
    "from sklearn import metrics\n",
    "from sklearn import preprocessing\n",
    "from imblearn.over_sampling import SMOTE\n",
    "from sklearn.decomposition import PCA\n",
    "from sklearn.discriminant_analysis import LinearDiscriminantAnalysis\n",
    "from sklearn.discriminant_analysis import QuadraticDiscriminantAnalysis\n",
    "\n",
    "import os\n",
    "import sys\n",
    "import math\n",
    "import time\n",
    "import pickle\n",
    "\n",
    "proj_dir = os.getcwd()\n",
    "label_dir = os.path.join(proj_dir, 'emotiondetection/features_labels_lld/labels')\n",
    "lld_dir = os.path.join(proj_dir, 'emotiondetection/features_labels_lld/lld')\n",
    "\n",
    "pickle_train_y_list = 'pickle_train_y_list'\n",
    "pickle_train_x_list = 'pickle_train_x_list'\n",
    "\n",
    "pickle_test_y_list = 'pickle_test_y_list'\n",
    "pickle_test_x_list = 'pickle_test_x_list'"
   ]
  },
  {
   "cell_type": "code",
   "execution_count": null,
   "metadata": {
    "collapsed": true
   },
   "outputs": [],
   "source": [
    "mfcc_dir = os.path.join(proj_dir, 'emotiondetection/mfcc_csv')\n",
    "\n",
    "pickle_train_mfcc_x_list = 'pickle_train_mfcc_x_list'\n",
    "\n",
    "pickle_test_mfcc_x_list = 'pickle_test_mfcc_x_list'"
   ]
  },
  {
   "cell_type": "code",
   "execution_count": null,
   "metadata": {
    "collapsed": false
   },
   "outputs": [],
   "source": [
    "train_y_list = pickle.load(open(pickle_train_y_list))\n",
    "train_x_list = pickle.load(open(pickle_train_x_list))\n",
    "\n",
    "test_y_list = pickle.load(open(pickle_test_y_list))\n",
    "test_x_list = pickle.load(open(pickle_test_x_list))\n",
    "\n",
    "\n",
    "train_mfcc_x_list = pickle.load(open(pickle_train_mfcc_x_list))\n",
    "\n",
    "test_mfcc_x_list = pickle.load(open(pickle_test_mfcc_x_list))"
   ]
  },
  {
   "cell_type": "code",
   "execution_count": null,
   "metadata": {
    "collapsed": true
   },
   "outputs": [],
   "source": [
    "def calc_score(test_y_list, predict_y_list):\n",
    "    print \"Resulting Accuracy (AVG), Recall (AVG), F-Score (AVG):\"\n",
    "    print 'macro   : ', metrics.precision_recall_fscore_support(test_y_list, predict_y_list, average='macro')\n",
    "    print 'weighted: ', metrics.precision_recall_fscore_support(test_y_list, predict_y_list, average='weighted')"
   ]
  },
  {
   "cell_type": "code",
   "execution_count": null,
   "metadata": {
    "collapsed": true
   },
   "outputs": [],
   "source": [
    "# z-score normalization\n",
    "# scaler = preprocessing.StandardScaler().fit(train_x_list)\n",
    "# train_x_list = scaler.transform(train_x_list)\n",
    "# test_x_list = scaler.transform(test_x_list)"
   ]
  },
  {
   "cell_type": "code",
   "execution_count": null,
   "metadata": {
    "collapsed": false
   },
   "outputs": [],
   "source": [
    "# PCA whiten\n",
    "# pca = PCA(n_components='mle', svd_solver='full', whiten=True)\n",
    "# x_pca = pca.fit(train_x_list)\n",
    "# train_x_list = pca.transform(train_x_list)\n",
    "# test_x_list = pca.transform(test_x_list)"
   ]
  },
  {
   "cell_type": "code",
   "execution_count": null,
   "metadata": {
    "collapsed": false
   },
   "outputs": [],
   "source": [
    "# sklearn l1/l2 normalization\n",
    "# x_normalizer = preprocessing.Normalizer(norm='l2').fit(train_x_list)\n",
    "# train_x_list = x_normalizer.transform(train_x_list)\n",
    "# test_x_list = x_normalizer.transform(test_x_list)"
   ]
  },
  {
   "cell_type": "code",
   "execution_count": null,
   "metadata": {
    "collapsed": false
   },
   "outputs": [],
   "source": [
    "# # SMOTE up-sampling training data\n",
    "# sm = SMOTE(kind='regular')\n",
    "# train_x_list, train_y_list = sm.fit_sample(train_x_list, train_y_list)\n",
    "# train_x_list, train_y_list = sm.fit_sample(train_x_list, train_y_list)\n",
    "# train_x_list, train_y_list = sm.fit_sample(train_x_list, train_y_list)\n",
    "# train_x_list, train_y_list = sm.fit_sample(train_x_list, train_y_list)\n",
    "# train_x_list, train_y_list = sm.fit_sample(train_x_list, train_y_list)\n",
    "\n",
    "# # split training data to 5 different classes\n",
    "# train_x_lists = [[] for i in range(5)]\n",
    "# for i in xrange(len(train_y_list)):\n",
    "#     train_x_lists[int(train_y_list[i])].append(train_x_list[i])\n",
    "# for i in xrange(5):\n",
    "#     print 'number of class', i, ':', len(train_x_lists[i])"
   ]
  },
  {
   "cell_type": "code",
   "execution_count": null,
   "metadata": {
    "collapsed": false
   },
   "outputs": [],
   "source": [
    "print train_y_list.shape, train_x_list.shape\n",
    "print test_y_list.shape, test_x_list.shape"
   ]
  },
  {
   "cell_type": "code",
   "execution_count": null,
   "metadata": {
    "collapsed": false
   },
   "outputs": [],
   "source": [
    "print train_x_list[0][:10]\n",
    "print test_x_list[0][:10]"
   ]
  },
  {
   "cell_type": "code",
   "execution_count": null,
   "metadata": {
    "collapsed": true
   },
   "outputs": [],
   "source": []
  },
  {
   "cell_type": "code",
   "execution_count": null,
   "metadata": {
    "collapsed": true
   },
   "outputs": [],
   "source": [
    "X = train_x_list\n",
    "y = train_y_list"
   ]
  },
  {
   "cell_type": "code",
   "execution_count": null,
   "metadata": {
    "collapsed": true
   },
   "outputs": [],
   "source": []
  },
  {
   "cell_type": "code",
   "execution_count": null,
   "metadata": {
    "collapsed": true
   },
   "outputs": [],
   "source": [
    "from hmmlearn.hmm import GaussianHMM\n",
    "from hmmlearn.hmm import GMMHMM\n",
    "import warnings\n",
    "warnings.filterwarnings(\"ignore\", category=DeprecationWarning) "
   ]
  },
  {
   "cell_type": "code",
   "execution_count": null,
   "metadata": {
    "collapsed": false
   },
   "outputs": [],
   "source": [
    "# split training data to 5 different classes\n",
    "train_mfcc_x_lists = [[] for i in range(5)]\n",
    "for i in xrange(len(train_y_list)):\n",
    "    train_mfcc_x_lists[int(train_y_list[i])].append(train_mfcc_x_list[i])\n",
    "for i in xrange(5):\n",
    "    print 'number of class', i, ':', len(train_mfcc_x_lists[i])"
   ]
  },
  {
   "cell_type": "code",
   "execution_count": null,
   "metadata": {
    "collapsed": true
   },
   "outputs": [],
   "source": []
  },
  {
   "cell_type": "code",
   "execution_count": null,
   "metadata": {
    "collapsed": false
   },
   "outputs": [],
   "source": [
    "print len(train_mfcc_x_lists[0])\n",
    "print train_mfcc_x_lists[0][0].shape\n",
    "print train_mfcc_x_lists[0][1].shape"
   ]
  },
  {
   "cell_type": "code",
   "execution_count": null,
   "metadata": {
    "collapsed": true
   },
   "outputs": [],
   "source": [
    "\n",
    "\n"
   ]
  },
  {
   "cell_type": "code",
   "execution_count": null,
   "metadata": {
    "collapsed": false
   },
   "outputs": [],
   "source": [
    "# n_mix_list = [1, 3]\n",
    "# n_components_list = [32, 512]\n",
    "\n",
    "n_mix_list = [1]\n",
    "n_components_list = [32]\n",
    "\n",
    "for n1 in n_mix_list:\n",
    "    for n2 in n_components_list:\n",
    "        print '(GMMHMM) ', 'n_mix:', n1, ';',  'n_components:', n2\n",
    "        \n",
    "        # train models and get scores\n",
    "        models = []\n",
    "        scores = []\n",
    "        for i in range(5):\n",
    "            list_X = train_mfcc_x_lists[i]\n",
    "            X = np.concatenate(list_X)\n",
    "            X_lengths = np.array([len(tmp) for tmp in list_X])\n",
    "            model = GMMHMM(n_mix=n1, n_components=n2).fit(X, X_lengths)\n",
    "            models.append(model)\n",
    "\n",
    "            score = []\n",
    "            for XX in test_mfcc_x_list:\n",
    "                score.append(model.score(np.array(XX), [len(XX)]))\n",
    "            scores.append(score)\n",
    "\n",
    "        predict_y_list = np.argmax(np.array(scores).T, axis = 1)\n",
    "        calc_score(test_y_list, predict_y_list.tolist())\n",
    "        \n",
    "        if not os.path.exists('results') or not os.path.isdir('results'):\n",
    "            os.path.mkdir('results')\n",
    "        save_result_path = 'results/gmmhmm_' + str(n1) + '_' + str(n2) + '_predict_y_list.pickle'\n",
    "        pickle.dump(predict_y_list, open(save_result_path, 'w'))\n",
    "        \n",
    "        print '-----------------------'"
   ]
  },
  {
   "cell_type": "code",
   "execution_count": null,
   "metadata": {
    "collapsed": true
   },
   "outputs": [],
   "source": []
  },
  {
   "cell_type": "code",
   "execution_count": null,
   "metadata": {
    "collapsed": true
   },
   "outputs": [],
   "source": []
  },
  {
   "cell_type": "code",
   "execution_count": null,
   "metadata": {
    "collapsed": true
   },
   "outputs": [],
   "source": []
  },
  {
   "cell_type": "code",
   "execution_count": null,
   "metadata": {
    "collapsed": false
   },
   "outputs": [],
   "source": [
    "print predict_y_list[:100]"
   ]
  },
  {
   "cell_type": "code",
   "execution_count": null,
   "metadata": {
    "collapsed": false
   },
   "outputs": [],
   "source": [
    "print test_y_list[:100]"
   ]
  },
  {
   "cell_type": "code",
   "execution_count": null,
   "metadata": {
    "collapsed": true
   },
   "outputs": [],
   "source": []
  }
 ],
 "metadata": {
  "anaconda-cloud": {},
  "kernelspec": {
   "display_name": "Python [conda env:python2]",
   "language": "python",
   "name": "conda-env-python2-py"
  },
  "language_info": {
   "codemirror_mode": {
    "name": "ipython",
    "version": 2
   },
   "file_extension": ".py",
   "mimetype": "text/x-python",
   "name": "python",
   "nbconvert_exporter": "python",
   "pygments_lexer": "ipython2",
   "version": "2.7.12"
  }
 },
 "nbformat": 4,
 "nbformat_minor": 0
}
