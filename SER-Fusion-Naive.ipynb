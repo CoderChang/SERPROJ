{
 "cells": [
  {
   "cell_type": "code",
   "execution_count": 1,
   "metadata": {
    "collapsed": false
   },
   "outputs": [],
   "source": [
    "%matplotlib inline\n",
    "import cv2\n",
    "import matplotlib.pyplot as plt\n",
    "import logging\n",
    "\n",
    "logger = logging.getLogger()\n",
    "logger.setLevel(logging.DEBUG)"
   ]
  },
  {
   "cell_type": "code",
   "execution_count": 2,
   "metadata": {
    "collapsed": false
   },
   "outputs": [],
   "source": [
    "import mxnet as mx\n",
    "import numpy as np\n",
    "\n",
    "from sklearn import svm\n",
    "from sklearn import metrics\n",
    "from sklearn import preprocessing\n",
    "from imblearn.over_sampling import SMOTE\n",
    "from sklearn.decomposition import PCA\n",
    "from sklearn.discriminant_analysis import LinearDiscriminantAnalysis\n",
    "from sklearn.discriminant_analysis import QuadraticDiscriminantAnalysis\n",
    "\n",
    "import os\n",
    "import sys\n",
    "import math\n",
    "import time\n",
    "import pickle\n",
    "\n",
    "proj_dir = os.getcwd()\n",
    "label_dir = os.path.join(proj_dir, 'emotiondetection/features_labels_lld/labels')\n",
    "lld_dir = os.path.join(proj_dir, 'emotiondetection/features_labels_lld/lld')\n",
    "\n",
    "pickle_train_y_list = 'pickle_train_y_list'\n",
    "pickle_train_x_list = 'pickle_train_x_list'\n",
    "\n",
    "pickle_test_y_list = 'pickle_test_y_list'\n",
    "pickle_test_x_list = 'pickle_test_x_list'"
   ]
  },
  {
   "cell_type": "code",
   "execution_count": 3,
   "metadata": {
    "collapsed": false
   },
   "outputs": [
    {
     "name": "stdout",
     "output_type": "stream",
     "text": [
      "{0: 881, 1: 2093, 2: 5590, 3: 674, 4: 721}\n"
     ]
    }
   ],
   "source": [
    "train_y_list = pickle.load(open(pickle_train_y_list))\n",
    "train_x_list = pickle.load(open(pickle_train_x_list))\n",
    "\n",
    "test_y_list = pickle.load(open(pickle_test_y_list))\n",
    "test_x_list = pickle.load(open(pickle_test_x_list))\n",
    "\n",
    "from collections import Counter\n",
    "label_count_dict = dict(Counter(train_y_list).most_common())\n",
    "print label_count_dict"
   ]
  },
  {
   "cell_type": "code",
   "execution_count": 4,
   "metadata": {
    "collapsed": true
   },
   "outputs": [],
   "source": [
    "def calc_score(test_y_list, predict_y_list):\n",
    "    print \"Resulting Accuracy (AVG), Recall (AVG), F-Score (AVG):\"\n",
    "    print 'macro   : ', metrics.precision_recall_fscore_support(test_y_list, predict_y_list, average='macro')\n",
    "    print 'weighted: ', metrics.precision_recall_fscore_support(test_y_list, predict_y_list, average='weighted')"
   ]
  },
  {
   "cell_type": "code",
   "execution_count": 5,
   "metadata": {
    "collapsed": true
   },
   "outputs": [],
   "source": [
    "# z-score normalization\n",
    "# scaler = preprocessing.StandardScaler().fit(train_x_list)\n",
    "# train_x_list = scaler.transform(train_x_list)\n",
    "# test_x_list = scaler.transform(test_x_list)"
   ]
  },
  {
   "cell_type": "code",
   "execution_count": 6,
   "metadata": {
    "collapsed": false
   },
   "outputs": [],
   "source": [
    "# PCA whiten\n",
    "# pca = PCA(n_components='mle', svd_solver='full', whiten=True)\n",
    "# x_pca = pca.fit(train_x_list)\n",
    "# train_x_list = pca.transform(train_x_list)\n",
    "# test_x_list = pca.transform(test_x_list)"
   ]
  },
  {
   "cell_type": "code",
   "execution_count": 7,
   "metadata": {
    "collapsed": false
   },
   "outputs": [],
   "source": [
    "# sklearn l1/l2 normalization\n",
    "# x_normalizer = preprocessing.Normalizer(norm='l2').fit(train_x_list)\n",
    "# train_x_list = x_normalizer.transform(train_x_list)\n",
    "# test_x_list = x_normalizer.transform(test_x_list)"
   ]
  },
  {
   "cell_type": "code",
   "execution_count": 8,
   "metadata": {
    "collapsed": false
   },
   "outputs": [],
   "source": [
    "# # SMOTE up-sampling training data\n",
    "# sm = SMOTE(kind='regular')\n",
    "# train_x_list, train_y_list = sm.fit_sample(train_x_list, train_y_list)\n",
    "# train_x_list, train_y_list = sm.fit_sample(train_x_list, train_y_list)\n",
    "# train_x_list, train_y_list = sm.fit_sample(train_x_list, train_y_list)\n",
    "# train_x_list, train_y_list = sm.fit_sample(train_x_list, train_y_list)\n",
    "# train_x_list, train_y_list = sm.fit_sample(train_x_list, train_y_list)\n",
    "\n",
    "# # split training data to 5 different classes\n",
    "# train_x_lists = [[] for i in range(5)]\n",
    "# for i in xrange(len(train_y_list)):\n",
    "#     train_x_lists[int(train_y_list[i])].append(train_x_list[i])\n",
    "# for i in xrange(5):\n",
    "#     print 'number of class', i, ':', len(train_x_lists[i])"
   ]
  },
  {
   "cell_type": "code",
   "execution_count": 9,
   "metadata": {
    "collapsed": false
   },
   "outputs": [
    {
     "name": "stdout",
     "output_type": "stream",
     "text": [
      "(9959,) (9959, 384)\n",
      "(8257,) (8257, 384)\n"
     ]
    }
   ],
   "source": [
    "print train_y_list.shape, train_x_list.shape\n",
    "print test_y_list.shape, test_x_list.shape"
   ]
  },
  {
   "cell_type": "code",
   "execution_count": 10,
   "metadata": {
    "collapsed": false
   },
   "outputs": [
    {
     "name": "stdout",
     "output_type": "stream",
     "text": [
      "[  5.66733100e-03   3.11773100e-04   5.35555800e-03   5.30000000e+01\n",
      "   9.60000000e+01   1.30774500e-03   4.18643100e-06   1.09633100e-03\n",
      "   1.80239600e-06   1.34818000e-03]\n",
      "[  1.23016500e-02   9.11361400e-05   1.22105100e-02   5.20000000e+01\n",
      "   2.40000000e+01   1.31725500e-03   3.23349300e-07   1.29866300e-03\n",
      "   6.89166500e-06   2.62522000e-03]\n"
     ]
    }
   ],
   "source": [
    "print train_x_list[0][:10]\n",
    "print test_x_list[0][:10]"
   ]
  },
  {
   "cell_type": "code",
   "execution_count": null,
   "metadata": {
    "collapsed": true
   },
   "outputs": [],
   "source": []
  },
  {
   "cell_type": "code",
   "execution_count": 11,
   "metadata": {
    "collapsed": true
   },
   "outputs": [],
   "source": [
    "X = train_x_list\n",
    "y = train_y_list"
   ]
  },
  {
   "cell_type": "code",
   "execution_count": 12,
   "metadata": {
    "collapsed": true
   },
   "outputs": [],
   "source": [
    "# record all predict_y\n",
    "predict_y_lists = []"
   ]
  },
  {
   "cell_type": "code",
   "execution_count": null,
   "metadata": {
    "collapsed": true
   },
   "outputs": [],
   "source": []
  },
  {
   "cell_type": "code",
   "execution_count": 13,
   "metadata": {
    "collapsed": false
   },
   "outputs": [
    {
     "name": "stdout",
     "output_type": "stream",
     "text": [
      "number of class 0 : 881\n",
      "number of class 1 : 2093\n",
      "number of class 2 : 5590\n",
      "number of class 3 : 674\n",
      "number of class 4 : 721\n"
     ]
    },
    {
     "name": "stderr",
     "output_type": "stream",
     "text": [
      "/home/slhome/cc001/anaconda3/envs/python2/lib/python2.7/site-packages/hmmlearn/hmm.py:593: RuntimeWarning: divide by zero encountered in log\n",
      "  lgmm_posteriors = (np.log(g.predict_proba(X))\n"
     ]
    },
    {
     "name": "stdout",
     "output_type": "stream",
     "text": [
      "Resulting Accuracy (AVG), Recall (AVG), F-Score (AVG):\n",
      "macro   :  (0.30919651271699855, 0.31874470182958359, 0.31065820289388463, None)\n",
      "weighted:  (0.54635336739904294, 0.52537241128739254, 0.5330757944804223, None)\n"
     ]
    }
   ],
   "source": [
    "from hmmlearn.hmm import GMMHMM\n",
    "import warnings\n",
    "warnings.filterwarnings(\"ignore\", category=DeprecationWarning) \n",
    "\n",
    "# split training data to 5 different classes\n",
    "train_x_lists = [[] for i in range(5)]\n",
    "for i in xrange(len(train_y_list)):\n",
    "    train_x_lists[int(train_y_list[i])].append(train_x_list[i])\n",
    "for i in xrange(5):\n",
    "    print 'number of class', i, ':', len(train_x_lists[i])\n",
    "\n",
    "# train models and get scores\n",
    "models = []\n",
    "scores = []\n",
    "for i in range(5):\n",
    "    X = np.array(train_x_lists[i])\n",
    "    model = GMMHMM(n_mix=6, n_components=1).fit(X)\n",
    "    models.append(model)\n",
    "\n",
    "    score = []\n",
    "    for XX in test_x_list:\n",
    "        score.append(model.score(np.array(XX)))\n",
    "    scores.append(score)\n",
    "\n",
    "predict_y_list = np.argmax(np.array(scores).T, axis = 1)\n",
    "calc_score(test_y_list, predict_y_list.tolist())"
   ]
  },
  {
   "cell_type": "code",
   "execution_count": 14,
   "metadata": {
    "collapsed": true
   },
   "outputs": [],
   "source": [
    "predict_y_lists.append(predict_y_list)"
   ]
  },
  {
   "cell_type": "code",
   "execution_count": null,
   "metadata": {
    "collapsed": true
   },
   "outputs": [],
   "source": []
  },
  {
   "cell_type": "code",
   "execution_count": 16,
   "metadata": {
    "collapsed": false
   },
   "outputs": [
    {
     "name": "stdout",
     "output_type": "stream",
     "text": [
      "start: 2016-12-27 13:20:28\n",
      "Resulting Accuracy (AVG), Recall (AVG), F-Score (AVG):\n",
      "macro   :  (0.35936656041590076, 0.3375721378731863, 0.34056468342636742, None)\n",
      "weighted:  (0.58814106817086764, 0.63558193048322631, 0.60588664292089445, None)\n",
      "end: 2016-12-27 13:20:29\n"
     ]
    },
    {
     "name": "stderr",
     "output_type": "stream",
     "text": [
      "/home/slhome/cc001/anaconda3/envs/python2/lib/python2.7/site-packages/sklearn/discriminant_analysis.py:387: UserWarning: Variables are collinear.\n",
      "  warnings.warn(\"Variables are collinear.\")\n"
     ]
    }
   ],
   "source": [
    "# Linear Discriminant Analysis\n",
    "print 'start:', time.strftime( '%Y-%m-%d %H:%M:%S', time.localtime( time.time() ) )\n",
    "lda = LinearDiscriminantAnalysis(solver=\"svd\", store_covariance=True)\n",
    "predict_y_list = lda.fit(train_x_list, train_y_list).predict(test_x_list)\n",
    "calc_score(test_y_list, predict_y_list)\n",
    "\n",
    "print 'end:', time.strftime( '%Y-%m-%d %H:%M:%S', time.localtime( time.time() ) )"
   ]
  },
  {
   "cell_type": "code",
   "execution_count": 17,
   "metadata": {
    "collapsed": true
   },
   "outputs": [],
   "source": [
    "predict_y_lists.append(predict_y_list)"
   ]
  },
  {
   "cell_type": "code",
   "execution_count": null,
   "metadata": {
    "collapsed": true
   },
   "outputs": [],
   "source": []
  },
  {
   "cell_type": "code",
   "execution_count": 18,
   "metadata": {
    "collapsed": true
   },
   "outputs": [],
   "source": [
    "# z-score normalization\n",
    "scaler = preprocessing.StandardScaler().fit(train_x_list)\n",
    "train_x_list = scaler.transform(train_x_list)\n",
    "test_x_list = scaler.transform(test_x_list)"
   ]
  },
  {
   "cell_type": "code",
   "execution_count": null,
   "metadata": {
    "collapsed": true
   },
   "outputs": [],
   "source": []
  },
  {
   "cell_type": "code",
   "execution_count": 19,
   "metadata": {
    "collapsed": false
   },
   "outputs": [
    {
     "name": "stderr",
     "output_type": "stream",
     "text": [
      "INFO:root:Start training with [cpu(0)]\n"
     ]
    },
    {
     "name": "stdout",
     "output_type": "stream",
     "text": [
      "start: 2016-12-27 13:20:29\n"
     ]
    },
    {
     "name": "stderr",
     "output_type": "stream",
     "text": [
      "INFO:root:Epoch[0] Resetting Data Iterator\n",
      "INFO:root:Epoch[0] Time cost=0.184\n",
      "INFO:root:Epoch[0] Validation-accuracy=0.636118\n",
      "INFO:root:Epoch[1] Resetting Data Iterator\n",
      "INFO:root:Epoch[1] Time cost=0.199\n",
      "INFO:root:Epoch[1] Validation-accuracy=0.567294\n",
      "INFO:root:Epoch[2] Resetting Data Iterator\n",
      "INFO:root:Epoch[2] Time cost=0.132\n",
      "INFO:root:Epoch[2] Validation-accuracy=0.569176\n",
      "INFO:root:Epoch[3] Resetting Data Iterator\n",
      "INFO:root:Epoch[3] Time cost=0.180\n",
      "INFO:root:Epoch[3] Validation-accuracy=0.542824\n",
      "INFO:root:Epoch[4] Resetting Data Iterator\n",
      "INFO:root:Epoch[4] Time cost=0.187\n",
      "INFO:root:Epoch[4] Validation-accuracy=0.629059\n",
      "INFO:root:Epoch[5] Resetting Data Iterator\n",
      "INFO:root:Epoch[5] Time cost=0.218\n",
      "INFO:root:Epoch[5] Validation-accuracy=0.614118\n",
      "INFO:root:Epoch[6] Resetting Data Iterator\n",
      "INFO:root:Epoch[6] Time cost=0.124\n",
      "INFO:root:Epoch[6] Validation-accuracy=0.631412\n",
      "INFO:root:Epoch[7] Resetting Data Iterator\n",
      "INFO:root:Epoch[7] Time cost=0.130\n",
      "INFO:root:Epoch[7] Validation-accuracy=0.614588\n",
      "INFO:root:Epoch[8] Resetting Data Iterator\n",
      "INFO:root:Epoch[8] Time cost=0.129\n",
      "INFO:root:Epoch[8] Validation-accuracy=0.609294\n",
      "INFO:root:Epoch[9] Resetting Data Iterator\n",
      "INFO:root:Epoch[9] Time cost=0.125\n",
      "INFO:root:Epoch[9] Validation-accuracy=0.596471\n",
      "INFO:root:Epoch[10] Resetting Data Iterator\n",
      "INFO:root:Epoch[10] Time cost=0.128\n",
      "INFO:root:Epoch[10] Validation-accuracy=0.585412\n",
      "INFO:root:Epoch[11] Resetting Data Iterator\n",
      "INFO:root:Epoch[11] Time cost=0.127\n",
      "INFO:root:Epoch[11] Validation-accuracy=0.624118\n",
      "INFO:root:Epoch[12] Resetting Data Iterator\n",
      "INFO:root:Epoch[12] Time cost=0.175\n",
      "INFO:root:Epoch[12] Validation-accuracy=0.628118\n",
      "INFO:root:Epoch[13] Resetting Data Iterator\n",
      "INFO:root:Epoch[13] Time cost=0.124\n",
      "INFO:root:Epoch[13] Validation-accuracy=0.532706\n",
      "INFO:root:Epoch[14] Resetting Data Iterator\n",
      "INFO:root:Epoch[14] Time cost=0.178\n",
      "INFO:root:Epoch[14] Validation-accuracy=0.436118\n",
      "INFO:root:Epoch[15] Resetting Data Iterator\n",
      "INFO:root:Epoch[15] Time cost=0.173\n",
      "INFO:root:Epoch[15] Validation-accuracy=0.608824\n",
      "INFO:root:Epoch[16] Resetting Data Iterator\n",
      "INFO:root:Epoch[16] Time cost=0.175\n",
      "INFO:root:Epoch[16] Validation-accuracy=0.622118\n",
      "INFO:root:Epoch[17] Resetting Data Iterator\n",
      "INFO:root:Epoch[17] Time cost=0.174\n",
      "INFO:root:Epoch[17] Validation-accuracy=0.576471\n",
      "INFO:root:Epoch[18] Resetting Data Iterator\n",
      "INFO:root:Epoch[18] Time cost=0.128\n",
      "INFO:root:Epoch[18] Validation-accuracy=0.619647\n",
      "INFO:root:Epoch[19] Resetting Data Iterator\n",
      "INFO:root:Epoch[19] Time cost=0.126\n",
      "INFO:root:Epoch[19] Validation-accuracy=0.489294\n",
      "INFO:root:Epoch[20] Resetting Data Iterator\n",
      "INFO:root:Epoch[20] Time cost=0.125\n",
      "INFO:root:Epoch[20] Validation-accuracy=0.616353\n",
      "INFO:root:Epoch[21] Resetting Data Iterator\n",
      "INFO:root:Epoch[21] Time cost=0.189\n",
      "INFO:root:Epoch[21] Validation-accuracy=0.596588\n",
      "INFO:root:Epoch[22] Resetting Data Iterator\n",
      "INFO:root:Epoch[22] Time cost=0.177\n",
      "INFO:root:Epoch[22] Validation-accuracy=0.464706\n",
      "INFO:root:Epoch[23] Resetting Data Iterator\n",
      "INFO:root:Epoch[23] Time cost=0.175\n",
      "INFO:root:Epoch[23] Validation-accuracy=0.590706\n",
      "INFO:root:Epoch[24] Resetting Data Iterator\n",
      "INFO:root:Epoch[24] Time cost=0.173\n",
      "INFO:root:Epoch[24] Validation-accuracy=0.616118\n",
      "INFO:root:Epoch[25] Resetting Data Iterator\n",
      "INFO:root:Epoch[25] Time cost=0.223\n",
      "INFO:root:Epoch[25] Validation-accuracy=0.532118\n",
      "INFO:root:Epoch[26] Resetting Data Iterator\n",
      "INFO:root:Epoch[26] Time cost=0.148\n",
      "INFO:root:Epoch[26] Validation-accuracy=0.548000\n",
      "INFO:root:Epoch[27] Resetting Data Iterator\n",
      "INFO:root:Epoch[27] Time cost=0.133\n",
      "INFO:root:Epoch[27] Validation-accuracy=0.612824\n",
      "INFO:root:Epoch[28] Resetting Data Iterator\n",
      "INFO:root:Epoch[28] Time cost=0.182\n",
      "INFO:root:Epoch[28] Validation-accuracy=0.535176\n",
      "INFO:root:Epoch[29] Resetting Data Iterator\n",
      "INFO:root:Epoch[29] Time cost=0.176\n",
      "INFO:root:Epoch[29] Validation-accuracy=0.465529\n",
      "INFO:root:Epoch[30] Resetting Data Iterator\n",
      "INFO:root:Epoch[30] Time cost=0.177\n",
      "INFO:root:Epoch[30] Validation-accuracy=0.595412\n",
      "INFO:root:Epoch[31] Resetting Data Iterator\n",
      "INFO:root:Epoch[31] Time cost=0.155\n",
      "INFO:root:Epoch[31] Validation-accuracy=0.565647\n",
      "INFO:root:Epoch[32] Resetting Data Iterator\n",
      "INFO:root:Epoch[32] Time cost=0.128\n",
      "INFO:root:Epoch[32] Validation-accuracy=0.508706\n",
      "INFO:root:Epoch[33] Resetting Data Iterator\n",
      "INFO:root:Epoch[33] Time cost=0.133\n",
      "INFO:root:Epoch[33] Validation-accuracy=0.589294\n",
      "INFO:root:Epoch[34] Resetting Data Iterator\n",
      "INFO:root:Epoch[34] Time cost=0.179\n",
      "INFO:root:Epoch[34] Validation-accuracy=0.563765\n",
      "INFO:root:Epoch[35] Resetting Data Iterator\n",
      "INFO:root:Epoch[35] Time cost=0.178\n",
      "INFO:root:Epoch[35] Validation-accuracy=0.599529\n",
      "INFO:root:Epoch[36] Resetting Data Iterator\n",
      "INFO:root:Epoch[36] Time cost=0.177\n",
      "INFO:root:Epoch[36] Validation-accuracy=0.562118\n",
      "INFO:root:Epoch[37] Resetting Data Iterator\n",
      "INFO:root:Epoch[37] Time cost=0.175\n",
      "INFO:root:Epoch[37] Validation-accuracy=0.585529\n",
      "INFO:root:Epoch[38] Resetting Data Iterator\n",
      "INFO:root:Epoch[38] Time cost=0.174\n",
      "INFO:root:Epoch[38] Validation-accuracy=0.589412\n",
      "INFO:root:Epoch[39] Resetting Data Iterator\n",
      "INFO:root:Epoch[39] Time cost=0.136\n",
      "INFO:root:Epoch[39] Validation-accuracy=0.600941\n",
      "INFO:root:Epoch[40] Resetting Data Iterator\n",
      "INFO:root:Epoch[40] Time cost=0.173\n",
      "INFO:root:Epoch[40] Validation-accuracy=0.607765\n",
      "INFO:root:Epoch[41] Resetting Data Iterator\n",
      "INFO:root:Epoch[41] Time cost=0.171\n",
      "INFO:root:Epoch[41] Validation-accuracy=0.623882\n",
      "INFO:root:Epoch[42] Resetting Data Iterator\n",
      "INFO:root:Epoch[42] Time cost=0.172\n",
      "INFO:root:Epoch[42] Validation-accuracy=0.631176\n",
      "INFO:root:Epoch[43] Resetting Data Iterator\n",
      "INFO:root:Epoch[43] Time cost=0.172\n",
      "INFO:root:Epoch[43] Validation-accuracy=0.597176\n",
      "INFO:root:Epoch[44] Resetting Data Iterator\n",
      "INFO:root:Epoch[44] Time cost=0.172\n",
      "INFO:root:Epoch[44] Validation-accuracy=0.603529\n",
      "INFO:root:Epoch[45] Resetting Data Iterator\n",
      "INFO:root:Epoch[45] Time cost=0.188\n",
      "INFO:root:Epoch[45] Validation-accuracy=0.610118\n",
      "INFO:root:Epoch[46] Resetting Data Iterator\n",
      "INFO:root:Epoch[46] Time cost=0.173\n",
      "INFO:root:Epoch[46] Validation-accuracy=0.601294\n",
      "INFO:root:Epoch[47] Resetting Data Iterator\n",
      "INFO:root:Epoch[47] Time cost=0.159\n",
      "INFO:root:Epoch[47] Validation-accuracy=0.622118\n",
      "INFO:root:Epoch[48] Resetting Data Iterator\n",
      "INFO:root:Epoch[48] Time cost=0.207\n",
      "INFO:root:Epoch[48] Validation-accuracy=0.563765\n",
      "INFO:root:Epoch[49] Resetting Data Iterator\n",
      "INFO:root:Epoch[49] Time cost=0.173\n",
      "INFO:root:Epoch[49] Validation-accuracy=0.600588\n",
      "INFO:root:Epoch[50] Resetting Data Iterator\n",
      "INFO:root:Epoch[50] Time cost=0.201\n",
      "INFO:root:Epoch[50] Validation-accuracy=0.521412\n",
      "INFO:root:Epoch[51] Resetting Data Iterator\n",
      "INFO:root:Epoch[51] Time cost=0.180\n",
      "INFO:root:Epoch[51] Validation-accuracy=0.572118\n",
      "INFO:root:Epoch[52] Resetting Data Iterator\n",
      "INFO:root:Epoch[52] Time cost=0.173\n",
      "INFO:root:Epoch[52] Validation-accuracy=0.572471\n",
      "INFO:root:Epoch[53] Resetting Data Iterator\n",
      "INFO:root:Epoch[53] Time cost=0.175\n",
      "INFO:root:Epoch[53] Validation-accuracy=0.579647\n",
      "INFO:root:Epoch[54] Resetting Data Iterator\n",
      "INFO:root:Epoch[54] Time cost=0.173\n",
      "INFO:root:Epoch[54] Validation-accuracy=0.562588\n",
      "INFO:root:Epoch[55] Resetting Data Iterator\n",
      "INFO:root:Epoch[55] Time cost=0.173\n",
      "INFO:root:Epoch[55] Validation-accuracy=0.574588\n",
      "INFO:root:Epoch[56] Resetting Data Iterator\n",
      "INFO:root:Epoch[56] Time cost=0.175\n",
      "INFO:root:Epoch[56] Validation-accuracy=0.583529\n",
      "INFO:root:Epoch[57] Resetting Data Iterator\n",
      "INFO:root:Epoch[57] Time cost=0.188\n",
      "INFO:root:Epoch[57] Validation-accuracy=0.539176\n",
      "INFO:root:Epoch[58] Resetting Data Iterator\n",
      "INFO:root:Epoch[58] Time cost=0.176\n",
      "INFO:root:Epoch[58] Validation-accuracy=0.563294\n",
      "INFO:root:Epoch[59] Resetting Data Iterator\n",
      "INFO:root:Epoch[59] Time cost=0.173\n",
      "INFO:root:Epoch[59] Validation-accuracy=0.578941\n",
      "INFO:root:Epoch[60] Resetting Data Iterator\n",
      "INFO:root:Epoch[60] Time cost=0.175\n",
      "INFO:root:Epoch[60] Validation-accuracy=0.581176\n",
      "INFO:root:Epoch[61] Resetting Data Iterator\n",
      "INFO:root:Epoch[61] Time cost=0.172\n",
      "INFO:root:Epoch[61] Validation-accuracy=0.589882\n",
      "INFO:root:Epoch[62] Resetting Data Iterator\n",
      "INFO:root:Epoch[62] Time cost=0.178\n",
      "INFO:root:Epoch[62] Validation-accuracy=0.617294\n",
      "INFO:root:Epoch[63] Resetting Data Iterator\n",
      "INFO:root:Epoch[63] Time cost=0.179\n",
      "INFO:root:Epoch[63] Validation-accuracy=0.601412\n",
      "INFO:root:Epoch[64] Resetting Data Iterator\n",
      "INFO:root:Epoch[64] Time cost=0.181\n",
      "INFO:root:Epoch[64] Validation-accuracy=0.537412\n",
      "INFO:root:Epoch[65] Resetting Data Iterator\n",
      "INFO:root:Epoch[65] Time cost=0.177\n",
      "INFO:root:Epoch[65] Validation-accuracy=0.568471\n",
      "INFO:root:Epoch[66] Resetting Data Iterator\n",
      "INFO:root:Epoch[66] Time cost=0.175\n",
      "INFO:root:Epoch[66] Validation-accuracy=0.605412\n",
      "INFO:root:Epoch[67] Resetting Data Iterator\n",
      "INFO:root:Epoch[67] Time cost=0.182\n",
      "INFO:root:Epoch[67] Validation-accuracy=0.630941\n",
      "INFO:root:Epoch[68] Resetting Data Iterator\n",
      "INFO:root:Epoch[68] Time cost=0.179\n",
      "INFO:root:Epoch[68] Validation-accuracy=0.608000\n",
      "INFO:root:Epoch[69] Resetting Data Iterator\n",
      "INFO:root:Epoch[69] Time cost=0.172\n",
      "INFO:root:Epoch[69] Validation-accuracy=0.574000\n",
      "INFO:root:Epoch[70] Resetting Data Iterator\n",
      "INFO:root:Epoch[70] Time cost=0.177\n",
      "INFO:root:Epoch[70] Validation-accuracy=0.492588\n",
      "INFO:root:Epoch[71] Resetting Data Iterator\n",
      "INFO:root:Epoch[71] Time cost=0.177\n",
      "INFO:root:Epoch[71] Validation-accuracy=0.604000\n",
      "INFO:root:Epoch[72] Resetting Data Iterator\n",
      "INFO:root:Epoch[72] Time cost=0.191\n",
      "INFO:root:Epoch[72] Validation-accuracy=0.610000\n",
      "INFO:root:Epoch[73] Resetting Data Iterator\n",
      "INFO:root:Epoch[73] Time cost=0.174\n",
      "INFO:root:Epoch[73] Validation-accuracy=0.608000\n",
      "INFO:root:Epoch[74] Resetting Data Iterator\n",
      "INFO:root:Epoch[74] Time cost=0.170\n",
      "INFO:root:Epoch[74] Validation-accuracy=0.596706\n",
      "INFO:root:Epoch[75] Resetting Data Iterator\n",
      "INFO:root:Epoch[75] Time cost=0.130\n",
      "INFO:root:Epoch[75] Validation-accuracy=0.575765\n",
      "INFO:root:Epoch[76] Resetting Data Iterator\n",
      "INFO:root:Epoch[76] Time cost=0.175\n",
      "INFO:root:Epoch[76] Validation-accuracy=0.564471\n",
      "INFO:root:Epoch[77] Resetting Data Iterator\n",
      "INFO:root:Epoch[77] Time cost=0.209\n",
      "INFO:root:Epoch[77] Validation-accuracy=0.588824\n",
      "INFO:root:Epoch[78] Resetting Data Iterator\n",
      "INFO:root:Epoch[78] Time cost=0.226\n",
      "INFO:root:Epoch[78] Validation-accuracy=0.610588\n",
      "INFO:root:Epoch[79] Resetting Data Iterator\n",
      "INFO:root:Epoch[79] Time cost=0.188\n",
      "INFO:root:Epoch[79] Validation-accuracy=0.565882\n",
      "INFO:root:Epoch[80] Resetting Data Iterator\n",
      "INFO:root:Epoch[80] Time cost=0.178\n",
      "INFO:root:Epoch[80] Validation-accuracy=0.607059\n",
      "INFO:root:Epoch[81] Resetting Data Iterator\n",
      "INFO:root:Epoch[81] Time cost=0.182\n",
      "INFO:root:Epoch[81] Validation-accuracy=0.606471\n",
      "INFO:root:Epoch[82] Resetting Data Iterator\n",
      "INFO:root:Epoch[82] Time cost=0.179\n",
      "INFO:root:Epoch[82] Validation-accuracy=0.607412\n",
      "INFO:root:Epoch[83] Resetting Data Iterator\n",
      "INFO:root:Epoch[83] Time cost=0.178\n",
      "INFO:root:Epoch[83] Validation-accuracy=0.604824\n",
      "INFO:root:Epoch[84] Resetting Data Iterator\n",
      "INFO:root:Epoch[84] Time cost=0.138\n",
      "INFO:root:Epoch[84] Validation-accuracy=0.602941\n",
      "INFO:root:Epoch[85] Resetting Data Iterator\n",
      "INFO:root:Epoch[85] Time cost=0.154\n",
      "INFO:root:Epoch[85] Validation-accuracy=0.604353\n",
      "INFO:root:Epoch[86] Resetting Data Iterator\n",
      "INFO:root:Epoch[86] Time cost=0.148\n",
      "INFO:root:Epoch[86] Validation-accuracy=0.603765\n",
      "INFO:root:Epoch[87] Resetting Data Iterator\n",
      "INFO:root:Epoch[87] Time cost=0.191\n",
      "INFO:root:Epoch[87] Validation-accuracy=0.603529\n",
      "INFO:root:Epoch[88] Resetting Data Iterator\n",
      "INFO:root:Epoch[88] Time cost=0.142\n",
      "INFO:root:Epoch[88] Validation-accuracy=0.603412\n",
      "INFO:root:Epoch[89] Resetting Data Iterator\n",
      "INFO:root:Epoch[89] Time cost=0.171\n",
      "INFO:root:Epoch[89] Validation-accuracy=0.603059\n",
      "INFO:root:Epoch[90] Resetting Data Iterator\n",
      "INFO:root:Epoch[90] Time cost=0.177\n",
      "INFO:root:Epoch[90] Validation-accuracy=0.602824\n",
      "INFO:root:Epoch[91] Resetting Data Iterator\n",
      "INFO:root:Epoch[91] Time cost=0.184\n",
      "INFO:root:Epoch[91] Validation-accuracy=0.602706\n",
      "INFO:root:Epoch[92] Resetting Data Iterator\n",
      "INFO:root:Epoch[92] Time cost=0.141\n",
      "INFO:root:Epoch[92] Validation-accuracy=0.603176\n",
      "INFO:root:Epoch[93] Resetting Data Iterator\n",
      "INFO:root:Epoch[93] Time cost=0.142\n",
      "INFO:root:Epoch[93] Validation-accuracy=0.603059\n",
      "INFO:root:Epoch[94] Resetting Data Iterator\n",
      "INFO:root:Epoch[94] Time cost=0.153\n",
      "INFO:root:Epoch[94] Validation-accuracy=0.603412\n",
      "INFO:root:Epoch[95] Resetting Data Iterator\n",
      "INFO:root:Epoch[95] Time cost=0.153\n",
      "INFO:root:Epoch[95] Validation-accuracy=0.603059\n",
      "INFO:root:Epoch[96] Resetting Data Iterator\n",
      "INFO:root:Epoch[96] Time cost=0.151\n",
      "INFO:root:Epoch[96] Validation-accuracy=0.603176\n",
      "INFO:root:Epoch[97] Resetting Data Iterator\n",
      "INFO:root:Epoch[97] Time cost=0.150\n",
      "INFO:root:Epoch[97] Validation-accuracy=0.603294\n",
      "INFO:root:Epoch[98] Resetting Data Iterator\n",
      "INFO:root:Epoch[98] Time cost=0.154\n",
      "INFO:root:Epoch[98] Validation-accuracy=0.603176\n",
      "INFO:root:Epoch[99] Resetting Data Iterator\n",
      "INFO:root:Epoch[99] Time cost=0.176\n",
      "INFO:root:Epoch[99] Validation-accuracy=0.603059\n"
     ]
    },
    {
     "name": "stdout",
     "output_type": "stream",
     "text": [
      "start: 2016-12-27 13:20:52\n",
      "Resulting Accuracy (AVG), Recall (AVG), F-Score (AVG):\n",
      "macro   :  (0.34635143803308399, 0.33137320813812043, 0.33176352121039965, None)\n",
      "weighted:  (0.57323056405785311, 0.60227685600096892, 0.58407894981417363, None)\n"
     ]
    }
   ],
   "source": [
    "# 2-Layer MLP\n",
    "batch_size = 500\n",
    "train_iter = mx.io.NDArrayIter(train_x_list, train_y_list, batch_size=batch_size)\n",
    "test_iter = mx.io.NDArrayIter(test_x_list, test_y_list, batch_size=batch_size)\n",
    "\n",
    "data = mx.symbol.Variable('data')\n",
    "# data = mx.symbol.Dropout(data=data, p=0.2)\n",
    "# fc1  = mx.symbol.FullyConnected(data = data, name='fc1', num_hidden=2048)\n",
    "# act1 = mx.symbol.Activation(data = fc1, name='relu1', act_type=\"relu\")\n",
    "fc2  = mx.symbol.FullyConnected(data = data, name = 'fc2', num_hidden = 512)\n",
    "act2 = mx.symbol.Activation(data = fc2, name='relu2', act_type=\"relu\")\n",
    "fc3  = mx.symbol.FullyConnected(data = act2, name='fc3', num_hidden=20)\n",
    "mlp  = mx.symbol.SoftmaxOutput(data = fc3, name = 'softmax')\n",
    "\n",
    "# mx.viz.plot_network(mlp)\n",
    "\n",
    "print 'start:', time.strftime( '%Y-%m-%d %H:%M:%S', time.localtime( time.time() ) )\n",
    "\n",
    "model = mx.model.FeedForward(\n",
    "    ctx = mx.cpu(),       # Run on CPU\n",
    "    symbol = mlp,         # Use the network we just defined\n",
    "    num_epoch = 100,       # Train for 10 epochs\n",
    "    learning_rate = 0.1,  # Learning rate\n",
    "    momentum = 0.9,       # Momentum for SGD with momentum\n",
    "    wd = 0.00001)         # Weight decay for regularization\n",
    "model.fit(\n",
    "    X=train_iter,  # Training data set\n",
    "    eval_data=test_iter)#,  # Testing data set. MXNet computes scores on test set every epoch\n",
    "    #batch_end_callback = mx.callback.Speedometer(batch_size, 2000))  # Logging module to print out progress\n",
    "\n",
    "print 'start:', time.strftime( '%Y-%m-%d %H:%M:%S', time.localtime( time.time() ) )\n",
    "\n",
    "predict_y_score_list = model.predict(test_x_list)\n",
    "predict_y_list = np.argmax(predict_y_score_list, axis=1)\n",
    "\n",
    "calc_score(test_y_list, predict_y_list)"
   ]
  },
  {
   "cell_type": "code",
   "execution_count": 20,
   "metadata": {
    "collapsed": true
   },
   "outputs": [],
   "source": [
    "predict_y_lists.append(predict_y_list)"
   ]
  },
  {
   "cell_type": "code",
   "execution_count": null,
   "metadata": {
    "collapsed": true
   },
   "outputs": [],
   "source": []
  },
  {
   "cell_type": "code",
   "execution_count": 21,
   "metadata": {
    "collapsed": false
   },
   "outputs": [
    {
     "name": "stdout",
     "output_type": "stream",
     "text": [
      "start: 2016-12-27 13:20:52\n",
      "SVC(C=1.0, cache_size=200, class_weight='balanced', coef0=0.0,\n",
      "  decision_function_shape=None, degree=3, gamma='auto', kernel='rbf',\n",
      "  max_iter=-1, probability=False, random_state=None, shrinking=True,\n",
      "  tol=0.001, verbose=False)\n",
      "Resulting Accuracy (AVG), Recall (AVG), F-Score (AVG):\n",
      "macro   :  (0.33471047772992807, 0.41088171030458698, 0.35022002324791102, None)\n",
      "weighted:  (0.60335579154366337, 0.5066004602155747, 0.5389480771387325, None)\n",
      "end: 2016-12-27 13:22:19\n"
     ]
    }
   ],
   "source": [
    "# SVM with class_weight='balanced'\n",
    "print 'start:', time.strftime( '%Y-%m-%d %H:%M:%S', time.localtime( time.time() ) )\n",
    "\n",
    "clf = svm.SVC(class_weight='balanced').fit(train_x_list, train_y_list)\n",
    "print clf\n",
    "predict_y_list = clf.predict(test_x_list)\n",
    "calc_score(test_y_list, predict_y_list)\n",
    "\n",
    "print 'end:', time.strftime( '%Y-%m-%d %H:%M:%S', time.localtime( time.time() ) )"
   ]
  },
  {
   "cell_type": "code",
   "execution_count": 22,
   "metadata": {
    "collapsed": true
   },
   "outputs": [],
   "source": [
    "predict_y_lists.append(predict_y_list)"
   ]
  },
  {
   "cell_type": "code",
   "execution_count": null,
   "metadata": {
    "collapsed": true
   },
   "outputs": [],
   "source": []
  },
  {
   "cell_type": "code",
   "execution_count": 23,
   "metadata": {
    "collapsed": false
   },
   "outputs": [
    {
     "name": "stdout",
     "output_type": "stream",
     "text": [
      "start: 2016-12-27 13:22:19\n",
      "Resulting Accuracy (AVG), Recall (AVG), F-Score (AVG):\n",
      "macro   :  (0.30088067856482786, 0.31591976743535544, 0.30531255304262173, None)\n",
      "weighted:  (0.55458441677032522, 0.60627346493883982, 0.57650532167728252, None)\n",
      "end: 2016-12-27 13:22:39\n"
     ]
    }
   ],
   "source": [
    "# AdaBoost\n",
    "from sklearn.ensemble import AdaBoostClassifier\n",
    "print 'start:', time.strftime( '%Y-%m-%d %H:%M:%S', time.localtime( time.time() ) )\n",
    "clf = AdaBoostClassifier()\n",
    "predict_y_list = clf.fit(train_x_list, train_y_list).predict(test_x_list)\n",
    "calc_score(test_y_list, predict_y_list)\n",
    "\n",
    "print 'end:', time.strftime( '%Y-%m-%d %H:%M:%S', time.localtime( time.time() ) )"
   ]
  },
  {
   "cell_type": "code",
   "execution_count": 24,
   "metadata": {
    "collapsed": true
   },
   "outputs": [],
   "source": [
    "predict_y_lists.append(predict_y_list)"
   ]
  },
  {
   "cell_type": "code",
   "execution_count": null,
   "metadata": {
    "collapsed": true
   },
   "outputs": [],
   "source": []
  },
  {
   "cell_type": "code",
   "execution_count": 25,
   "metadata": {
    "collapsed": false
   },
   "outputs": [
    {
     "name": "stderr",
     "output_type": "stream",
     "text": [
      "INFO:imblearn.base:Compute classes statistics ...\n",
      "INFO:imblearn.base:5 classes detected: Counter({2: 5590, 1: 2093, 0: 881, 4: 721, 3: 674})\n",
      "DEBUG:imblearn.base:Finding the 5 nearest neighbours ...\n",
      "DEBUG:imblearn.base:Create synthetic samples ...\n",
      "INFO:imblearn.base:Generated 4916 new samples ...\n",
      "INFO:imblearn.base:Compute classes statistics ...\n",
      "INFO:imblearn.base:5 classes detected: Counter({2: 5590, 3: 5590, 1: 2093, 0: 881, 4: 721})\n",
      "DEBUG:imblearn.base:Finding the 5 nearest neighbours ...\n",
      "DEBUG:imblearn.base:Create synthetic samples ...\n",
      "INFO:imblearn.base:Generated 4869 new samples ...\n",
      "INFO:imblearn.base:Compute classes statistics ...\n",
      "INFO:imblearn.base:5 classes detected: Counter({2: 5590, 3: 5590, 4: 5590, 1: 2093, 0: 881})\n",
      "DEBUG:imblearn.base:Finding the 5 nearest neighbours ...\n",
      "DEBUG:imblearn.base:Create synthetic samples ...\n",
      "INFO:imblearn.base:Generated 4709 new samples ...\n",
      "INFO:imblearn.base:Compute classes statistics ...\n",
      "INFO:imblearn.base:5 classes detected: Counter({0: 5590, 2: 5590, 3: 5590, 4: 5590, 1: 2093})\n",
      "DEBUG:imblearn.base:Finding the 5 nearest neighbours ...\n",
      "DEBUG:imblearn.base:Create synthetic samples ...\n",
      "INFO:imblearn.base:Generated 3497 new samples ...\n",
      "INFO:imblearn.base:Compute classes statistics ...\n",
      "INFO:imblearn.base:5 classes detected: Counter({0: 5590, 1: 5590, 2: 5590, 3: 5590, 4: 5590})\n",
      "DEBUG:imblearn.base:Finding the 5 nearest neighbours ...\n",
      "DEBUG:imblearn.base:Create synthetic samples ...\n",
      "INFO:imblearn.base:Generated 0 new samples ...\n"
     ]
    },
    {
     "name": "stdout",
     "output_type": "stream",
     "text": [
      "number of class 0 : 5590\n",
      "number of class 1 : 5590\n",
      "number of class 2 : 5590\n",
      "number of class 3 : 5590\n",
      "number of class 4 : 5590\n"
     ]
    }
   ],
   "source": [
    "# SMOTE up-sampling training data\n",
    "sm = SMOTE(kind='regular')\n",
    "train_x_list_smote, train_y_list_smote = sm.fit_sample(train_x_list, train_y_list)\n",
    "train_x_list_smote, train_y_list_smote = sm.fit_sample(train_x_list_smote, train_y_list_smote)\n",
    "train_x_list_smote, train_y_list_smote = sm.fit_sample(train_x_list_smote, train_y_list_smote)\n",
    "train_x_list_smote, train_y_list_smote = sm.fit_sample(train_x_list_smote, train_y_list_smote)\n",
    "train_x_list_smote, train_y_list_smote = sm.fit_sample(train_x_list_smote, train_y_list_smote)\n",
    "\n",
    "# split training data to 5 different classes\n",
    "train_x_lists = [[] for i in range(5)]\n",
    "for i in xrange(len(train_y_list_smote)):\n",
    "    train_x_lists[int(train_y_list_smote[i])].append(train_x_list_smote[i])\n",
    "for i in xrange(5):\n",
    "    print 'number of class', i, ':', len(train_x_lists[i])"
   ]
  },
  {
   "cell_type": "code",
   "execution_count": null,
   "metadata": {
    "collapsed": true
   },
   "outputs": [],
   "source": []
  },
  {
   "cell_type": "code",
   "execution_count": null,
   "metadata": {
    "collapsed": true
   },
   "outputs": [],
   "source": []
  },
  {
   "cell_type": "code",
   "execution_count": null,
   "metadata": {
    "collapsed": true
   },
   "outputs": [],
   "source": []
  },
  {
   "cell_type": "code",
   "execution_count": null,
   "metadata": {
    "collapsed": true
   },
   "outputs": [],
   "source": []
  },
  {
   "cell_type": "code",
   "execution_count": null,
   "metadata": {
    "collapsed": true
   },
   "outputs": [],
   "source": []
  },
  {
   "cell_type": "code",
   "execution_count": 26,
   "metadata": {
    "collapsed": true
   },
   "outputs": [],
   "source": [
    "full_predict_y_lists = predict_y_lists"
   ]
  },
  {
   "cell_type": "code",
   "execution_count": 50,
   "metadata": {
    "collapsed": true
   },
   "outputs": [],
   "source": [
    "predict_y_lists = []\n",
    "predict_y_lists.append(full_predict_y_lists[0])\n",
    "predict_y_lists.append(full_predict_y_lists[1])\n",
    "predict_y_lists.append(full_predict_y_lists[2])\n",
    "predict_y_lists.append(full_predict_y_lists[3])\n",
    "# predict_y_lists.append(full_predict_y_lists[4])"
   ]
  },
  {
   "cell_type": "code",
   "execution_count": null,
   "metadata": {
    "collapsed": true
   },
   "outputs": [],
   "source": []
  },
  {
   "cell_type": "code",
   "execution_count": 51,
   "metadata": {
    "collapsed": false
   },
   "outputs": [
    {
     "name": "stdout",
     "output_type": "stream",
     "text": [
      "Resulting Accuracy (AVG), Recall (AVG), F-Score (AVG):\n",
      "macro   :  (0.36571270204469675, 0.38503110734573298, 0.36741045991337756, None)\n",
      "weighted:  (0.59641959260844024, 0.59779580961608336, 0.59507108216534987, None)\n"
     ]
    }
   ],
   "source": [
    "# FUSION\n",
    "from collections import Counter\n",
    "\n",
    "fusion_predict_y_list = []\n",
    "for i in xrange(len(predict_y_list)):\n",
    "    c = Counter([predict_y_lists[j][i] for j in xrange(len(predict_y_lists))])\n",
    "    most_count = c.most_common(1)[0][1]\n",
    "    most_label = [tup[0] for tup in c.most_common() if tup[1] == most_count]\n",
    "    most_label_dict = {key: label_count_dict[key] for key in most_label}\n",
    "    \n",
    "    # better accuracy\n",
    "#     fusion_predict_y_list.append(max(most_label_dict, key=most_label_dict.get))\n",
    "    # better recall\n",
    "    fusion_predict_y_list.append(min(most_label_dict, key=most_label_dict.get))\n",
    "\n",
    "calc_score(test_y_list, fusion_predict_y_list)"
   ]
  },
  {
   "cell_type": "code",
   "execution_count": null,
   "metadata": {
    "collapsed": true
   },
   "outputs": [],
   "source": []
  },
  {
   "cell_type": "code",
   "execution_count": 40,
   "metadata": {
    "collapsed": false
   },
   "outputs": [
    {
     "name": "stdout",
     "output_type": "stream",
     "text": [
      "[2 4 2 4 2 2 0 2 4 0 3 2 2 2 2 2 2 2 2 2 2 4 0 2 4 2 3 2 2 2]\n",
      "[2 2 2 2 2 2 2 2 2 2 3 2 2 2 2 2 2 2 2 2 2 2 0 1 2 2 2 2 2 2]\n",
      "[2 2 2 2 2 0 2 2 2 2 3 2 3 3 2 1 1 4 2 2 2 2 4 1 2 2 4 2 4 1]\n",
      "[2 2 2 4 2 0 4 2 1 0 3 2 4 2 1 1 1 4 3 2 2 2 0 1 2 4 4 2 4 4]\n",
      "--------------------\n",
      "[2 2 2 2 2 4 2 2 2 2 2 2 2 2 1 1 1 2 2 2 2 2 2 2 2 2 2 2 2 2]\n",
      "--------------------\n",
      "[2 2 2 4 2 0 2 2 2 0 3 2 2 2 2 1 1 4 2 2 2 2 0 1 2 2 4 2 4 2]\n"
     ]
    }
   ],
   "source": [
    "for i in range(len(predict_y_lists)):\n",
    "    print predict_y_lists[i][:30].astype(int)\n",
    "print '--------------------'\n",
    "print test_y_list[:30]\n",
    "print '--------------------'\n",
    "print np.array(fusion_predict_y_list[:30])"
   ]
  },
  {
   "cell_type": "code",
   "execution_count": null,
   "metadata": {
    "collapsed": true
   },
   "outputs": [],
   "source": []
  },
  {
   "cell_type": "code",
   "execution_count": null,
   "metadata": {
    "collapsed": true
   },
   "outputs": [],
   "source": []
  }
 ],
 "metadata": {
  "anaconda-cloud": {},
  "kernelspec": {
   "display_name": "Python [conda env:python2]",
   "language": "python",
   "name": "conda-env-python2-py"
  },
  "language_info": {
   "codemirror_mode": {
    "name": "ipython",
    "version": 2
   },
   "file_extension": ".py",
   "mimetype": "text/x-python",
   "name": "python",
   "nbconvert_exporter": "python",
   "pygments_lexer": "ipython2",
   "version": "2.7.12"
  }
 },
 "nbformat": 4,
 "nbformat_minor": 0
}
