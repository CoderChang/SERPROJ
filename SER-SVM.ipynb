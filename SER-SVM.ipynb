{
 "cells": [
  {
   "cell_type": "code",
   "execution_count": 1,
   "metadata": {
    "collapsed": false
   },
   "outputs": [],
   "source": [
    "%matplotlib inline\n",
    "import cv2\n",
    "import matplotlib.pyplot as plt\n",
    "import logging\n",
    "\n",
    "logger = logging.getLogger()\n",
    "logger.setLevel(logging.DEBUG)"
   ]
  },
  {
   "cell_type": "code",
   "execution_count": 2,
   "metadata": {
    "collapsed": false
   },
   "outputs": [],
   "source": [
    "import mxnet as mx\n",
    "import numpy as np\n",
    "\n",
    "from sklearn import svm\n",
    "from sklearn import metrics\n",
    "from sklearn import preprocessing\n",
    "from imblearn.over_sampling import SMOTE\n",
    "from sklearn.decomposition import PCA\n",
    "from sklearn.discriminant_analysis import LinearDiscriminantAnalysis\n",
    "from sklearn.discriminant_analysis import QuadraticDiscriminantAnalysis\n",
    "\n",
    "import os\n",
    "import sys\n",
    "import math\n",
    "import time\n",
    "import pickle\n",
    "\n",
    "proj_dir = os.getcwd()\n",
    "label_dir = os.path.join(proj_dir, 'emotiondetection/features_labels_lld/labels')\n",
    "lld_dir = os.path.join(proj_dir, 'emotiondetection/features_labels_lld/lld')\n",
    "\n",
    "pickle_train_y_list = 'pickle_train_y_list'\n",
    "pickle_train_x_list = 'pickle_train_x_list'\n",
    "\n",
    "pickle_test_y_list = 'pickle_test_y_list'\n",
    "pickle_test_x_list = 'pickle_test_x_list'"
   ]
  },
  {
   "cell_type": "code",
   "execution_count": 3,
   "metadata": {
    "collapsed": false
   },
   "outputs": [],
   "source": [
    "train_y_list = pickle.load(open(pickle_train_y_list))\n",
    "train_x_list = pickle.load(open(pickle_train_x_list))\n",
    "\n",
    "test_y_list = pickle.load(open(pickle_test_y_list))\n",
    "test_x_list = pickle.load(open(pickle_test_x_list))"
   ]
  },
  {
   "cell_type": "code",
   "execution_count": 4,
   "metadata": {
    "collapsed": true
   },
   "outputs": [],
   "source": [
    "def calc_score(test_y_list, predict_y_list):\n",
    "    print \"Resulting Accuracy (AVG), Recall (AVG), F-Score (AVG):\"\n",
    "    print 'macro   : ', metrics.precision_recall_fscore_support(test_y_list, predict_y_list, average='macro')\n",
    "    print 'weighted: ', metrics.precision_recall_fscore_support(test_y_list, predict_y_list, average='weighted')"
   ]
  },
  {
   "cell_type": "code",
   "execution_count": 5,
   "metadata": {
    "collapsed": false
   },
   "outputs": [],
   "source": [
    "# z-score normalization\n",
    "scaler = preprocessing.StandardScaler().fit(train_x_list)\n",
    "train_x_list = scaler.transform(train_x_list)\n",
    "test_x_list = scaler.transform(test_x_list)"
   ]
  },
  {
   "cell_type": "code",
   "execution_count": 6,
   "metadata": {
    "collapsed": false
   },
   "outputs": [],
   "source": [
    "# PCA whiten\n",
    "# pca = PCA(n_components='mle', svd_solver='full', whiten=True)\n",
    "# x_pca = pca.fit(train_x_list)\n",
    "# train_x_list = pca.transform(train_x_list)\n",
    "# test_x_list = pca.transform(test_x_list)"
   ]
  },
  {
   "cell_type": "code",
   "execution_count": 7,
   "metadata": {
    "collapsed": false
   },
   "outputs": [],
   "source": [
    "# sklearn l1/l2 normalization\n",
    "# x_normalizer = preprocessing.Normalizer(norm='l2').fit(train_x_list)\n",
    "# train_x_list = x_normalizer.transform(train_x_list)\n",
    "# test_x_list = x_normalizer.transform(test_x_list)"
   ]
  },
  {
   "cell_type": "code",
   "execution_count": 8,
   "metadata": {
    "collapsed": false
   },
   "outputs": [],
   "source": [
    "# # SMOTE up-sampling training data\n",
    "# sm = SMOTE(kind='regular')\n",
    "# train_x_list, train_y_list = sm.fit_sample(train_x_list, train_y_list)\n",
    "# train_x_list, train_y_list = sm.fit_sample(train_x_list, train_y_list)\n",
    "# train_x_list, train_y_list = sm.fit_sample(train_x_list, train_y_list)\n",
    "# train_x_list, train_y_list = sm.fit_sample(train_x_list, train_y_list)\n",
    "# train_x_list, train_y_list = sm.fit_sample(train_x_list, train_y_list)\n",
    "\n",
    "# # split training data to 5 different classes\n",
    "# train_x_lists = [[] for i in range(5)]\n",
    "# for i in xrange(len(train_y_list)):\n",
    "#     train_x_lists[int(train_y_list[i])].append(train_x_list[i])\n",
    "# for i in xrange(5):\n",
    "#     print 'number of class', i, ':', len(train_x_lists[i])"
   ]
  },
  {
   "cell_type": "code",
   "execution_count": 9,
   "metadata": {
    "collapsed": false
   },
   "outputs": [
    {
     "name": "stdout",
     "output_type": "stream",
     "text": [
      "(9959,) (9959, 384)\n",
      "(8257,) (8257, 384)\n"
     ]
    }
   ],
   "source": [
    "print train_y_list.shape, train_x_list.shape\n",
    "print test_y_list.shape, test_x_list.shape"
   ]
  },
  {
   "cell_type": "code",
   "execution_count": 10,
   "metadata": {
    "collapsed": false
   },
   "outputs": [
    {
     "name": "stdout",
     "output_type": "stream",
     "text": [
      "[-1.28200357  0.06173483 -1.28187449 -0.41449729  0.46579774 -1.17798747\n",
      "  0.06471169 -0.85753636 -0.64435287 -1.27747438]\n",
      "[-1.13903374 -0.75002097 -1.13420654 -0.43244806 -0.38227578 -1.17669163\n",
      "  0.04549002 -0.83947808 -0.63455673 -1.16125476]\n"
     ]
    }
   ],
   "source": [
    "print train_x_list[0][:10]\n",
    "print test_x_list[0][:10]"
   ]
  },
  {
   "cell_type": "code",
   "execution_count": null,
   "metadata": {
    "collapsed": true
   },
   "outputs": [],
   "source": []
  },
  {
   "cell_type": "code",
   "execution_count": 11,
   "metadata": {
    "collapsed": true
   },
   "outputs": [],
   "source": [
    "X = train_x_list\n",
    "y = train_y_list"
   ]
  },
  {
   "cell_type": "code",
   "execution_count": null,
   "metadata": {
    "collapsed": true
   },
   "outputs": [],
   "source": []
  },
  {
   "cell_type": "code",
   "execution_count": 12,
   "metadata": {
    "collapsed": false
   },
   "outputs": [
    {
     "name": "stdout",
     "output_type": "stream",
     "text": [
      "start: 2016-12-26 16:21:00\n",
      "SVC(C=1.0, cache_size=200, class_weight=None, coef0=0.0,\n",
      "  decision_function_shape=None, degree=3, gamma='auto', kernel='rbf',\n",
      "  max_iter=-1, probability=False, random_state=None, shrinking=True,\n",
      "  tol=0.001, verbose=False)\n",
      "Resulting Accuracy (AVG), Recall (AVG), F-Score (AVG):\n",
      "macro   :  (0.49601373496253531, 0.28445302519810611, 0.29807435040057706, None)\n",
      "weighted:  (0.61544487999173569, 0.66513261475112029, 0.59908376494444471, None)\n",
      "end: 2016-12-26 16:22:13\n"
     ]
    }
   ],
   "source": [
    "# SVM \n",
    "print 'start:', time.strftime( '%Y-%m-%d %H:%M:%S', time.localtime( time.time() ) )\n",
    "\n",
    "clf = svm.SVC().fit(X, y)\n",
    "print clf\n",
    "predict_y_list = clf.predict(test_x_list)\n",
    "calc_score(test_y_list, predict_y_list)\n",
    "\n",
    "print 'end:', time.strftime( '%Y-%m-%d %H:%M:%S', time.localtime( time.time() ) )"
   ]
  },
  {
   "cell_type": "code",
   "execution_count": null,
   "metadata": {
    "collapsed": true
   },
   "outputs": [],
   "source": []
  },
  {
   "cell_type": "code",
   "execution_count": 13,
   "metadata": {
    "collapsed": false
   },
   "outputs": [
    {
     "name": "stdout",
     "output_type": "stream",
     "text": [
      "start: 2016-12-26 16:22:13\n",
      "SVC(C=1.0, cache_size=200, class_weight='balanced', coef0=0.0,\n",
      "  decision_function_shape=None, degree=3, gamma='auto', kernel='rbf',\n",
      "  max_iter=-1, probability=False, random_state=None, shrinking=True,\n",
      "  tol=0.001, verbose=False)\n",
      "Resulting Accuracy (AVG), Recall (AVG), F-Score (AVG):\n",
      "macro   :  (0.33471047772992807, 0.41088171030458698, 0.35022002324791102, None)\n",
      "weighted:  (0.60335579154366337, 0.5066004602155747, 0.5389480771387325, None)\n",
      "end: 2016-12-26 16:23:45\n"
     ]
    }
   ],
   "source": [
    "# SVM with class_weight='balanced'\n",
    "print 'start:', time.strftime( '%Y-%m-%d %H:%M:%S', time.localtime( time.time() ) )\n",
    "\n",
    "clf = svm.SVC(class_weight='balanced').fit(X, y)\n",
    "print clf\n",
    "predict_y_list = clf.predict(test_x_list)\n",
    "calc_score(test_y_list, predict_y_list)\n",
    "\n",
    "print 'end:', time.strftime( '%Y-%m-%d %H:%M:%S', time.localtime( time.time() ) )"
   ]
  },
  {
   "cell_type": "code",
   "execution_count": null,
   "metadata": {
    "collapsed": true
   },
   "outputs": [],
   "source": []
  },
  {
   "cell_type": "code",
   "execution_count": 14,
   "metadata": {
    "collapsed": false
   },
   "outputs": [
    {
     "name": "stderr",
     "output_type": "stream",
     "text": [
      "No handlers could be found for logger \"imblearn.base\"\n"
     ]
    },
    {
     "name": "stdout",
     "output_type": "stream",
     "text": [
      "number of class 0 : 5590\n",
      "number of class 1 : 5590\n",
      "number of class 2 : 5590\n",
      "number of class 3 : 5590\n",
      "number of class 4 : 5590\n",
      "start: 2016-12-26 16:23:55\n",
      "SVC(C=1.0, cache_size=200, class_weight=None, coef0=0.0,\n",
      "  decision_function_shape=None, degree=3, gamma='auto', kernel='rbf',\n",
      "  max_iter=-1, probability=False, random_state=None, shrinking=True,\n",
      "  tol=0.001, verbose=False)\n",
      "Resulting Accuracy (AVG), Recall (AVG), F-Score (AVG):\n",
      "macro   :  (0.35106291678333362, 0.37477248438018795, 0.35799155522823456, None)\n",
      "weighted:  (0.58661081201509746, 0.5772072181179605, 0.58046592334128633, None)\n",
      "end: 2016-12-26 16:28:21\n"
     ]
    }
   ],
   "source": [
    "# SMOTE up-sampling training data\n",
    "sm = SMOTE(kind='regular')\n",
    "train_x_list_smote, train_y_list_smote = sm.fit_sample(train_x_list, train_y_list)\n",
    "train_x_list_smote, train_y_list_smote = sm.fit_sample(train_x_list_smote, train_y_list_smote)\n",
    "train_x_list_smote, train_y_list_smote = sm.fit_sample(train_x_list_smote, train_y_list_smote)\n",
    "train_x_list_smote, train_y_list_smote = sm.fit_sample(train_x_list_smote, train_y_list_smote)\n",
    "train_x_list_smote, train_y_list_smote = sm.fit_sample(train_x_list_smote, train_y_list_smote)\n",
    "\n",
    "# split training data to 5 different classes\n",
    "train_x_lists = [[] for i in range(5)]\n",
    "for i in xrange(len(train_y_list_smote)):\n",
    "    train_x_lists[int(train_y_list_smote[i])].append(train_x_list_smote[i])\n",
    "for i in xrange(5):\n",
    "    print 'number of class', i, ':', len(train_x_lists[i])\n",
    "\n",
    "# SVM with SMOTE up-sample\n",
    "print 'start:', time.strftime( '%Y-%m-%d %H:%M:%S', time.localtime( time.time() ) )\n",
    "\n",
    "clf = svm.SVC().fit(train_x_list_smote, train_y_list_smote)\n",
    "print clf\n",
    "predict_y_list = clf.predict(test_x_list)\n",
    "calc_score(test_y_list, predict_y_list)\n",
    "\n",
    "print 'end:', time.strftime( '%Y-%m-%d %H:%M:%S', time.localtime( time.time() ) )"
   ]
  },
  {
   "cell_type": "code",
   "execution_count": null,
   "metadata": {
    "collapsed": true
   },
   "outputs": [],
   "source": []
  },
  {
   "cell_type": "code",
   "execution_count": null,
   "metadata": {
    "collapsed": true
   },
   "outputs": [],
   "source": []
  },
  {
   "cell_type": "code",
   "execution_count": 15,
   "metadata": {
    "collapsed": false
   },
   "outputs": [
    {
     "name": "stdout",
     "output_type": "stream",
     "text": [
      "[ 2.  2.  2.  2.  2.  0.  2.  2.  2.  2.  3.  2.  2.  3.  2.  1.  2.  2.\n",
      "  3.  2.  2.  2.  4.  1.  2.  2.  2.  2.  2.  4.  2.  2.  0.  2.  2.  1.\n",
      "  1.  2.  2.  2.  2.  2.  0.  2.  2.  1.  1.  1.  1.  1.  2.  2.  2.  4.\n",
      "  1.  2.  2.  2.  0.  2.  2.  2.  4.  2.  0.  1.  1.  2.  3.  2.  2.  2.\n",
      "  1.  1.  1.  2.  1.  2.  1.  1.  1.  1.  1.  2.  2.  1.  1.  1.  1.  1.\n",
      "  1.  4.  2.  2.  2.  2.  2.  1.  1.  1.]\n"
     ]
    }
   ],
   "source": [
    "print predict_y_list[:100]"
   ]
  },
  {
   "cell_type": "code",
   "execution_count": 16,
   "metadata": {
    "collapsed": false
   },
   "outputs": [
    {
     "name": "stdout",
     "output_type": "stream",
     "text": [
      "[2 2 2 2 2 4 2 2 2 2 2 2 2 2 1 1 1 2 2 2 2 2 2 2 2 2 2 2 2 2 2 2 2 2 2 1 1\n",
      " 1 2 2 2 2 2 2 2 1 1 2 1 1 2 2 2 0 1 2 2 2 2 2 2 2 2 2 2 1 1 2 2 2 2 2 2 2\n",
      " 1 1 1 2 1 1 1 1 1 2 2 1 1 1 2 1 1 2 2 2 2 2 1 1 1 2]\n"
     ]
    }
   ],
   "source": [
    "print test_y_list[:100]"
   ]
  },
  {
   "cell_type": "code",
   "execution_count": null,
   "metadata": {
    "collapsed": true
   },
   "outputs": [],
   "source": []
  }
 ],
 "metadata": {
  "anaconda-cloud": {},
  "kernelspec": {
   "display_name": "Python [conda env:python2]",
   "language": "python",
   "name": "conda-env-python2-py"
  },
  "language_info": {
   "codemirror_mode": {
    "name": "ipython",
    "version": 2
   },
   "file_extension": ".py",
   "mimetype": "text/x-python",
   "name": "python",
   "nbconvert_exporter": "python",
   "pygments_lexer": "ipython2",
   "version": "2.7.12"
  }
 },
 "nbformat": 4,
 "nbformat_minor": 0
}
