{
 "cells": [
  {
   "cell_type": "code",
   "execution_count": 1,
   "metadata": {
    "collapsed": false
   },
   "outputs": [],
   "source": [
    "%matplotlib inline\n",
    "import cv2\n",
    "import matplotlib.pyplot as plt\n",
    "import logging\n",
    "\n",
    "logger = logging.getLogger()\n",
    "logger.setLevel(logging.DEBUG)"
   ]
  },
  {
   "cell_type": "code",
   "execution_count": 2,
   "metadata": {
    "collapsed": false
   },
   "outputs": [],
   "source": [
    "import mxnet as mx\n",
    "import numpy as np\n",
    "\n",
    "from sklearn import svm\n",
    "from sklearn import metrics\n",
    "from sklearn import preprocessing\n",
    "from imblearn.over_sampling import SMOTE\n",
    "from sklearn.decomposition import PCA\n",
    "from sklearn.discriminant_analysis import LinearDiscriminantAnalysis\n",
    "from sklearn.discriminant_analysis import QuadraticDiscriminantAnalysis\n",
    "\n",
    "import os\n",
    "import sys\n",
    "import math\n",
    "import time\n",
    "import pickle\n",
    "\n",
    "proj_dir = os.getcwd()\n",
    "label_dir = os.path.join(proj_dir, 'emotiondetection/features_labels_lld/labels')\n",
    "lld_dir = os.path.join(proj_dir, 'emotiondetection/features_labels_lld/lld')\n",
    "\n",
    "pickle_train_y_list = 'pickle_train_y_list'\n",
    "pickle_train_x_list = 'pickle_train_x_list'\n",
    "\n",
    "pickle_test_y_list = 'pickle_test_y_list'\n",
    "pickle_test_x_list = 'pickle_test_x_list'"
   ]
  },
  {
   "cell_type": "code",
   "execution_count": 3,
   "metadata": {
    "collapsed": false
   },
   "outputs": [],
   "source": [
    "train_y_list = pickle.load(open(pickle_train_y_list))\n",
    "train_x_list = pickle.load(open(pickle_train_x_list))\n",
    "\n",
    "test_y_list = pickle.load(open(pickle_test_y_list))\n",
    "test_x_list = pickle.load(open(pickle_test_x_list))"
   ]
  },
  {
   "cell_type": "code",
   "execution_count": 4,
   "metadata": {
    "collapsed": true
   },
   "outputs": [],
   "source": [
    "def calc_score(test_y_list, predict_y_list):\n",
    "    print \"Resulting Accuracy (AVG), Recall (AVG), F-Score (AVG):\"\n",
    "    print 'macro   : ', metrics.precision_recall_fscore_support(test_y_list, predict_y_list, average='macro')\n",
    "    print 'weighted: ', metrics.precision_recall_fscore_support(test_y_list, predict_y_list, average='weighted')"
   ]
  },
  {
   "cell_type": "code",
   "execution_count": 5,
   "metadata": {
    "collapsed": true
   },
   "outputs": [],
   "source": [
    "# z-score normalization\n",
    "# scaler = preprocessing.StandardScaler().fit(train_x_list)\n",
    "# train_x_list = scaler.transform(train_x_list)\n",
    "# test_x_list = scaler.transform(test_x_list)"
   ]
  },
  {
   "cell_type": "code",
   "execution_count": 6,
   "metadata": {
    "collapsed": false
   },
   "outputs": [],
   "source": [
    "# PCA whiten\n",
    "# pca = PCA(n_components='mle', svd_solver='full', whiten=True)\n",
    "# x_pca = pca.fit(train_x_list)\n",
    "# train_x_list = pca.transform(train_x_list)\n",
    "# test_x_list = pca.transform(test_x_list)"
   ]
  },
  {
   "cell_type": "code",
   "execution_count": 7,
   "metadata": {
    "collapsed": false
   },
   "outputs": [],
   "source": [
    "# sklearn l1/l2 normalization\n",
    "# x_normalizer = preprocessing.Normalizer(norm='l2').fit(train_x_list)\n",
    "# train_x_list = x_normalizer.transform(train_x_list)\n",
    "# test_x_list = x_normalizer.transform(test_x_list)"
   ]
  },
  {
   "cell_type": "code",
   "execution_count": 8,
   "metadata": {
    "collapsed": false
   },
   "outputs": [],
   "source": [
    "# # SMOTE up-sampling training data\n",
    "# sm = SMOTE(kind='regular')\n",
    "# train_x_list, train_y_list = sm.fit_sample(train_x_list, train_y_list)\n",
    "# train_x_list, train_y_list = sm.fit_sample(train_x_list, train_y_list)\n",
    "# train_x_list, train_y_list = sm.fit_sample(train_x_list, train_y_list)\n",
    "# train_x_list, train_y_list = sm.fit_sample(train_x_list, train_y_list)\n",
    "# train_x_list, train_y_list = sm.fit_sample(train_x_list, train_y_list)\n",
    "\n",
    "# # split training data to 5 different classes\n",
    "# train_x_lists = [[] for i in range(5)]\n",
    "# for i in xrange(len(train_y_list)):\n",
    "#     train_x_lists[int(train_y_list[i])].append(train_x_list[i])\n",
    "# for i in xrange(5):\n",
    "#     print 'number of class', i, ':', len(train_x_lists[i])"
   ]
  },
  {
   "cell_type": "code",
   "execution_count": 9,
   "metadata": {
    "collapsed": false
   },
   "outputs": [
    {
     "name": "stdout",
     "output_type": "stream",
     "text": [
      "(9959,) (9959, 384)\n",
      "(8257,) (8257, 384)\n"
     ]
    }
   ],
   "source": [
    "print train_y_list.shape, train_x_list.shape\n",
    "print test_y_list.shape, test_x_list.shape"
   ]
  },
  {
   "cell_type": "code",
   "execution_count": 10,
   "metadata": {
    "collapsed": false
   },
   "outputs": [
    {
     "name": "stdout",
     "output_type": "stream",
     "text": [
      "[  5.66733100e-03   3.11773100e-04   5.35555800e-03   5.30000000e+01\n",
      "   9.60000000e+01   1.30774500e-03   4.18643100e-06   1.09633100e-03\n",
      "   1.80239600e-06   1.34818000e-03]\n",
      "[  1.23016500e-02   9.11361400e-05   1.22105100e-02   5.20000000e+01\n",
      "   2.40000000e+01   1.31725500e-03   3.23349300e-07   1.29866300e-03\n",
      "   6.89166500e-06   2.62522000e-03]\n"
     ]
    }
   ],
   "source": [
    "print train_x_list[0][:10]\n",
    "print test_x_list[0][:10]"
   ]
  },
  {
   "cell_type": "code",
   "execution_count": null,
   "metadata": {
    "collapsed": true
   },
   "outputs": [],
   "source": []
  },
  {
   "cell_type": "code",
   "execution_count": 11,
   "metadata": {
    "collapsed": true
   },
   "outputs": [],
   "source": [
    "X = train_x_list\n",
    "y = train_y_list"
   ]
  },
  {
   "cell_type": "code",
   "execution_count": null,
   "metadata": {
    "collapsed": true
   },
   "outputs": [],
   "source": []
  },
  {
   "cell_type": "code",
   "execution_count": 12,
   "metadata": {
    "collapsed": true
   },
   "outputs": [],
   "source": [
    "from hmmlearn.hmm import GaussianHMM\n",
    "from hmmlearn.hmm import GMMHMM\n",
    "from hmmlearn.hmm import MultinomialHMM\n",
    "import warnings\n",
    "warnings.filterwarnings(\"ignore\", category=DeprecationWarning) "
   ]
  },
  {
   "cell_type": "code",
   "execution_count": 13,
   "metadata": {
    "collapsed": false
   },
   "outputs": [
    {
     "name": "stdout",
     "output_type": "stream",
     "text": [
      "number of class 0 : 881\n",
      "number of class 1 : 2093\n",
      "number of class 2 : 5590\n",
      "number of class 3 : 674\n",
      "number of class 4 : 721\n"
     ]
    }
   ],
   "source": [
    "# split training data to 5 different classes\n",
    "train_x_lists = [[] for i in range(5)]\n",
    "for i in xrange(len(train_y_list)):\n",
    "    train_x_lists[int(train_y_list[i])].append(train_x_list[i])\n",
    "for i in xrange(5):\n",
    "    print 'number of class', i, ':', len(train_x_lists[i])"
   ]
  },
  {
   "cell_type": "code",
   "execution_count": null,
   "metadata": {
    "collapsed": true
   },
   "outputs": [],
   "source": []
  },
  {
   "cell_type": "code",
   "execution_count": null,
   "metadata": {
    "collapsed": true
   },
   "outputs": [],
   "source": []
  },
  {
   "cell_type": "code",
   "execution_count": 14,
   "metadata": {
    "collapsed": false
   },
   "outputs": [
    {
     "name": "stdout",
     "output_type": "stream",
     "text": [
      "(GaussianHMM)  n_components: 1\n",
      "Resulting Accuracy (AVG), Recall (AVG), F-Score (AVG):\n",
      "macro   :  (0.28728980247932873, 0.29514161618545598, 0.15357664546635824, None)\n",
      "weighted:  (0.56070321596238637, 0.17778854305437811, 0.18989765836749217, None)\n",
      "-----------------------\n",
      "(GaussianHMM)  n_components: 2\n"
     ]
    },
    {
     "name": "stderr",
     "output_type": "stream",
     "text": [
      "/home/slhome/cc001/anaconda3/envs/python2/lib/python2.7/site-packages/hmmlearn/base.py:459: RuntimeWarning: divide by zero encountered in log\n",
      "  np.log(self.startprob_),\n",
      "/home/slhome/cc001/anaconda3/envs/python2/lib/python2.7/site-packages/hmmlearn/base.py:468: RuntimeWarning: divide by zero encountered in log\n",
      "  np.log(self.startprob_),\n"
     ]
    },
    {
     "name": "stdout",
     "output_type": "stream",
     "text": [
      "Resulting Accuracy (AVG), Recall (AVG), F-Score (AVG):\n",
      "macro   :  (0.23124945373467454, 0.2807551659721319, 0.17641278784781542, None)\n",
      "weighted:  (0.47811034446607742, 0.21521133583626015, 0.20276338535626062, None)\n",
      "-----------------------\n",
      "(GaussianHMM)  n_components: 3\n",
      "Resulting Accuracy (AVG), Recall (AVG), F-Score (AVG):\n",
      "macro   :  (0.22336560929426058, 0.27522527597090168, 0.16649205354690338, None)\n",
      "weighted:  (0.46394158130893021, 0.20624924306648904, 0.17062070148257513, None)\n",
      "-----------------------\n",
      "(GaussianHMM)  n_components: 4\n",
      "Resulting Accuracy (AVG), Recall (AVG), F-Score (AVG):\n",
      "macro   :  (0.2139925820903153, 0.24337127084175547, 0.14904008502583613, None)\n",
      "weighted:  (0.46635329806800363, 0.17633523071333415, 0.15568076556927068, None)\n",
      "-----------------------\n",
      "(GaussianHMM)  n_components: 5\n",
      "Resulting Accuracy (AVG), Recall (AVG), F-Score (AVG):\n",
      "macro   :  (0.22983865651732063, 0.24819941423725661, 0.20030795726337933, None)\n",
      "weighted:  (0.4759823028414561, 0.3097977473658714, 0.33685089881173441, None)\n",
      "-----------------------\n"
     ]
    }
   ],
   "source": [
    "n_components_list = [1, 2, 3, 4, 5]\n",
    "\n",
    "for n2 in n_components_list:\n",
    "    print '(GaussianHMM) ', 'n_components:', n2\n",
    "    \n",
    "    # train models and get scores\n",
    "    models = []\n",
    "    scores = []\n",
    "    for i in range(5):\n",
    "        X = np.array(train_x_lists[i])\n",
    "        model = GaussianHMM(n_components=n2).fit(X)\n",
    "        models.append(model)\n",
    "\n",
    "        score = []\n",
    "        for XX in test_x_list:\n",
    "            score.append(model.score(np.array(XX)))\n",
    "        scores.append(score)\n",
    "\n",
    "    predict_y_list = np.argmax(np.array(scores).T, axis = 1)\n",
    "    calc_score(test_y_list, predict_y_list.tolist())\n",
    "    \n",
    "    print '-----------------------'"
   ]
  },
  {
   "cell_type": "code",
   "execution_count": null,
   "metadata": {
    "collapsed": true
   },
   "outputs": [],
   "source": []
  },
  {
   "cell_type": "code",
   "execution_count": 16,
   "metadata": {
    "collapsed": false
   },
   "outputs": [
    {
     "name": "stdout",
     "output_type": "stream",
     "text": [
      "(GMMHMM)  n_mix: 1 ; n_components: 1\n",
      "Resulting Accuracy (AVG), Recall (AVG), F-Score (AVG):\n",
      "macro   :  (0.28728980247932873, 0.29514161618545598, 0.15357664546635824, None)\n",
      "weighted:  (0.56070321596238637, 0.17778854305437811, 0.18989765836749217, None)\n",
      "-----------------------\n",
      "(GMMHMM)  n_mix: 1 ; n_components: 2\n",
      "Resulting Accuracy (AVG), Recall (AVG), F-Score (AVG):\n",
      "macro   :  (0.28656992711534712, 0.29793731825852249, 0.16713617613912013, None)\n",
      "weighted:  (0.5569126877925743, 0.20116264987283516, 0.22406732210688879, None)\n",
      "-----------------------\n",
      "(GMMHMM)  n_mix: 1 ; n_components: 3\n",
      "Resulting Accuracy (AVG), Recall (AVG), F-Score (AVG):\n",
      "macro   :  (0.28862651446405807, 0.30158902756695516, 0.17770008782262661, None)\n",
      "weighted:  (0.55768509838665115, 0.21884461668887004, 0.2485959143829633, None)\n",
      "-----------------------\n",
      "(GMMHMM)  n_mix: 2 ; n_components: 1\n"
     ]
    },
    {
     "name": "stderr",
     "output_type": "stream",
     "text": [
      "/home/slhome/cc001/anaconda3/envs/python2/lib/python2.7/site-packages/hmmlearn/hmm.py:593: RuntimeWarning: divide by zero encountered in log\n",
      "  lgmm_posteriors = (np.log(g.predict_proba(X))\n"
     ]
    },
    {
     "name": "stdout",
     "output_type": "stream",
     "text": [
      "Resulting Accuracy (AVG), Recall (AVG), F-Score (AVG):\n",
      "macro   :  (0.27634101141811268, 0.31460990086594176, 0.26071791554771334, None)\n",
      "weighted:  (0.5563068028633007, 0.42460942230834442, 0.45845600089253763, None)\n",
      "-----------------------\n",
      "(GMMHMM)  n_mix: 2 ; n_components: 2\n",
      "Resulting Accuracy (AVG), Recall (AVG), F-Score (AVG):\n",
      "macro   :  (0.27748533441380541, 0.31453976036678311, 0.26905579411583591, None)\n",
      "weighted:  (0.55407251926277667, 0.45440232529974567, 0.48261956383637061, None)\n",
      "-----------------------\n",
      "(GMMHMM)  n_mix: 2 ; n_components: 3\n",
      "Resulting Accuracy (AVG), Recall (AVG), F-Score (AVG):\n",
      "macro   :  (0.2684947029092693, 0.27432566947490394, 0.24698637997724396, None)\n",
      "weighted:  (0.55334007684077902, 0.38924548867627468, 0.44135661629610495, None)\n",
      "-----------------------\n",
      "(GMMHMM)  n_mix: 3 ; n_components: 1\n",
      "Resulting Accuracy (AVG), Recall (AVG), F-Score (AVG):\n",
      "macro   :  (0.27417918542938335, 0.31387640374488923, 0.26945496919214645, None)\n",
      "weighted:  (0.55337153795565452, 0.43563037422792783, 0.46957204779866396, None)\n",
      "-----------------------\n",
      "(GMMHMM)  n_mix: 3 ; n_components: 2\n",
      "Resulting Accuracy (AVG), Recall (AVG), F-Score (AVG):\n",
      "macro   :  (0.24297312207164276, 0.23074739008519929, 0.23139321040076263, None)\n",
      "weighted:  (0.50199222316784886, 0.53881555044204921, 0.51770473432119857, None)\n",
      "-----------------------\n",
      "(GMMHMM)  n_mix: 3 ; n_components: 3\n",
      "Resulting Accuracy (AVG), Recall (AVG), F-Score (AVG):\n",
      "macro   :  (0.24720277934002985, 0.27903264391015831, 0.18902139990026373, None)\n",
      "weighted:  (0.52863634451025709, 0.23495216180210729, 0.25567681159219557, None)\n",
      "-----------------------\n",
      "(GMMHMM)  n_mix: 4 ; n_components: 1\n",
      "Resulting Accuracy (AVG), Recall (AVG), F-Score (AVG):\n",
      "macro   :  (0.27967159020982835, 0.32189802923591543, 0.273396849581589, None)\n",
      "weighted:  (0.55288543054395134, 0.44616688870049653, 0.48113973302097895, None)\n",
      "-----------------------\n",
      "(GMMHMM)  n_mix: 4 ; n_components: 2\n",
      "Resulting Accuracy (AVG), Recall (AVG), F-Score (AVG):\n",
      "macro   :  (0.2571597348108699, 0.27647948699260966, 0.25852722157492264, None)\n",
      "weighted:  (0.51890435468502616, 0.47499091679786848, 0.49200511511470063, None)\n",
      "-----------------------\n",
      "(GMMHMM)  n_mix: 4 ; n_components: 3\n",
      "Resulting Accuracy (AVG), Recall (AVG), F-Score (AVG):\n",
      "macro   :  (0.22869145207797673, 0.24526177097866567, 0.21694274113097078, None)\n",
      "weighted:  (0.4890709714188835, 0.3748334746275887, 0.41223441016329243, None)\n",
      "-----------------------\n",
      "(GMMHMM)  n_mix: 5 ; n_components: 1\n",
      "Resulting Accuracy (AVG), Recall (AVG), F-Score (AVG):\n",
      "macro   :  (0.30092740190941403, 0.31915456659063057, 0.30366189293655832, None)\n",
      "weighted:  (0.54230887115297666, 0.50466271042751609, 0.51757459845947951, None)\n",
      "-----------------------\n",
      "(GMMHMM)  n_mix: 5 ; n_components: 2\n",
      "Resulting Accuracy (AVG), Recall (AVG), F-Score (AVG):\n",
      "macro   :  (0.32294784777803048, 0.30284194942569453, 0.30488611240746888, None)\n",
      "weighted:  (0.55833779751059587, 0.58253603003512167, 0.56814766583776299, None)\n",
      "-----------------------\n",
      "(GMMHMM)  n_mix: 5 ; n_components: 3\n",
      "Resulting Accuracy (AVG), Recall (AVG), F-Score (AVG):\n",
      "macro   :  (0.28725673561756165, 0.29516136574548368, 0.28840761883714328, None)\n",
      "weighted:  (0.53583859579338378, 0.54123773767712247, 0.53787143937456405, None)\n",
      "-----------------------\n",
      "(GMMHMM)  n_mix: 6 ; n_components: 1\n",
      "Resulting Accuracy (AVG), Recall (AVG), F-Score (AVG):\n",
      "macro   :  (0.30785855224159425, 0.31531829999523131, 0.30871282411284046, None)\n",
      "weighted:  (0.54672445641062162, 0.52404020830810216, 0.53247493754229958, None)\n",
      "-----------------------\n",
      "(GMMHMM)  n_mix: 6 ; n_components: 2\n",
      "Resulting Accuracy (AVG), Recall (AVG), F-Score (AVG):\n",
      "macro   :  (0.31452722264535199, 0.24390365217856144, 0.24358321217454967, None)\n",
      "weighted:  (0.53369374505314648, 0.58653263897299257, 0.54494195552410574, None)\n",
      "-----------------------\n",
      "(GMMHMM)  n_mix: 6 ; n_components: 3\n",
      "Resulting Accuracy (AVG), Recall (AVG), F-Score (AVG):\n",
      "macro   :  (0.33249489978602542, 0.24602901888605544, 0.24961934894091592, None)\n",
      "weighted:  (0.54354478274136298, 0.63231197771587744, 0.55593544422444741, None)\n",
      "-----------------------\n",
      "(GMMHMM)  n_mix: 7 ; n_components: 1\n",
      "Resulting Accuracy (AVG), Recall (AVG), F-Score (AVG):\n",
      "macro   :  (0.3167291591974698, 0.30266737593770376, 0.30439098016638844, None)\n",
      "weighted:  (0.54226000243302175, 0.55371200193774983, 0.5456700581995898, None)\n",
      "-----------------------\n",
      "(GMMHMM)  n_mix: 7 ; n_components: 2\n",
      "Resulting Accuracy (AVG), Recall (AVG), F-Score (AVG):\n",
      "macro   :  (0.27496706540809029, 0.27628026300380831, 0.2738577025878669, None)\n",
      "weighted:  (0.52897949815966572, 0.49582172701949861, 0.51075025443703659, None)\n",
      "-----------------------\n",
      "(GMMHMM)  n_mix: 7 ; n_components: 3\n",
      "Resulting Accuracy (AVG), Recall (AVG), F-Score (AVG):\n",
      "macro   :  (0.28779107489583328, 0.25265125964633461, 0.2567580271124148, None)\n",
      "weighted:  (0.52451044989478401, 0.58132493641758509, 0.54161933470243029, None)\n",
      "-----------------------\n",
      "(GMMHMM)  n_mix: 8 ; n_components: 1\n",
      "Resulting Accuracy (AVG), Recall (AVG), F-Score (AVG):\n",
      "macro   :  (0.30393842146792954, 0.3173693981882289, 0.30651689477438027, None)\n",
      "weighted:  (0.55696967269813857, 0.5469298776795446, 0.54961082952157259, None)\n",
      "-----------------------\n",
      "(GMMHMM)  n_mix: 8 ; n_components: 2\n",
      "Resulting Accuracy (AVG), Recall (AVG), F-Score (AVG):\n",
      "macro   :  (0.29589956785477656, 0.28049161877205486, 0.28168372437809069, None)\n",
      "weighted:  (0.54702382577171405, 0.58798595131403653, 0.56361744356445853, None)\n",
      "-----------------------\n",
      "(GMMHMM)  n_mix: 8 ; n_components: 3\n",
      "Resulting Accuracy (AVG), Recall (AVG), F-Score (AVG):\n",
      "macro   :  (0.24353064450460665, 0.25620539588992097, 0.21600237511850057, None)\n",
      "weighted:  (0.49983212086353934, 0.33765290056921399, 0.36132310687547659, None)\n",
      "-----------------------\n"
     ]
    }
   ],
   "source": [
    "n_mix_list = [1, 2, 3, 4, 5, 6, 7, 8]\n",
    "n_components_list = [1, 2, 3]\n",
    "\n",
    "for n1 in n_mix_list:\n",
    "    for n2 in n_components_list:\n",
    "        print '(GMMHMM) ', 'n_mix:', n1, ';',  'n_components:', n2\n",
    "        \n",
    "        # train models and get scores\n",
    "        models = []\n",
    "        scores = []\n",
    "        for i in range(5):\n",
    "            X = np.array(train_x_lists[i])\n",
    "            model = GMMHMM(n_mix=n1, n_components=n2).fit(X)\n",
    "            models.append(model)\n",
    "\n",
    "            score = []\n",
    "            for XX in test_x_list:\n",
    "                score.append(model.score(np.array(XX)))\n",
    "            scores.append(score)\n",
    "\n",
    "        predict_y_list = np.argmax(np.array(scores).T, axis = 1)\n",
    "        calc_score(test_y_list, predict_y_list.tolist())\n",
    "        \n",
    "        print '-----------------------'"
   ]
  },
  {
   "cell_type": "code",
   "execution_count": null,
   "metadata": {
    "collapsed": true
   },
   "outputs": [],
   "source": []
  },
  {
   "cell_type": "code",
   "execution_count": null,
   "metadata": {
    "collapsed": true
   },
   "outputs": [],
   "source": []
  },
  {
   "cell_type": "code",
   "execution_count": null,
   "metadata": {
    "collapsed": true
   },
   "outputs": [],
   "source": []
  },
  {
   "cell_type": "code",
   "execution_count": 17,
   "metadata": {
    "collapsed": false
   },
   "outputs": [
    {
     "name": "stderr",
     "output_type": "stream",
     "text": [
      "No handlers could be found for logger \"imblearn.base\"\n"
     ]
    },
    {
     "name": "stdout",
     "output_type": "stream",
     "text": [
      "number of class 0 : 5590\n",
      "number of class 1 : 5590\n",
      "number of class 2 : 5590\n",
      "number of class 3 : 5590\n",
      "number of class 4 : 5590\n"
     ]
    }
   ],
   "source": [
    "# SMOTE up-sampling training data\n",
    "sm = SMOTE(kind='regular')\n",
    "train_x_list_smote, train_y_list_smote = sm.fit_sample(train_x_list, train_y_list)\n",
    "train_x_list_smote, train_y_list_smote = sm.fit_sample(train_x_list_smote, train_y_list_smote)\n",
    "train_x_list_smote, train_y_list_smote = sm.fit_sample(train_x_list_smote, train_y_list_smote)\n",
    "train_x_list_smote, train_y_list_smote = sm.fit_sample(train_x_list_smote, train_y_list_smote)\n",
    "train_x_list_smote, train_y_list_smote = sm.fit_sample(train_x_list_smote, train_y_list_smote)\n",
    "\n",
    "# split training data to 5 different classes\n",
    "train_x_lists = [[] for i in range(5)]\n",
    "for i in xrange(len(train_y_list_smote)):\n",
    "    train_x_lists[int(train_y_list_smote[i])].append(train_x_list_smote[i])\n",
    "for i in xrange(5):\n",
    "    print 'number of class', i, ':', len(train_x_lists[i])"
   ]
  },
  {
   "cell_type": "code",
   "execution_count": null,
   "metadata": {
    "collapsed": true
   },
   "outputs": [],
   "source": []
  },
  {
   "cell_type": "code",
   "execution_count": 18,
   "metadata": {
    "collapsed": false
   },
   "outputs": [
    {
     "name": "stdout",
     "output_type": "stream",
     "text": [
      "(GaussianHMM)  n_components: 1\n",
      "Resulting Accuracy (AVG), Recall (AVG), F-Score (AVG):\n",
      "macro   :  (0.28294100176656489, 0.31557044496354125, 0.16807868418435262, None)\n",
      "weighted:  (0.56220098176125477, 0.18432844858907593, 0.19531911519038486, None)\n",
      "-----------------------\n",
      "(GaussianHMM)  n_components: 2\n",
      "Resulting Accuracy (AVG), Recall (AVG), F-Score (AVG):\n",
      "macro   :  (0.22844463449203056, 0.29862826415004512, 0.17521774361387382, None)\n",
      "weighted:  (0.46440762536614943, 0.1863873077388882, 0.18566820569451298, None)\n",
      "-----------------------\n",
      "(GaussianHMM)  n_components: 3\n",
      "Resulting Accuracy (AVG), Recall (AVG), F-Score (AVG):\n",
      "macro   :  (0.23296009400181011, 0.28639739230569955, 0.18459541589561093, None)\n",
      "weighted:  (0.47851196292376807, 0.2273222720116265, 0.2060594527259163, None)\n",
      "-----------------------\n",
      "(GaussianHMM)  n_components: 4\n",
      "Resulting Accuracy (AVG), Recall (AVG), F-Score (AVG):\n",
      "macro   :  (0.22429321174130018, 0.25074332558660206, 0.16024935921574635, None)\n",
      "weighted:  (0.47347213718137016, 0.17536635581930482, 0.18104486904766567, None)\n",
      "-----------------------\n",
      "(GaussianHMM)  n_components: 5\n",
      "Resulting Accuracy (AVG), Recall (AVG), F-Score (AVG):\n",
      "macro   :  (0.25504070494202186, 0.28227667174647059, 0.21850838079882803, None)\n",
      "weighted:  (0.51731065220497985, 0.28061039118323844, 0.33091847460139701, None)\n",
      "-----------------------\n"
     ]
    }
   ],
   "source": [
    "n_components_list = [1, 2, 3, 4, 5]\n",
    "\n",
    "for n2 in n_components_list:\n",
    "    print '(GaussianHMM) ', 'n_components:', n2\n",
    "    \n",
    "    # train models and get scores\n",
    "    models = []\n",
    "    scores = []\n",
    "    for i in range(5):\n",
    "        X = np.array(train_x_lists[i])\n",
    "        model = GaussianHMM(n_components=n2).fit(X)\n",
    "        models.append(model)\n",
    "\n",
    "        score = []\n",
    "        for XX in test_x_list:\n",
    "            score.append(model.score(np.array(XX)))\n",
    "        scores.append(score)\n",
    "\n",
    "    predict_y_list = np.argmax(np.array(scores).T, axis = 1)\n",
    "    calc_score(test_y_list, predict_y_list.tolist())\n",
    "    \n",
    "    print '-----------------------'"
   ]
  },
  {
   "cell_type": "code",
   "execution_count": null,
   "metadata": {
    "collapsed": true
   },
   "outputs": [],
   "source": []
  },
  {
   "cell_type": "code",
   "execution_count": 19,
   "metadata": {
    "collapsed": false
   },
   "outputs": [
    {
     "name": "stdout",
     "output_type": "stream",
     "text": [
      "(GMMHMM)  n_mix: 1 ; n_components: 1\n",
      "Resulting Accuracy (AVG), Recall (AVG), F-Score (AVG):\n",
      "macro   :  (0.28294100176656489, 0.31557044496354125, 0.16807868418435262, None)\n",
      "weighted:  (0.56220098176125477, 0.18432844858907593, 0.19531911519038486, None)\n",
      "-----------------------\n",
      "(GMMHMM)  n_mix: 1 ; n_components: 2\n",
      "Resulting Accuracy (AVG), Recall (AVG), F-Score (AVG):\n",
      "macro   :  (0.28282766627291528, 0.31552444263127088, 0.1691379950351852, None)\n",
      "weighted:  (0.56331556303866492, 0.1854184328448589, 0.19658480367625403, None)\n",
      "-----------------------\n",
      "(GMMHMM)  n_mix: 1 ; n_components: 3\n",
      "Resulting Accuracy (AVG), Recall (AVG), F-Score (AVG):\n",
      "macro   :  (0.28204536707510763, 0.31604621767328794, 0.17007216221395985, None)\n",
      "weighted:  (0.56120213508542105, 0.18650841710064189, 0.19786537910095009, None)\n",
      "-----------------------\n",
      "(GMMHMM)  n_mix: 2 ; n_components: 1\n",
      "Resulting Accuracy (AVG), Recall (AVG), F-Score (AVG):\n",
      "macro   :  (0.26032677749414174, 0.31568093090505944, 0.20628807302343391, None)\n",
      "weighted:  (0.53578912210494267, 0.23713213031367325, 0.26052555341464051, None)\n",
      "-----------------------\n",
      "(GMMHMM)  n_mix: 2 ; n_components: 2\n",
      "Resulting Accuracy (AVG), Recall (AVG), F-Score (AVG):\n",
      "macro   :  (0.26185491731288174, 0.32032658343241988, 0.20728958407900885, None)\n",
      "weighted:  (0.5394022175602835, 0.23810100520770255, 0.26036401365474482, None)\n",
      "-----------------------\n",
      "(GMMHMM)  n_mix: 2 ; n_components: 3\n",
      "Resulting Accuracy (AVG), Recall (AVG), F-Score (AVG):\n",
      "macro   :  (0.26008078135930407, 0.31799884750628393, 0.20546629189999971, None)\n",
      "weighted:  (0.53756684278155187, 0.23725323967542691, 0.25958236168874588, None)\n",
      "-----------------------\n",
      "(GMMHMM)  n_mix: 3 ; n_components: 1\n",
      "Resulting Accuracy (AVG), Recall (AVG), F-Score (AVG):\n",
      "macro   :  (0.24482221644876442, 0.30532669295357079, 0.20942225350578222, None)\n",
      "weighted:  (0.51207990293811667, 0.26050623713213034, 0.29432067846670429, None)\n",
      "-----------------------\n",
      "(GMMHMM)  n_mix: 3 ; n_components: 2\n",
      "Resulting Accuracy (AVG), Recall (AVG), F-Score (AVG):\n",
      "macro   :  (0.24018362191947257, 0.30436299740947403, 0.19550101218019308, None)\n",
      "weighted:  (0.50327347414638346, 0.22586895967058254, 0.24295186103529878, None)\n",
      "-----------------------\n",
      "(GMMHMM)  n_mix: 3 ; n_components: 3\n",
      "Resulting Accuracy (AVG), Recall (AVG), F-Score (AVG):\n",
      "macro   :  (0.25348874782731584, 0.33855974234640845, 0.21439209131840764, None)\n",
      "weighted:  (0.52452775129639417, 0.26571393968753787, 0.27048120252440794, None)\n",
      "-----------------------\n",
      "(GMMHMM)  n_mix: 4 ; n_components: 1\n",
      "Resulting Accuracy (AVG), Recall (AVG), F-Score (AVG):\n",
      "macro   :  (0.26643002900492019, 0.33612151869700402, 0.23798158304492265, None)\n",
      "weighted:  (0.53651171889535665, 0.29393242097614147, 0.32888778868407853, None)\n",
      "-----------------------\n",
      "(GMMHMM)  n_mix: 4 ; n_components: 2\n",
      "Resulting Accuracy (AVG), Recall (AVG), F-Score (AVG):\n",
      "macro   :  (0.27467557661314024, 0.34229192535955877, 0.24263648588827352, None)\n",
      "weighted:  (0.54624246050438696, 0.3107666222599007, 0.35539158706921109, None)\n",
      "-----------------------\n",
      "(GMMHMM)  n_mix: 4 ; n_components: 3\n",
      "Resulting Accuracy (AVG), Recall (AVG), F-Score (AVG):\n",
      "macro   :  (0.26837942686972871, 0.34121209618522896, 0.24785621435320349, None)\n",
      "weighted:  (0.53923490783021799, 0.31997093375317914, 0.35860399085839562, None)\n",
      "-----------------------\n",
      "(GMMHMM)  n_mix: 5 ; n_components: 1\n",
      "Resulting Accuracy (AVG), Recall (AVG), F-Score (AVG):\n",
      "macro   :  (0.27500157596438873, 0.35246272901573678, 0.26746111520717303, None)\n",
      "weighted:  (0.53884386384679284, 0.35024827419159499, 0.38841604408082209, None)\n",
      "-----------------------\n",
      "(GMMHMM)  n_mix: 5 ; n_components: 2\n",
      "Resulting Accuracy (AVG), Recall (AVG), F-Score (AVG):\n",
      "macro   :  (0.24653280473241415, 0.27380348761916845, 0.24611293902905512, None)\n",
      "weighted:  (0.49780362525545635, 0.40535303378951193, 0.44053096229738703, None)\n",
      "-----------------------\n",
      "(GMMHMM)  n_mix: 5 ; n_components: 3\n",
      "Resulting Accuracy (AVG), Recall (AVG), F-Score (AVG):\n",
      "macro   :  (0.29523615221138522, 0.34684592420230437, 0.30291309239329378, None)\n",
      "weighted:  (0.5488312189362583, 0.47196318275402682, 0.50100953602850307, None)\n",
      "-----------------------\n",
      "(GMMHMM)  n_mix: 6 ; n_components: 1\n",
      "Resulting Accuracy (AVG), Recall (AVG), F-Score (AVG):\n",
      "macro   :  (0.27458543254049783, 0.3414264216265302, 0.26940235747762642, None)\n",
      "weighted:  (0.54455144593216931, 0.37120019377497881, 0.41239798587062559, None)\n",
      "-----------------------\n",
      "(GMMHMM)  n_mix: 6 ; n_components: 2\n",
      "Resulting Accuracy (AVG), Recall (AVG), F-Score (AVG):\n",
      "macro   :  (0.27458629135007012, 0.32732039045137806, 0.2395140526206819, None)\n",
      "weighted:  (0.5398354627787495, 0.31197771587743733, 0.36381832443775269, None)\n",
      "-----------------------\n",
      "(GMMHMM)  n_mix: 6 ; n_components: 3\n",
      "Resulting Accuracy (AVG), Recall (AVG), F-Score (AVG):\n",
      "macro   :  (0.28180899171933482, 0.31338170452029152, 0.28389319856741163, None)\n",
      "weighted:  (0.53928901845147204, 0.49182511808162771, 0.50908535366175145, None)\n",
      "-----------------------\n",
      "(GMMHMM)  n_mix: 7 ; n_components: 1\n",
      "Resulting Accuracy (AVG), Recall (AVG), F-Score (AVG):\n",
      "macro   :  (0.27332829955431132, 0.33312491117386117, 0.26731664161579405, None)\n",
      "weighted:  (0.53713300684725385, 0.36393363206975898, 0.4067628767520895, None)\n",
      "-----------------------\n",
      "(GMMHMM)  n_mix: 7 ; n_components: 2\n",
      "Resulting Accuracy (AVG), Recall (AVG), F-Score (AVG):\n",
      "macro   :  (0.26804224913248714, 0.28876366186281932, 0.25717530582571502, None)\n",
      "weighted:  (0.51544526114286704, 0.43211820273707152, 0.45995364605188921, None)\n",
      "-----------------------\n",
      "(GMMHMM)  n_mix: 7 ; n_components: 3\n",
      "Resulting Accuracy (AVG), Recall (AVG), F-Score (AVG):\n",
      "macro   :  (0.27685753700909743, 0.32823743186655563, 0.28117031782631285, None)\n",
      "weighted:  (0.5440857485543642, 0.43478260869565216, 0.47123967480526435, None)\n",
      "-----------------------\n",
      "(GMMHMM)  n_mix: 8 ; n_components: 1\n",
      "Resulting Accuracy (AVG), Recall (AVG), F-Score (AVG):\n",
      "macro   :  (0.26336524725695604, 0.32567830526213992, 0.2453594315924516, None)\n",
      "weighted:  (0.53570145026575267, 0.32336199588228171, 0.35776519455243538, None)\n",
      "-----------------------\n",
      "(GMMHMM)  n_mix: 8 ; n_components: 2\n",
      "Resulting Accuracy (AVG), Recall (AVG), F-Score (AVG):\n",
      "macro   :  (0.26922239181201546, 0.29349415798030409, 0.26700407762220391, None)\n",
      "weighted:  (0.52386884009571166, 0.41286181421823909, 0.4475747755688243, None)\n",
      "-----------------------\n",
      "(GMMHMM)  n_mix: 8 ; n_components: 3\n",
      "Resulting Accuracy (AVG), Recall (AVG), F-Score (AVG):\n",
      "macro   :  (0.24934092808480601, 0.27440954905910198, 0.20283828739521353, None)\n",
      "weighted:  (0.5171487900375219, 0.29393242097614147, 0.29128658778843031, None)\n",
      "-----------------------\n"
     ]
    }
   ],
   "source": [
    "n_mix_list = [1, 2, 3, 4, 5, 6, 7, 8]\n",
    "n_components_list = [1, 2, 3]\n",
    "\n",
    "for n1 in n_mix_list:\n",
    "    for n2 in n_components_list:\n",
    "        print '(GMMHMM) ', 'n_mix:', n1, ';',  'n_components:', n2\n",
    "        \n",
    "        # train models and get scores\n",
    "        models = []\n",
    "        scores = []\n",
    "        for i in range(5):\n",
    "            X = np.array(train_x_lists[i])\n",
    "            model = GMMHMM(n_mix=n1, n_components=n2).fit(X)\n",
    "            models.append(model)\n",
    "\n",
    "            score = []\n",
    "            for XX in test_x_list:\n",
    "                score.append(model.score(np.array(XX)))\n",
    "            scores.append(score)\n",
    "\n",
    "        predict_y_list = np.argmax(np.array(scores).T, axis = 1)\n",
    "        calc_score(test_y_list, predict_y_list.tolist())\n",
    "        \n",
    "        print '-----------------------'"
   ]
  },
  {
   "cell_type": "code",
   "execution_count": null,
   "metadata": {
    "collapsed": true
   },
   "outputs": [],
   "source": []
  },
  {
   "cell_type": "code",
   "execution_count": null,
   "metadata": {
    "collapsed": true
   },
   "outputs": [],
   "source": []
  },
  {
   "cell_type": "code",
   "execution_count": null,
   "metadata": {
    "collapsed": true
   },
   "outputs": [],
   "source": []
  },
  {
   "cell_type": "code",
   "execution_count": null,
   "metadata": {
    "collapsed": true
   },
   "outputs": [],
   "source": []
  },
  {
   "cell_type": "code",
   "execution_count": 20,
   "metadata": {
    "collapsed": false
   },
   "outputs": [
    {
     "name": "stdout",
     "output_type": "stream",
     "text": [
      "[2 1 2 2 2 0 2 1 1 1 4 2 3 2 1 1 1 1 1 4 1 2 0 0 2 0 0 2 1 0 2 4 0 4 1 2 1\n",
      " 1 0 0 1 0 0 0 1 1 1 1 1 0 0 0 0 1 1 1 4 2 0 0 0 2 0 4 0 2 1 0 2 2 1 0 1 0\n",
      " 1 0 1 2 1 1 1 1 1 1 1 1 1 1 1 1 1 0 2 1 1 0 0 1 1 0]\n"
     ]
    }
   ],
   "source": [
    "print predict_y_list[:100]"
   ]
  },
  {
   "cell_type": "code",
   "execution_count": 21,
   "metadata": {
    "collapsed": false
   },
   "outputs": [
    {
     "name": "stdout",
     "output_type": "stream",
     "text": [
      "[2 2 2 2 2 4 2 2 2 2 2 2 2 2 1 1 1 2 2 2 2 2 2 2 2 2 2 2 2 2 2 2 2 2 2 1 1\n",
      " 1 2 2 2 2 2 2 2 1 1 2 1 1 2 2 2 0 1 2 2 2 2 2 2 2 2 2 2 1 1 2 2 2 2 2 2 2\n",
      " 1 1 1 2 1 1 1 1 1 2 2 1 1 1 2 1 1 2 2 2 2 2 1 1 1 2]\n"
     ]
    }
   ],
   "source": [
    "print test_y_list[:100]"
   ]
  },
  {
   "cell_type": "code",
   "execution_count": null,
   "metadata": {
    "collapsed": true
   },
   "outputs": [],
   "source": []
  }
 ],
 "metadata": {
  "anaconda-cloud": {},
  "kernelspec": {
   "display_name": "Python [conda env:python2]",
   "language": "python",
   "name": "conda-env-python2-py"
  },
  "language_info": {
   "codemirror_mode": {
    "name": "ipython",
    "version": 2
   },
   "file_extension": ".py",
   "mimetype": "text/x-python",
   "name": "python",
   "nbconvert_exporter": "python",
   "pygments_lexer": "ipython2",
   "version": "2.7.12"
  }
 },
 "nbformat": 4,
 "nbformat_minor": 0
}
