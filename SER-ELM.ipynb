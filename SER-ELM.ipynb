{
 "cells": [
  {
   "cell_type": "code",
   "execution_count": 1,
   "metadata": {
    "collapsed": false
   },
   "outputs": [],
   "source": [
    "%matplotlib inline\n",
    "import cv2\n",
    "import matplotlib.pyplot as plt\n",
    "import logging\n",
    "\n",
    "logger = logging.getLogger()\n",
    "logger.setLevel(logging.DEBUG)"
   ]
  },
  {
   "cell_type": "code",
   "execution_count": 2,
   "metadata": {
    "collapsed": false
   },
   "outputs": [],
   "source": [
    "import mxnet as mx\n",
    "import numpy as np\n",
    "\n",
    "from sklearn import svm\n",
    "from sklearn import metrics\n",
    "from sklearn import preprocessing\n",
    "from imblearn.over_sampling import SMOTE\n",
    "from sklearn.decomposition import PCA\n",
    "from sklearn.discriminant_analysis import LinearDiscriminantAnalysis\n",
    "from sklearn.discriminant_analysis import QuadraticDiscriminantAnalysis\n",
    "\n",
    "import os\n",
    "import sys\n",
    "import math\n",
    "import time\n",
    "import pickle\n",
    "\n",
    "proj_dir = os.getcwd()\n",
    "label_dir = os.path.join(proj_dir, 'emotiondetection/features_labels_lld/labels')\n",
    "lld_dir = os.path.join(proj_dir, 'emotiondetection/features_labels_lld/lld')\n",
    "\n",
    "pickle_train_y_list = 'pickle_train_y_list'\n",
    "pickle_train_x_list = 'pickle_train_x_list'\n",
    "\n",
    "pickle_test_y_list = 'pickle_test_y_list'\n",
    "pickle_test_x_list = 'pickle_test_x_list'"
   ]
  },
  {
   "cell_type": "code",
   "execution_count": 3,
   "metadata": {
    "collapsed": false
   },
   "outputs": [],
   "source": [
    "train_y_list = pickle.load(open(pickle_train_y_list))\n",
    "train_x_list = pickle.load(open(pickle_train_x_list))\n",
    "\n",
    "test_y_list = pickle.load(open(pickle_test_y_list))\n",
    "test_x_list = pickle.load(open(pickle_test_x_list))"
   ]
  },
  {
   "cell_type": "code",
   "execution_count": 4,
   "metadata": {
    "collapsed": true
   },
   "outputs": [],
   "source": [
    "def calc_score(test_y_list, predict_y_list):\n",
    "    print \"Resulting Accuracy (AVG), Recall (AVG), F-Score (AVG):\"\n",
    "    print 'macro   : ', metrics.precision_recall_fscore_support(test_y_list, predict_y_list, average='macro')\n",
    "    print 'weighted: ', metrics.precision_recall_fscore_support(test_y_list, predict_y_list, average='weighted')"
   ]
  },
  {
   "cell_type": "code",
   "execution_count": 5,
   "metadata": {
    "collapsed": false
   },
   "outputs": [],
   "source": [
    "# z-score normalization\n",
    "scaler = preprocessing.StandardScaler().fit(train_x_list)\n",
    "train_x_list = scaler.transform(train_x_list)\n",
    "test_x_list = scaler.transform(test_x_list)"
   ]
  },
  {
   "cell_type": "code",
   "execution_count": 6,
   "metadata": {
    "collapsed": false
   },
   "outputs": [],
   "source": [
    "# PCA whiten\n",
    "# pca = PCA(n_components='mle', svd_solver='full', whiten=True)\n",
    "# x_pca = pca.fit(train_x_list)\n",
    "# train_x_list = pca.transform(train_x_list)\n",
    "# test_x_list = pca.transform(test_x_list)"
   ]
  },
  {
   "cell_type": "code",
   "execution_count": 7,
   "metadata": {
    "collapsed": false
   },
   "outputs": [],
   "source": [
    "# sklearn l1/l2 normalization\n",
    "# x_normalizer = preprocessing.Normalizer(norm='l2').fit(train_x_list)\n",
    "# train_x_list = x_normalizer.transform(train_x_list)\n",
    "# test_x_list = x_normalizer.transform(test_x_list)"
   ]
  },
  {
   "cell_type": "code",
   "execution_count": 8,
   "metadata": {
    "collapsed": false
   },
   "outputs": [],
   "source": [
    "# # SMOTE up-sampling training data\n",
    "# sm = SMOTE(kind='regular')\n",
    "# train_x_list, train_y_list = sm.fit_sample(train_x_list, train_y_list)\n",
    "# train_x_list, train_y_list = sm.fit_sample(train_x_list, train_y_list)\n",
    "# train_x_list, train_y_list = sm.fit_sample(train_x_list, train_y_list)\n",
    "# train_x_list, train_y_list = sm.fit_sample(train_x_list, train_y_list)\n",
    "# train_x_list, train_y_list = sm.fit_sample(train_x_list, train_y_list)\n",
    "\n",
    "# # split training data to 5 different classes\n",
    "# train_x_lists = [[] for i in range(5)]\n",
    "# for i in xrange(len(train_y_list)):\n",
    "#     train_x_lists[int(train_y_list[i])].append(train_x_list[i])\n",
    "# for i in xrange(5):\n",
    "#     print 'number of class', i, ':', len(train_x_lists[i])"
   ]
  },
  {
   "cell_type": "code",
   "execution_count": 9,
   "metadata": {
    "collapsed": false
   },
   "outputs": [
    {
     "name": "stdout",
     "output_type": "stream",
     "text": [
      "(9959,) (9959, 384)\n",
      "(8257,) (8257, 384)\n"
     ]
    }
   ],
   "source": [
    "print train_y_list.shape, train_x_list.shape\n",
    "print test_y_list.shape, test_x_list.shape"
   ]
  },
  {
   "cell_type": "code",
   "execution_count": 10,
   "metadata": {
    "collapsed": false
   },
   "outputs": [
    {
     "name": "stdout",
     "output_type": "stream",
     "text": [
      "[-1.28200357  0.06173483 -1.28187449 -0.41449729  0.46579774 -1.17798747\n",
      "  0.06471169 -0.85753636 -0.64435287 -1.27747438]\n",
      "[-1.13903374 -0.75002097 -1.13420654 -0.43244806 -0.38227578 -1.17669163\n",
      "  0.04549002 -0.83947808 -0.63455673 -1.16125476]\n"
     ]
    }
   ],
   "source": [
    "print train_x_list[0][:10]\n",
    "print test_x_list[0][:10]"
   ]
  },
  {
   "cell_type": "code",
   "execution_count": null,
   "metadata": {
    "collapsed": true
   },
   "outputs": [],
   "source": []
  },
  {
   "cell_type": "code",
   "execution_count": 11,
   "metadata": {
    "collapsed": true
   },
   "outputs": [],
   "source": [
    "X = train_x_list\n",
    "y = train_y_list"
   ]
  },
  {
   "cell_type": "code",
   "execution_count": null,
   "metadata": {
    "collapsed": false
   },
   "outputs": [],
   "source": []
  },
  {
   "cell_type": "code",
   "execution_count": 12,
   "metadata": {
    "collapsed": false
   },
   "outputs": [
    {
     "name": "stdout",
     "output_type": "stream",
     "text": [
      "classifier name:  ELM(tanh)\n",
      "Resulting Accuracy (AVG), Recall (AVG), F-Score (AVG):\n",
      "macro   :  (0.316977036019228, 0.29536223266563211, 0.2978024527913618, None)\n",
      "weighted:  (0.55953943371506709, 0.60469904323604218, 0.57725427956755948, None)\n",
      "classifier name:  ELM(sinsq)\n",
      "Resulting Accuracy (AVG), Recall (AVG), F-Score (AVG):\n",
      "macro   :  (0.19183466965250645, 0.19946539306383027, 0.17805009810098213, None)\n",
      "weighted:  (0.46602891434338001, 0.60021799685115662, 0.51465413112937997, None)\n",
      "classifier name:  ELM(tribas)\n",
      "Resulting Accuracy (AVG), Recall (AVG), F-Score (AVG):\n",
      "macro   :  (0.20625406873120961, 0.20168320073488261, 0.18488255978482021, None)\n",
      "weighted:  (0.47036908042867076, 0.59597916918977834, 0.51504413226569545, None)\n",
      "classifier name:  ELM(hardlim)\n",
      "Resulting Accuracy (AVG), Recall (AVG), F-Score (AVG):\n",
      "macro   :  (0.35572729512571999, 0.28383948197696307, 0.29273966396899465, None)\n",
      "weighted:  (0.5702524207539682, 0.64151628920915582, 0.59142703681231135, None)\n",
      "classifier name:  ELM(rbf(0.1))\n",
      "Resulting Accuracy (AVG), Recall (AVG), F-Score (AVG):\n",
      "macro   :  (0.32657548569770156, 0.27527925788998969, 0.28440187503079345, None)\n",
      "weighted:  (0.55949797367792309, 0.62528763473416493, 0.5813852212427415, None)\n"
     ]
    }
   ],
   "source": [
    "from sklearn_extensions.extreme_learning_machines.elm import GenELMClassifier\n",
    "from sklearn_extensions.extreme_learning_machines.random_layer import RBFRandomLayer, MLPRandomLayer\n",
    "\n",
    "\n",
    "def make_classifiers():\n",
    "    names = [\n",
    "        \"ELM(tanh)\",\n",
    "        \"ELM(sinsq)\",\n",
    "        \"ELM(tribas)\",\n",
    "        \"ELM(hardlim)\",\n",
    "        \"ELM(rbf(0.1))\"\n",
    "    ]\n",
    "\n",
    "    nh = 1000\n",
    "\n",
    "    # pass user defined transfer func\n",
    "    sinsq = (lambda x: np.power(np.sin(x), 2.0))\n",
    "    srhl_sinsq = MLPRandomLayer(n_hidden=nh, activation_func=sinsq)\n",
    "\n",
    "    # use internal transfer funcs\n",
    "    srhl_tanh = MLPRandomLayer(n_hidden=nh, activation_func='tanh')\n",
    "    srhl_tribas = MLPRandomLayer(n_hidden=nh, activation_func='tribas')\n",
    "    srhl_hardlim = MLPRandomLayer(n_hidden=nh, activation_func='hardlim')\n",
    "\n",
    "    # use gaussian RBF\n",
    "    srhl_rbf = RBFRandomLayer(n_hidden=nh*2, rbf_width=0.1, random_state=0)\n",
    "\n",
    "    classifiers = [\n",
    "        GenELMClassifier(hidden_layer=srhl_tanh),\n",
    "        GenELMClassifier(hidden_layer=srhl_sinsq),\n",
    "        GenELMClassifier(hidden_layer=srhl_tribas),\n",
    "        GenELMClassifier(hidden_layer=srhl_hardlim),\n",
    "        GenELMClassifier(hidden_layer=srhl_rbf)\n",
    "    ]\n",
    "\n",
    "    return names, classifiers\n",
    "\n",
    "names, classifiers = make_classifiers()\n",
    "\n",
    "# iterate over classifiers\n",
    "for name, clf in zip(names, classifiers):\n",
    "    print \"classifier name: \", name\n",
    "    clf.fit(X, y)\n",
    "    predict_y_list = clf.predict(test_x_list)\n",
    "    calc_score(test_y_list, predict_y_list)"
   ]
  },
  {
   "cell_type": "code",
   "execution_count": null,
   "metadata": {
    "collapsed": true
   },
   "outputs": [],
   "source": []
  },
  {
   "cell_type": "code",
   "execution_count": null,
   "metadata": {
    "collapsed": true
   },
   "outputs": [],
   "source": []
  },
  {
   "cell_type": "code",
   "execution_count": 13,
   "metadata": {
    "collapsed": false
   },
   "outputs": [
    {
     "name": "stderr",
     "output_type": "stream",
     "text": [
      "No handlers could be found for logger \"imblearn.base\"\n"
     ]
    },
    {
     "name": "stdout",
     "output_type": "stream",
     "text": [
      "number of class 0 : 881\n",
      "number of class 1 : 2093\n",
      "number of class 2 : 5590\n",
      "number of class 3 : 674\n",
      "number of class 4 : 721\n"
     ]
    }
   ],
   "source": [
    "# SMOTE up-sampling training data\n",
    "sm = SMOTE(kind='regular')\n",
    "train_x_list_smote, train_y_list_smote = sm.fit_sample(train_x_list, train_y_list)\n",
    "train_x_list_smote, train_y_list_smote = sm.fit_sample(train_x_list_smote, train_y_list_smote)\n",
    "train_x_list_smote, train_y_list_smote = sm.fit_sample(train_x_list_smote, train_y_list_smote)\n",
    "train_x_list_smote, train_y_list_smote = sm.fit_sample(train_x_list_smote, train_y_list_smote)\n",
    "train_x_list_smote, train_y_list_smote = sm.fit_sample(train_x_list_smote, train_y_list_smote)\n",
    "\n",
    "# split training data to 5 different classes\n",
    "train_x_lists = [[] for i in range(5)]\n",
    "for i in xrange(len(train_y_list)):\n",
    "    train_x_lists[int(train_y_list[i])].append(train_x_list[i])\n",
    "for i in xrange(5):\n",
    "    print 'number of class', i, ':', len(train_x_lists[i])"
   ]
  },
  {
   "cell_type": "code",
   "execution_count": 14,
   "metadata": {
    "collapsed": false
   },
   "outputs": [
    {
     "name": "stdout",
     "output_type": "stream",
     "text": [
      "classifier name:  ELM(tanh)\n",
      "Resulting Accuracy (AVG), Recall (AVG), F-Score (AVG):\n",
      "macro   :  (0.31380803308220451, 0.29310870056840338, 0.29755179732153447, None)\n",
      "weighted:  (0.563884493599489, 0.61087562068547896, 0.5832389757120725, None)\n",
      "classifier name:  ELM(sinsq)\n",
      "Resulting Accuracy (AVG), Recall (AVG), F-Score (AVG):\n",
      "macro   :  (0.21081486135025154, 0.20001766611769328, 0.17908888750690616, None)\n",
      "weighted:  (0.4725776402444683, 0.60227685600096892, 0.51528825822503233, None)\n",
      "classifier name:  ELM(tribas)\n",
      "Resulting Accuracy (AVG), Recall (AVG), F-Score (AVG):\n",
      "macro   :  (0.21433375109951239, 0.20311560000763232, 0.186145986655114, None)\n",
      "weighted:  (0.47513654791125015, 0.59888579387186625, 0.51761738503294497, None)\n",
      "classifier name:  ELM(hardlim)\n",
      "Resulting Accuracy (AVG), Recall (AVG), F-Score (AVG):\n",
      "macro   :  (0.32821150349179329, 0.27313415043369899, 0.27727319473825196, None)\n",
      "weighted:  (0.55975630758695039, 0.63546082112147273, 0.58508803229954742, None)\n",
      "classifier name:  ELM(rbf(0.1))\n",
      "Resulting Accuracy (AVG), Recall (AVG), F-Score (AVG):\n",
      "macro   :  (0.32657548569770156, 0.27527925788998969, 0.28440187503079345, None)\n",
      "weighted:  (0.55949797367792309, 0.62528763473416493, 0.5813852212427415, None)\n"
     ]
    }
   ],
   "source": [
    "from sklearn_extensions.extreme_learning_machines.elm import GenELMClassifier\n",
    "from sklearn_extensions.extreme_learning_machines.random_layer import RBFRandomLayer, MLPRandomLayer\n",
    "\n",
    "\n",
    "def make_classifiers():\n",
    "    names = [\n",
    "        \"ELM(tanh)\",\n",
    "        \"ELM(sinsq)\",\n",
    "        \"ELM(tribas)\",\n",
    "        \"ELM(hardlim)\",\n",
    "        \"ELM(rbf(0.1))\"\n",
    "    ]\n",
    "\n",
    "    nh = 1000\n",
    "\n",
    "    # pass user defined transfer func\n",
    "    sinsq = (lambda x: np.power(np.sin(x), 2.0))\n",
    "    srhl_sinsq = MLPRandomLayer(n_hidden=nh, activation_func=sinsq)\n",
    "\n",
    "    # use internal transfer funcs\n",
    "    srhl_tanh = MLPRandomLayer(n_hidden=nh, activation_func='tanh')\n",
    "    srhl_tribas = MLPRandomLayer(n_hidden=nh, activation_func='tribas')\n",
    "    srhl_hardlim = MLPRandomLayer(n_hidden=nh, activation_func='hardlim')\n",
    "\n",
    "    # use gaussian RBF\n",
    "    srhl_rbf = RBFRandomLayer(n_hidden=nh*2, rbf_width=0.1, random_state=0)\n",
    "\n",
    "    classifiers = [\n",
    "        GenELMClassifier(hidden_layer=srhl_tanh),\n",
    "        GenELMClassifier(hidden_layer=srhl_sinsq),\n",
    "        GenELMClassifier(hidden_layer=srhl_tribas),\n",
    "        GenELMClassifier(hidden_layer=srhl_hardlim),\n",
    "        GenELMClassifier(hidden_layer=srhl_rbf)\n",
    "    ]\n",
    "\n",
    "    return names, classifiers\n",
    "\n",
    "names, classifiers = make_classifiers()\n",
    "\n",
    "# iterate over classifiers\n",
    "for name, clf in zip(names, classifiers):\n",
    "    print \"classifier name: \", name\n",
    "    clf.fit(X, y)\n",
    "    predict_y_list = clf.predict(test_x_list)\n",
    "    calc_score(test_y_list, predict_y_list)"
   ]
  },
  {
   "cell_type": "code",
   "execution_count": null,
   "metadata": {
    "collapsed": true
   },
   "outputs": [],
   "source": []
  },
  {
   "cell_type": "code",
   "execution_count": null,
   "metadata": {
    "collapsed": true
   },
   "outputs": [],
   "source": []
  },
  {
   "cell_type": "code",
   "execution_count": null,
   "metadata": {
    "collapsed": true
   },
   "outputs": [],
   "source": []
  },
  {
   "cell_type": "code",
   "execution_count": null,
   "metadata": {
    "collapsed": true
   },
   "outputs": [],
   "source": []
  },
  {
   "cell_type": "code",
   "execution_count": 15,
   "metadata": {
    "collapsed": false
   },
   "outputs": [
    {
     "name": "stdout",
     "output_type": "stream",
     "text": [
      "[2 3 2 2 2 0 2 2 2 2 2 2 2 2 2 1 2 2 2 2 2 3 0 1 4 2 4 2 2 1 2 2 2 2 2 2 1\n",
      " 2 4 2 2 2 2 2 1 2 2 2 2 2 2 2 2 2 1 2 2 2 2 1 2 2 2 2 2 1 2 2 2 2 1 2 2 2\n",
      " 1 2 2 2 1 1 1 1 2 2 2 1 1 1 1 1 2 2 2 2 2 2 2 1 1 1]\n"
     ]
    }
   ],
   "source": [
    "print predict_y_list[:100]"
   ]
  },
  {
   "cell_type": "code",
   "execution_count": 16,
   "metadata": {
    "collapsed": false
   },
   "outputs": [
    {
     "name": "stdout",
     "output_type": "stream",
     "text": [
      "[2 2 2 2 2 4 2 2 2 2 2 2 2 2 1 1 1 2 2 2 2 2 2 2 2 2 2 2 2 2 2 2 2 2 2 1 1\n",
      " 1 2 2 2 2 2 2 2 1 1 2 1 1 2 2 2 0 1 2 2 2 2 2 2 2 2 2 2 1 1 2 2 2 2 2 2 2\n",
      " 1 1 1 2 1 1 1 1 1 2 2 1 1 1 2 1 1 2 2 2 2 2 1 1 1 2]\n"
     ]
    }
   ],
   "source": [
    "print test_y_list[:100]"
   ]
  },
  {
   "cell_type": "code",
   "execution_count": null,
   "metadata": {
    "collapsed": true
   },
   "outputs": [],
   "source": []
  }
 ],
 "metadata": {
  "anaconda-cloud": {},
  "kernelspec": {
   "display_name": "Python [conda env:python2]",
   "language": "python",
   "name": "conda-env-python2-py"
  },
  "language_info": {
   "codemirror_mode": {
    "name": "ipython",
    "version": 2
   },
   "file_extension": ".py",
   "mimetype": "text/x-python",
   "name": "python",
   "nbconvert_exporter": "python",
   "pygments_lexer": "ipython2",
   "version": "2.7.12"
  }
 },
 "nbformat": 4,
 "nbformat_minor": 0
}
