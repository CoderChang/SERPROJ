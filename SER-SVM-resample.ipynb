{
 "cells": [
  {
   "cell_type": "code",
   "execution_count": 1,
   "metadata": {
    "collapsed": false
   },
   "outputs": [],
   "source": [
    "%matplotlib inline\n",
    "import cv2\n",
    "import matplotlib.pyplot as plt\n",
    "import logging\n",
    "\n",
    "logger = logging.getLogger()\n",
    "logger.setLevel(logging.DEBUG)"
   ]
  },
  {
   "cell_type": "code",
   "execution_count": 2,
   "metadata": {
    "collapsed": false
   },
   "outputs": [],
   "source": [
    "import mxnet as mx\n",
    "import numpy as np\n",
    "\n",
    "from sklearn import svm\n",
    "from sklearn import metrics\n",
    "from sklearn import preprocessing\n",
    "from imblearn.over_sampling import SMOTE\n",
    "from sklearn.decomposition import PCA\n",
    "from sklearn.discriminant_analysis import LinearDiscriminantAnalysis\n",
    "from sklearn.discriminant_analysis import QuadraticDiscriminantAnalysis\n",
    "\n",
    "import os\n",
    "import sys\n",
    "import math\n",
    "import time\n",
    "import pickle\n",
    "\n",
    "proj_dir = os.getcwd()\n",
    "label_dir = os.path.join(proj_dir, 'emotiondetection/features_labels_lld/labels')\n",
    "lld_dir = os.path.join(proj_dir, 'emotiondetection/features_labels_lld/lld')\n",
    "\n",
    "pickle_train_y_list = 'pickle_train_y_list'\n",
    "pickle_train_x_list = 'pickle_train_x_list'\n",
    "\n",
    "pickle_test_y_list = 'pickle_test_y_list'\n",
    "pickle_test_x_list = 'pickle_test_x_list'"
   ]
  },
  {
   "cell_type": "code",
   "execution_count": 3,
   "metadata": {
    "collapsed": false
   },
   "outputs": [],
   "source": [
    "train_y_list = pickle.load(open(pickle_train_y_list))\n",
    "train_x_list = pickle.load(open(pickle_train_x_list))\n",
    "\n",
    "test_y_list = pickle.load(open(pickle_test_y_list))\n",
    "test_x_list = pickle.load(open(pickle_test_x_list))"
   ]
  },
  {
   "cell_type": "code",
   "execution_count": 4,
   "metadata": {
    "collapsed": true
   },
   "outputs": [],
   "source": [
    "from sklearn.metrics import confusion_matrix\n",
    "import itertools\n",
    "def calc_score(test_y_list, predict_y_list):\n",
    "    print \"Resulting Accuracy (AVG), Recall (AVG), F-Score (AVG):\"\n",
    "    print 'macro   : ', metrics.precision_recall_fscore_support(test_y_list, predict_y_list, average='macro')\n",
    "    print 'weighted: ', metrics.precision_recall_fscore_support(test_y_list, predict_y_list, average='weighted')\n",
    "    print confusion_matrix(test_y_list, predict_y_list)"
   ]
  },
  {
   "cell_type": "code",
   "execution_count": 5,
   "metadata": {
    "collapsed": false
   },
   "outputs": [],
   "source": [
    "# z-score normalization\n",
    "# scaler = preprocessing.StandardScaler().fit(train_x_list)\n",
    "# train_x_list = scaler.transform(train_x_list)\n",
    "# test_x_list = scaler.transform(test_x_list)"
   ]
  },
  {
   "cell_type": "code",
   "execution_count": 6,
   "metadata": {
    "collapsed": false
   },
   "outputs": [],
   "source": [
    "# PCA whiten\n",
    "# pca = PCA(n_components='mle', svd_solver='full', whiten=True)\n",
    "# x_pca = pca.fit(train_x_list)\n",
    "# train_x_list = pca.transform(train_x_list)\n",
    "# test_x_list = pca.transform(test_x_list)"
   ]
  },
  {
   "cell_type": "code",
   "execution_count": 7,
   "metadata": {
    "collapsed": false
   },
   "outputs": [],
   "source": [
    "# sklearn l1/l2 normalization\n",
    "# x_normalizer = preprocessing.Normalizer(norm='l2').fit(train_x_list)\n",
    "# train_x_list = x_normalizer.transform(train_x_list)\n",
    "# test_x_list = x_normalizer.transform(test_x_list)"
   ]
  },
  {
   "cell_type": "code",
   "execution_count": 8,
   "metadata": {
    "collapsed": false
   },
   "outputs": [],
   "source": [
    "# # SMOTE up-sampling training data\n",
    "# sm = SMOTE(kind='regular')\n",
    "# train_x_list, train_y_list = sm.fit_sample(train_x_list, train_y_list)\n",
    "# train_x_list, train_y_list = sm.fit_sample(train_x_list, train_y_list)\n",
    "# train_x_list, train_y_list = sm.fit_sample(train_x_list, train_y_list)\n",
    "# train_x_list, train_y_list = sm.fit_sample(train_x_list, train_y_list)\n",
    "# train_x_list, train_y_list = sm.fit_sample(train_x_list, train_y_list)\n",
    "\n",
    "# # split training data to 5 different classes\n",
    "# train_x_lists = [[] for i in range(5)]\n",
    "# for i in xrange(len(train_y_list)):\n",
    "#     train_x_lists[int(train_y_list[i])].append(train_x_list[i])\n",
    "# for i in xrange(5):\n",
    "#     print 'number of class', i, ':', len(train_x_lists[i])"
   ]
  },
  {
   "cell_type": "code",
   "execution_count": null,
   "metadata": {
    "collapsed": true
   },
   "outputs": [],
   "source": []
  },
  {
   "cell_type": "code",
   "execution_count": 9,
   "metadata": {
    "collapsed": true
   },
   "outputs": [],
   "source": [
    "train_y_list = pickle.load(open(pickle_train_y_list))\n",
    "train_x_list = pickle.load(open(pickle_train_x_list))\n",
    "\n",
    "test_y_list = pickle.load(open(pickle_test_y_list))\n",
    "test_x_list = pickle.load(open(pickle_test_x_list))\n",
    "\n",
    "# z-score normalization\n",
    "scaler = preprocessing.StandardScaler().fit(train_x_list)\n",
    "train_x_list = scaler.transform(train_x_list)\n",
    "test_x_list = scaler.transform(test_x_list)"
   ]
  },
  {
   "cell_type": "code",
   "execution_count": 10,
   "metadata": {
    "collapsed": false
   },
   "outputs": [
    {
     "name": "stdout",
     "output_type": "stream",
     "text": [
      "start: 2017-01-02 19:28:02\n",
      "SVC(C=1.0, cache_size=200,\n",
      "  class_weight={0: 1.8404131569918016, 1: 1.3827660759495979, 2: 1, 3: 2.010461544588641, 4: 1.9654842218759818},\n",
      "  coef0=0.0, decision_function_shape=None, degree=3, gamma='auto',\n",
      "  kernel='rbf', max_iter=-1, probability=False, random_state=None,\n",
      "  shrinking=True, tol=0.001, verbose=False)\n",
      "Resulting Accuracy (AVG), Recall (AVG), F-Score (AVG):\n",
      "macro   :  (0.43437032581322016, 0.33001732248445059, 0.34012622882194549, None)\n",
      "weighted:  (0.60514395699041468, 0.64817730410560737, 0.60765561020635861, None)\n",
      "[[ 171  142  287    6    5]\n",
      " [  50  475  980    1    2]\n",
      " [ 152  472 4660   89    4]\n",
      " [  13    5  158   37    2]\n",
      " [  43   31  433   30    9]]\n",
      "end: 2017-01-02 19:29:14\n"
     ]
    }
   ],
   "source": [
    "print 'start:', time.strftime( '%Y-%m-%d %H:%M:%S', time.localtime( time.time() ) )\n",
    "\n",
    "weight = {\n",
    "    0: 6.35 ** 0.33,\n",
    "    1: 2.67 ** 0.33,\n",
    "    2: 1,\n",
    "    3: 8.3 ** 0.33,\n",
    "    4: 7.75 ** 0.33\n",
    "}\n",
    "\n",
    "clf = svm.SVC(class_weight=weight).fit(train_x_list, train_y_list)\n",
    "print clf\n",
    "predict_y_list = clf.predict(test_x_list)\n",
    "calc_score(test_y_list, predict_y_list)\n",
    "\n",
    "print 'end:', time.strftime( '%Y-%m-%d %H:%M:%S', time.localtime( time.time() ) )\n",
    "predict_y_list1 = predict_y_list"
   ]
  },
  {
   "cell_type": "code",
   "execution_count": 11,
   "metadata": {
    "collapsed": false
   },
   "outputs": [
    {
     "name": "stdout",
     "output_type": "stream",
     "text": [
      "[2 2 2 2 2 2 2 2 2 2 3 2 2 2 2 1 2 2 2 2 2 2 0 1 2 2 2 2 2 2 2 2 2 2 2 1 1\n",
      " 2 2 2 2 2 2 2 2 1 1 2 1 2 2 2 2 2 1 2 2 2 2 2 2 2 2 2 2 1 1 2 2 2 2 2 1 2\n",
      " 1 2 1 2 1 2 1 1 1 2 2 1 1 1 1 1 2 2 2 2 2 2 2 1 1 1]\n",
      "[2 2 2 2 2 4 2 2 2 2 2 2 2 2 1 1 1 2 2 2 2 2 2 2 2 2 2 2 2 2 2 2 2 2 2 1 1\n",
      " 1 2 2 2 2 2 2 2 1 1 2 1 1 2 2 2 0 1 2 2 2 2 2 2 2 2 2 2 1 1 2 2 2 2 2 2 2\n",
      " 1 1 1 2 1 1 1 1 1 2 2 1 1 1 2 1 1 2 2 2 2 2 1 1 1 2]\n",
      "(array([ 0.3986014 ,  0.42222222,  0.71494323,  0.22699387,  0.40909091]), array([ 0.27986907,  0.31498674,  0.86665427,  0.17209302,  0.01648352]), array([ 0.32884615,  0.36080517,  0.78352249,  0.1957672 ,  0.03169014]), array([ 611, 1508, 5377,  215,  546]))\n"
     ]
    }
   ],
   "source": [
    "print predict_y_list[:100]\n",
    "print test_y_list[:100]\n",
    "print metrics.precision_recall_fscore_support(test_y_list, predict_y_list)"
   ]
  },
  {
   "cell_type": "code",
   "execution_count": null,
   "metadata": {
    "collapsed": true
   },
   "outputs": [],
   "source": []
  },
  {
   "cell_type": "code",
   "execution_count": null,
   "metadata": {
    "collapsed": true
   },
   "outputs": [],
   "source": []
  },
  {
   "cell_type": "code",
   "execution_count": 12,
   "metadata": {
    "collapsed": false
   },
   "outputs": [
    {
     "name": "stdout",
     "output_type": "stream",
     "text": [
      "start: 2017-01-02 19:29:14\n",
      "SVC(C=1.0, cache_size=200,\n",
      "  class_weight={0: 2.094640469748963, 1: 1.4811686268981117, 2: 1, 3: 2.3314775446267633, 4: 2.2684054445938244},\n",
      "  coef0=0.0, decision_function_shape=None, degree=3, gamma='auto',\n",
      "  kernel='rbf', max_iter=-1, probability=False, random_state=None,\n",
      "  shrinking=True, tol=0.001, verbose=False)\n",
      "Resulting Accuracy (AVG), Recall (AVG), F-Score (AVG):\n",
      "macro   :  (0.41053777172837069, 0.34228042617856314, 0.34914740222390728, None)\n",
      "weighted:  (0.59901949988912362, 0.64163739857090951, 0.60756400871019145, None)\n",
      "[[ 182  142  272    6    9]\n",
      " [  57  499  945    2    5]\n",
      " [ 191  507 4558  107   14]\n",
      " [  13    5  149   45    3]\n",
      " [  46   32  418   36   14]]\n",
      "end: 2017-01-02 19:30:27\n"
     ]
    }
   ],
   "source": [
    "print 'start:', time.strftime( '%Y-%m-%d %H:%M:%S', time.localtime( time.time() ) )\n",
    "\n",
    "weight = {\n",
    "    0: 6.35 ** 0.4,\n",
    "    1: 2.67 ** 0.4,\n",
    "    2: 1,\n",
    "    3: 8.3 ** 0.4,\n",
    "    4: 7.75 ** 0.4\n",
    "}\n",
    "\n",
    "clf = svm.SVC(class_weight=weight).fit(train_x_list, train_y_list)\n",
    "print clf\n",
    "predict_y_list = clf.predict(test_x_list)\n",
    "calc_score(test_y_list, predict_y_list)\n",
    "\n",
    "print 'end:', time.strftime( '%Y-%m-%d %H:%M:%S', time.localtime( time.time() ) )\n",
    "predict_y_list2 = predict_y_list"
   ]
  },
  {
   "cell_type": "code",
   "execution_count": 13,
   "metadata": {
    "collapsed": false
   },
   "outputs": [
    {
     "name": "stdout",
     "output_type": "stream",
     "text": [
      "start: 2017-01-02 19:30:27\n",
      "SVC(C=1.0, cache_size=200,\n",
      "  class_weight={0: 2.5199206336708304, 1: 1.6340134638368191, 2: 1, 3: 2.8809720581775866, 4: 2.7838821814150108},\n",
      "  coef0=0.0, decision_function_shape=None, degree=3, gamma='auto',\n",
      "  kernel='rbf', max_iter=-1, probability=False, random_state=None,\n",
      "  shrinking=True, tol=0.001, verbose=False)\n",
      "Resulting Accuracy (AVG), Recall (AVG), F-Score (AVG):\n",
      "macro   :  (0.4042626943866594, 0.3584048191916126, 0.36085679345920862, None)\n",
      "weighted:  (0.60054714898129358, 0.6315853215453554, 0.60741039606006819, None)\n",
      "[[ 204  146  240    6   15]\n",
      " [  72  529  895    4    8]\n",
      " [ 239  571 4403  132   32]\n",
      " [  13    5  141   51    5]\n",
      " [  52   36  385   45   28]]\n",
      "end: 2017-01-02 19:31:42\n"
     ]
    }
   ],
   "source": [
    "print 'start:', time.strftime( '%Y-%m-%d %H:%M:%S', time.localtime( time.time() ) )\n",
    "\n",
    "weight = {\n",
    "    0: 6.35 ** 0.5,\n",
    "    1: 2.67 ** 0.5,\n",
    "    2: 1,\n",
    "    3: 8.3 ** 0.5,\n",
    "    4: 7.75 ** 0.5\n",
    "}\n",
    "\n",
    "clf = svm.SVC(class_weight=weight).fit(train_x_list, train_y_list)\n",
    "print clf\n",
    "predict_y_list = clf.predict(test_x_list)\n",
    "calc_score(test_y_list, predict_y_list)\n",
    "\n",
    "print 'end:', time.strftime( '%Y-%m-%d %H:%M:%S', time.localtime( time.time() ) )\n",
    "predict_y_list3 = predict_y_list"
   ]
  },
  {
   "cell_type": "code",
   "execution_count": 14,
   "metadata": {
    "collapsed": false,
    "scrolled": true
   },
   "outputs": [
    {
     "name": "stdout",
     "output_type": "stream",
     "text": [
      "start: 2017-01-02 19:31:42\n",
      "SVC(C=1.0, cache_size=200,\n",
      "  class_weight={0: 6.35, 1: 2.67, 2: 1, 3: 8.3, 4: 7.75}, coef0=0.0,\n",
      "  decision_function_shape=None, degree=3, gamma='auto', kernel='rbf',\n",
      "  max_iter=-1, probability=False, random_state=None, shrinking=True,\n",
      "  tol=0.001, verbose=False)\n",
      "Resulting Accuracy (AVG), Recall (AVG), F-Score (AVG):\n",
      "macro   :  (0.34771895794757218, 0.38614656180344353, 0.35978992049038094, None)\n",
      "weighted:  (0.59150678158843006, 0.56218965726050629, 0.57334985198892652, None)\n",
      "[[ 246  162  150    7   46]\n",
      " [ 134  672  646    8   48]\n",
      " [ 511  834 3595  209  228]\n",
      " [  17   11  105   63   19]\n",
      " [  65   45  321   49   66]]\n",
      "end: 2017-01-02 19:33:05\n"
     ]
    }
   ],
   "source": [
    "print 'start:', time.strftime( '%Y-%m-%d %H:%M:%S', time.localtime( time.time() ) )\n",
    "\n",
    "weight = {\n",
    "    0: 6.35 ** 1,\n",
    "    1: 2.67 ** 1,\n",
    "    2: 1,\n",
    "    3: 8.3 ** 1,\n",
    "    4: 7.75 ** 1\n",
    "}\n",
    "\n",
    "clf = svm.SVC(class_weight=weight).fit(train_x_list, train_y_list)\n",
    "print clf\n",
    "predict_y_list = clf.predict(test_x_list)\n",
    "calc_score(test_y_list, predict_y_list)\n",
    "\n",
    "print 'end:', time.strftime( '%Y-%m-%d %H:%M:%S', time.localtime( time.time() ) )\n",
    "predict_y_list4 = predict_y_list"
   ]
  },
  {
   "cell_type": "code",
   "execution_count": 15,
   "metadata": {
    "collapsed": false
   },
   "outputs": [
    {
     "name": "stdout",
     "output_type": "stream",
     "text": [
      "start: 2017-01-02 19:33:05\n",
      "SVC(C=1.0, cache_size=200,\n",
      "  class_weight={0: 40.3225, 1: 7.1289, 2: 1, 3: 68.89000000000001, 4: 60.0625},\n",
      "  coef0=0.0, decision_function_shape=None, degree=3, gamma='auto',\n",
      "  kernel='rbf', max_iter=-1, probability=False, random_state=None,\n",
      "  shrinking=True, tol=0.001, verbose=False)\n",
      "Resulting Accuracy (AVG), Recall (AVG), F-Score (AVG):\n",
      "macro   :  (0.33926852554640358, 0.38659623468274418, 0.35031719895993052, None)\n",
      "weighted:  (0.58917207746074141, 0.52622017681966815, 0.54556387141094442, None)\n",
      "[[ 238  205  121    8   39]\n",
      " [ 130  803  518   12   45]\n",
      " [ 504 1244 3171  221  237]\n",
      " [  18   15   98   63   21]\n",
      " [  59   79  287   51   70]]\n",
      "end: 2017-01-02 19:34:35\n"
     ]
    }
   ],
   "source": [
    "print 'start:', time.strftime( '%Y-%m-%d %H:%M:%S', time.localtime( time.time() ) )\n",
    "\n",
    "weight = {\n",
    "    0: 6.35 ** 2,\n",
    "    1: 2.67 ** 2,\n",
    "    2: 1,\n",
    "    3: 8.3 ** 2,\n",
    "    4: 7.75 ** 2\n",
    "}\n",
    "\n",
    "clf = svm.SVC(class_weight=weight).fit(train_x_list, train_y_list)\n",
    "print clf\n",
    "predict_y_list = clf.predict(test_x_list)\n",
    "calc_score(test_y_list, predict_y_list)\n",
    "\n",
    "print 'end:', time.strftime( '%Y-%m-%d %H:%M:%S', time.localtime( time.time() ) )\n",
    "predict_y_list5 = predict_y_list"
   ]
  },
  {
   "cell_type": "code",
   "execution_count": null,
   "metadata": {
    "collapsed": true
   },
   "outputs": [],
   "source": []
  },
  {
   "cell_type": "code",
   "execution_count": null,
   "metadata": {
    "collapsed": true
   },
   "outputs": [],
   "source": []
  },
  {
   "cell_type": "code",
   "execution_count": null,
   "metadata": {
    "collapsed": true
   },
   "outputs": [],
   "source": []
  },
  {
   "cell_type": "code",
   "execution_count": null,
   "metadata": {
    "collapsed": true
   },
   "outputs": [],
   "source": []
  },
  {
   "cell_type": "code",
   "execution_count": null,
   "metadata": {
    "collapsed": true
   },
   "outputs": [],
   "source": []
  },
  {
   "cell_type": "code",
   "execution_count": null,
   "metadata": {
    "collapsed": true
   },
   "outputs": [],
   "source": []
  },
  {
   "cell_type": "code",
   "execution_count": 48,
   "metadata": {
    "collapsed": false
   },
   "outputs": [
    {
     "name": "stdout",
     "output_type": "stream",
     "text": [
      "number of class 0 : 674\n",
      "number of class 1 : 674\n",
      "number of class 2 : 674\n",
      "number of class 3 : 674\n",
      "number of class 4 : 674\n"
     ]
    }
   ],
   "source": [
    "train_y_list = pickle.load(open(pickle_train_y_list))\n",
    "train_x_list = pickle.load(open(pickle_train_x_list))\n",
    "\n",
    "test_y_list = pickle.load(open(pickle_test_y_list))\n",
    "test_x_list = pickle.load(open(pickle_test_x_list))\n",
    "\n",
    "# ENN down-sampling training data\n",
    "from imblearn.under_sampling import EditedNearestNeighbours\n",
    "from imblearn.under_sampling import TomekLinks \n",
    "from imblearn.under_sampling import ClusterCentroids\n",
    "from imblearn.combine import SMOTEENN\n",
    "# enn = EditedNearestNeighbours()\n",
    "# enn = SMOTEENN()\n",
    "# enn = TomekLinks()\n",
    "enn = ClusterCentroids()\n",
    "\n",
    "train_x_list_enn, train_y_list_enn = enn.fit_sample(train_x_list, train_y_list)\n",
    "# train_x_list_enn, train_y_list_enn = enn.fit_sample(train_x_list_enn, train_y_list_enn)\n",
    "\n",
    "# split training data to 5 different classes\n",
    "train_x_lists = [[] for i in range(5)]\n",
    "train_y_lists = [[] for i in range(5)]\n",
    "for i in xrange(len(train_y_list_enn)):\n",
    "    train_x_lists[int(train_y_list_enn[i])].append(train_x_list_enn[i])\n",
    "    train_y_lists[int(train_y_list_enn[i])].append(train_y_list_enn[i])\n",
    "for i in xrange(5):\n",
    "    print 'number of class', i, ':', len(train_x_lists[i])\n",
    "\n",
    "train_x_lists_enn = train_x_lists\n",
    "train_y_lists_enn = train_y_lists"
   ]
  },
  {
   "cell_type": "code",
   "execution_count": 50,
   "metadata": {
    "collapsed": false
   },
   "outputs": [
    {
     "name": "stdout",
     "output_type": "stream",
     "text": [
      "number of class 0 : 881 881\n",
      "number of class 1 : 2093 2093\n",
      "number of class 2 : 5590 5590\n",
      "number of class 3 : 674 674\n",
      "number of class 4 : 721 721\n",
      "------------------\n",
      "number of class 0 : 881\n",
      "number of class 1 : 674\n",
      "number of class 2 : 674\n",
      "number of class 3 : 674\n",
      "number of class 4 : 721\n"
     ]
    }
   ],
   "source": [
    "train_y_list = pickle.load(open(pickle_train_y_list))\n",
    "train_x_list = pickle.load(open(pickle_train_x_list))\n",
    "\n",
    "test_y_list = pickle.load(open(pickle_test_y_list))\n",
    "test_x_list = pickle.load(open(pickle_test_x_list))\n",
    "\n",
    "# split training data to 5 different classes\n",
    "train_x_lists = [[] for i in range(5)]\n",
    "train_y_lists = [[] for i in range(5)]\n",
    "for i in xrange(len(train_y_list)):\n",
    "    train_x_lists[int(train_y_list[i])].append(train_x_list[i])\n",
    "    train_y_lists[int(train_y_list[i])].append(train_y_list[i])\n",
    "for i in xrange(5):\n",
    "    print 'number of class', i, ':', len(train_x_lists[i]), len(train_y_lists[i])\n",
    "print '------------------'\n",
    "\n",
    "train_x_lists[1] = train_x_lists_enn[1]\n",
    "train_y_lists[1] = train_y_lists_enn[1]\n",
    "train_x_lists[2] = train_x_lists_enn[2]\n",
    "train_y_lists[2] = train_y_lists_enn[2]\n",
    "\n",
    "train_x_list = np.vstack(train_x_lists)\n",
    "train_y_list = np.concatenate(train_y_lists)\n",
    "\n",
    "# split training data to 5 different classes\n",
    "train_x_lists = [[] for i in range(5)]\n",
    "for i in xrange(len(train_y_list)):\n",
    "    train_x_lists[int(train_y_list[i])].append(train_x_list[i])\n",
    "for i in xrange(5):\n",
    "    print 'number of class', i, ':', len(train_x_lists[i])"
   ]
  },
  {
   "cell_type": "code",
   "execution_count": 42,
   "metadata": {
    "collapsed": true
   },
   "outputs": [],
   "source": [
    "# train_x_list = train_x_list_enn\n",
    "# train_y_list = train_y_list_enn"
   ]
  },
  {
   "cell_type": "code",
   "execution_count": 51,
   "metadata": {
    "collapsed": true
   },
   "outputs": [],
   "source": [
    "# z-score normalization\n",
    "scaler = preprocessing.StandardScaler().fit(train_x_list)\n",
    "train_x_list = scaler.transform(train_x_list)\n",
    "test_x_list = scaler.transform(test_x_list)"
   ]
  },
  {
   "cell_type": "code",
   "execution_count": null,
   "metadata": {
    "collapsed": true
   },
   "outputs": [],
   "source": []
  },
  {
   "cell_type": "code",
   "execution_count": 52,
   "metadata": {
    "collapsed": false
   },
   "outputs": [
    {
     "name": "stdout",
     "output_type": "stream",
     "text": [
      "(3624,) (3624, 384)\n",
      "(8257,) (8257, 384)\n"
     ]
    }
   ],
   "source": [
    "print train_y_list.shape, train_x_list.shape\n",
    "print test_y_list.shape, test_x_list.shape"
   ]
  },
  {
   "cell_type": "code",
   "execution_count": 53,
   "metadata": {
    "collapsed": false
   },
   "outputs": [
    {
     "name": "stdout",
     "output_type": "stream",
     "text": [
      "[ 0.67506735  0.0528037   0.67446364 -0.38068081 -0.40528258  0.74205891\n",
      " -0.26309741  0.99936794  0.43582439  0.76829528]\n",
      "[-1.24947057 -0.81926435 -1.24438278 -0.45810469 -0.41422403 -1.29056827\n",
      "  0.068657   -0.95818242 -0.74776975 -1.29537846]\n"
     ]
    }
   ],
   "source": [
    "print train_x_list[0][:10]\n",
    "print test_x_list[0][:10]"
   ]
  },
  {
   "cell_type": "code",
   "execution_count": null,
   "metadata": {
    "collapsed": true
   },
   "outputs": [],
   "source": []
  },
  {
   "cell_type": "code",
   "execution_count": 54,
   "metadata": {
    "collapsed": true
   },
   "outputs": [],
   "source": [
    "X = train_x_list\n",
    "y = train_y_list"
   ]
  },
  {
   "cell_type": "code",
   "execution_count": null,
   "metadata": {
    "collapsed": true
   },
   "outputs": [],
   "source": []
  },
  {
   "cell_type": "code",
   "execution_count": 55,
   "metadata": {
    "collapsed": false
   },
   "outputs": [
    {
     "name": "stdout",
     "output_type": "stream",
     "text": [
      "start: 2016-12-30 20:32:15\n",
      "SVC(C=1.0, cache_size=200, class_weight=None, coef0=0.0,\n",
      "  decision_function_shape=None, degree=3, gamma='auto', kernel='rbf',\n",
      "  max_iter=-1, probability=False, random_state=None, shrinking=True,\n",
      "  tol=0.001, verbose=False)\n",
      "Resulting Accuracy (AVG), Recall (AVG), F-Score (AVG):\n",
      "macro   :  (0.29587885079197651, 0.38252983453551564, 0.20100340847025794, None)\n",
      "weighted:  (0.58115510408094317, 0.18784062007993219, 0.17991859520499798, None)\n",
      "end: 2016-12-30 20:32:30\n"
     ]
    }
   ],
   "source": [
    "# SVM \n",
    "print 'start:', time.strftime( '%Y-%m-%d %H:%M:%S', time.localtime( time.time() ) )\n",
    "\n",
    "clf = svm.SVC().fit(X, y)\n",
    "print clf\n",
    "predict_y_list = clf.predict(test_x_list)\n",
    "calc_score(test_y_list, predict_y_list)\n",
    "\n",
    "print 'end:', time.strftime( '%Y-%m-%d %H:%M:%S', time.localtime( time.time() ) )"
   ]
  },
  {
   "cell_type": "code",
   "execution_count": 30,
   "metadata": {
    "collapsed": false
   },
   "outputs": [
    {
     "name": "stdout",
     "output_type": "stream",
     "text": [
      "start: 2016-12-30 20:15:36\n",
      "SVC(C=1.0, cache_size=200, class_weight='balanced', coef0=0.0,\n",
      "  decision_function_shape=None, degree=3, gamma='auto', kernel='rbf',\n",
      "  max_iter=-1, probability=False, random_state=None, shrinking=True,\n",
      "  tol=0.001, verbose=False)\n",
      "Resulting Accuracy (AVG), Recall (AVG), F-Score (AVG):\n",
      "macro   :  (0.32113274668916331, 0.41193565063273763, 0.31800877496126334, None)\n",
      "weighted:  (0.61344621207480299, 0.41334625166525374, 0.45524405554992409, None)\n",
      "end: 2016-12-30 20:16:07\n"
     ]
    }
   ],
   "source": [
    "# SVM with class_weight='balanced'\n",
    "print 'start:', time.strftime( '%Y-%m-%d %H:%M:%S', time.localtime( time.time() ) )\n",
    "\n",
    "clf = svm.SVC(class_weight='balanced').fit(X, y)\n",
    "print clf\n",
    "predict_y_list = clf.predict(test_x_list)\n",
    "calc_score(test_y_list, predict_y_list)\n",
    "\n",
    "print 'end:', time.strftime( '%Y-%m-%d %H:%M:%S', time.localtime( time.time() ) )"
   ]
  },
  {
   "cell_type": "code",
   "execution_count": 31,
   "metadata": {
    "collapsed": false
   },
   "outputs": [
    {
     "name": "stdout",
     "output_type": "stream",
     "text": [
      "start: 2016-12-30 20:16:07\n",
      "SVC(C=1.0, cache_size=200,\n",
      "  class_weight={0: 1.8404131569918016, 1: 1.3827660759495979, 2: 1, 3: 2.010461544588641, 4: 1.9654842218759818},\n",
      "  coef0=0.0, decision_function_shape=None, degree=3, gamma='auto',\n",
      "  kernel='rbf', max_iter=-1, probability=False, random_state=None,\n",
      "  shrinking=True, tol=0.001, verbose=False)\n",
      "Resulting Accuracy (AVG), Recall (AVG), F-Score (AVG):\n",
      "macro   :  (0.32194985067925602, 0.40413755998548651, 0.29934946231293946, None)\n",
      "weighted:  (0.61449782844691381, 0.37156352186023978, 0.38581416840209287, None)\n",
      "end: 2016-12-30 20:16:37\n"
     ]
    }
   ],
   "source": [
    "print 'start:', time.strftime( '%Y-%m-%d %H:%M:%S', time.localtime( time.time() ) )\n",
    "\n",
    "weight = {\n",
    "    0: 6.35 ** 0.33,\n",
    "    1: 2.67 ** 0.33,\n",
    "    2: 1,\n",
    "    3: 8.3 ** 0.33,\n",
    "    4: 7.75 ** 0.33\n",
    "}\n",
    "\n",
    "clf = svm.SVC(class_weight=weight).fit(train_x_list, train_y_list)\n",
    "print clf\n",
    "predict_y_list = clf.predict(test_x_list)\n",
    "calc_score(test_y_list, predict_y_list)\n",
    "\n",
    "print 'end:', time.strftime( '%Y-%m-%d %H:%M:%S', time.localtime( time.time() ) )"
   ]
  },
  {
   "cell_type": "code",
   "execution_count": 32,
   "metadata": {
    "collapsed": false
   },
   "outputs": [
    {
     "name": "stdout",
     "output_type": "stream",
     "text": [
      "start: 2016-12-30 20:16:37\n",
      "SVC(C=1.0, cache_size=200,\n",
      "  class_weight={0: 2.094640469748963, 1: 1.4811686268981117, 2: 1, 3: 2.3314775446267633, 4: 2.2684054445938244},\n",
      "  coef0=0.0, decision_function_shape=None, degree=3, gamma='auto',\n",
      "  kernel='rbf', max_iter=-1, probability=False, random_state=None,\n",
      "  shrinking=True, tol=0.001, verbose=False)\n",
      "Resulting Accuracy (AVG), Recall (AVG), F-Score (AVG):\n",
      "macro   :  (0.31996519615146141, 0.4034634555604758, 0.29250897985822488, None)\n",
      "weighted:  (0.62069837927563576, 0.35872592951435145, 0.3713732567840764, None)\n",
      "end: 2016-12-30 20:17:08\n"
     ]
    }
   ],
   "source": [
    "print 'start:', time.strftime( '%Y-%m-%d %H:%M:%S', time.localtime( time.time() ) )\n",
    "\n",
    "weight = {\n",
    "    0: 6.35 ** 0.4,\n",
    "    1: 2.67 ** 0.4,\n",
    "    2: 1,\n",
    "    3: 8.3 ** 0.4,\n",
    "    4: 7.75 ** 0.4\n",
    "}\n",
    "\n",
    "clf = svm.SVC(class_weight=weight).fit(train_x_list, train_y_list)\n",
    "print clf\n",
    "predict_y_list = clf.predict(test_x_list)\n",
    "calc_score(test_y_list, predict_y_list)\n",
    "\n",
    "print 'end:', time.strftime( '%Y-%m-%d %H:%M:%S', time.localtime( time.time() ) )"
   ]
  },
  {
   "cell_type": "code",
   "execution_count": 33,
   "metadata": {
    "collapsed": false
   },
   "outputs": [
    {
     "name": "stdout",
     "output_type": "stream",
     "text": [
      "start: 2016-12-30 20:17:08\n",
      "SVC(C=1.0, cache_size=200,\n",
      "  class_weight={0: 2.5199206336708304, 1: 1.6340134638368191, 2: 1, 3: 2.8809720581775866, 4: 2.7838821814150108},\n",
      "  coef0=0.0, decision_function_shape=None, degree=3, gamma='auto',\n",
      "  kernel='rbf', max_iter=-1, probability=False, random_state=None,\n",
      "  shrinking=True, tol=0.001, verbose=False)\n",
      "Resulting Accuracy (AVG), Recall (AVG), F-Score (AVG):\n",
      "macro   :  (0.31663995649598919, 0.40345908120145679, 0.28339466043278255, None)\n",
      "weighted:  (0.62080248858719667, 0.33934843163376527, 0.34804844980815253, None)\n",
      "end: 2016-12-30 20:17:39\n"
     ]
    }
   ],
   "source": [
    "print 'start:', time.strftime( '%Y-%m-%d %H:%M:%S', time.localtime( time.time() ) )\n",
    "\n",
    "weight = {\n",
    "    0: 6.35 ** 0.5,\n",
    "    1: 2.67 ** 0.5,\n",
    "    2: 1,\n",
    "    3: 8.3 ** 0.5,\n",
    "    4: 7.75 ** 0.5\n",
    "}\n",
    "\n",
    "clf = svm.SVC(class_weight=weight).fit(train_x_list, train_y_list)\n",
    "print clf\n",
    "predict_y_list = clf.predict(test_x_list)\n",
    "calc_score(test_y_list, predict_y_list)\n",
    "\n",
    "print 'end:', time.strftime( '%Y-%m-%d %H:%M:%S', time.localtime( time.time() ) )"
   ]
  },
  {
   "cell_type": "code",
   "execution_count": 34,
   "metadata": {
    "collapsed": false
   },
   "outputs": [
    {
     "name": "stdout",
     "output_type": "stream",
     "text": [
      "start: 2016-12-30 20:17:39\n",
      "SVC(C=1.0, cache_size=200,\n",
      "  class_weight={0: 6.35, 1: 2.67, 2: 1, 3: 8.3, 4: 7.75}, coef0=0.0,\n",
      "  decision_function_shape=None, degree=3, gamma='auto', kernel='rbf',\n",
      "  max_iter=-1, probability=False, random_state=None, shrinking=True,\n",
      "  tol=0.001, verbose=False)\n",
      "Resulting Accuracy (AVG), Recall (AVG), F-Score (AVG):\n",
      "macro   :  (0.30668983152818269, 0.39089494096697652, 0.25133075298765323, None)\n",
      "weighted:  (0.62477830444406335, 0.28678696863267533, 0.27838346396228048, None)\n",
      "end: 2016-12-30 20:18:12\n"
     ]
    }
   ],
   "source": [
    "print 'start:', time.strftime( '%Y-%m-%d %H:%M:%S', time.localtime( time.time() ) )\n",
    "\n",
    "weight = {\n",
    "    0: 6.35 ** 1,\n",
    "    1: 2.67 ** 1,\n",
    "    2: 1,\n",
    "    3: 8.3 ** 1,\n",
    "    4: 7.75 ** 1\n",
    "}\n",
    "\n",
    "clf = svm.SVC(class_weight=weight).fit(train_x_list, train_y_list)\n",
    "print clf\n",
    "predict_y_list = clf.predict(test_x_list)\n",
    "calc_score(test_y_list, predict_y_list)\n",
    "\n",
    "print 'end:', time.strftime( '%Y-%m-%d %H:%M:%S', time.localtime( time.time() ) )"
   ]
  },
  {
   "cell_type": "code",
   "execution_count": 35,
   "metadata": {
    "collapsed": false
   },
   "outputs": [
    {
     "name": "stdout",
     "output_type": "stream",
     "text": [
      "start: 2016-12-30 20:18:12\n",
      "SVC(C=1.0, cache_size=200,\n",
      "  class_weight={0: 40.3225, 1: 7.1289, 2: 1, 3: 68.89000000000001, 4: 60.0625},\n",
      "  coef0=0.0, decision_function_shape=None, degree=3, gamma='auto',\n",
      "  kernel='rbf', max_iter=-1, probability=False, random_state=None,\n",
      "  shrinking=True, tol=0.001, verbose=False)\n",
      "Resulting Accuracy (AVG), Recall (AVG), F-Score (AVG):\n",
      "macro   :  (0.30877735415219376, 0.3906187830266708, 0.24814798525822557, None)\n",
      "weighted:  (0.625619325628193, 0.28073150054499213, 0.26179593767554693, None)\n",
      "end: 2016-12-30 20:18:45\n"
     ]
    }
   ],
   "source": [
    "print 'start:', time.strftime( '%Y-%m-%d %H:%M:%S', time.localtime( time.time() ) )\n",
    "\n",
    "weight = {\n",
    "    0: 6.35 ** 2,\n",
    "    1: 2.67 ** 2,\n",
    "    2: 1,\n",
    "    3: 8.3 ** 2,\n",
    "    4: 7.75 ** 2\n",
    "}\n",
    "\n",
    "clf = svm.SVC(class_weight=weight).fit(train_x_list, train_y_list)\n",
    "print clf\n",
    "predict_y_list = clf.predict(test_x_list)\n",
    "calc_score(test_y_list, predict_y_list)\n",
    "\n",
    "print 'end:', time.strftime( '%Y-%m-%d %H:%M:%S', time.localtime( time.time() ) )"
   ]
  },
  {
   "cell_type": "code",
   "execution_count": null,
   "metadata": {
    "collapsed": true
   },
   "outputs": [],
   "source": []
  },
  {
   "cell_type": "code",
   "execution_count": null,
   "metadata": {
    "collapsed": true
   },
   "outputs": [],
   "source": []
  },
  {
   "cell_type": "code",
   "execution_count": null,
   "metadata": {
    "collapsed": true
   },
   "outputs": [],
   "source": []
  },
  {
   "cell_type": "code",
   "execution_count": 36,
   "metadata": {
    "collapsed": false
   },
   "outputs": [
    {
     "name": "stdout",
     "output_type": "stream",
     "text": [
      "[3 1 3 4 2 0 4 1 1 0 3 3 4 3 1 1 1 4 3 2 2 1 4 1 4 1 3 2 0 1 0 3 0 3 4 1 1\n",
      " 4 0 0 4 4 0 1 2 1 1 1 1 0 1 1 0 4 1 3 2 1 0 0 1 1 4 1 1 1 1 1 3 1 1 1 1 4\n",
      " 1 1 1 2 1 1 1 1 1 1 1 1 1 1 1 1 1 4 2 3 1 1 3 1 1 4]\n"
     ]
    }
   ],
   "source": [
    "print predict_y_list[:100]"
   ]
  },
  {
   "cell_type": "code",
   "execution_count": 37,
   "metadata": {
    "collapsed": false
   },
   "outputs": [
    {
     "name": "stdout",
     "output_type": "stream",
     "text": [
      "[2 2 2 2 2 4 2 2 2 2 2 2 2 2 1 1 1 2 2 2 2 2 2 2 2 2 2 2 2 2 2 2 2 2 2 1 1\n",
      " 1 2 2 2 2 2 2 2 1 1 2 1 1 2 2 2 0 1 2 2 2 2 2 2 2 2 2 2 1 1 2 2 2 2 2 2 2\n",
      " 1 1 1 2 1 1 1 1 1 2 2 1 1 1 2 1 1 2 2 2 2 2 1 1 1 2]\n"
     ]
    }
   ],
   "source": [
    "print test_y_list[:100]"
   ]
  },
  {
   "cell_type": "code",
   "execution_count": null,
   "metadata": {
    "collapsed": true
   },
   "outputs": [],
   "source": []
  }
 ],
 "metadata": {
  "anaconda-cloud": {},
  "kernelspec": {
   "display_name": "Python [conda env:python2]",
   "language": "python",
   "name": "conda-env-python2-py"
  },
  "language_info": {
   "codemirror_mode": {
    "name": "ipython",
    "version": 2
   },
   "file_extension": ".py",
   "mimetype": "text/x-python",
   "name": "python",
   "nbconvert_exporter": "python",
   "pygments_lexer": "ipython2",
   "version": "2.7.12"
  }
 },
 "nbformat": 4,
 "nbformat_minor": 0
}
