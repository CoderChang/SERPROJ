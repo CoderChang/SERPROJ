{
 "cells": [
  {
   "cell_type": "code",
   "execution_count": 1,
   "metadata": {
    "collapsed": false
   },
   "outputs": [],
   "source": [
    "%matplotlib inline\n",
    "import cv2\n",
    "import matplotlib.pyplot as plt\n",
    "import logging\n",
    "\n",
    "logger = logging.getLogger()\n",
    "logger.setLevel(logging.DEBUG)"
   ]
  },
  {
   "cell_type": "code",
   "execution_count": 2,
   "metadata": {
    "collapsed": false
   },
   "outputs": [],
   "source": [
    "import mxnet as mx\n",
    "import numpy as np\n",
    "\n",
    "from sklearn import svm\n",
    "from sklearn import metrics\n",
    "from sklearn import preprocessing\n",
    "from imblearn.over_sampling import SMOTE\n",
    "from sklearn.decomposition import PCA\n",
    "from sklearn.discriminant_analysis import LinearDiscriminantAnalysis\n",
    "from sklearn.discriminant_analysis import QuadraticDiscriminantAnalysis\n",
    "\n",
    "import os\n",
    "import sys\n",
    "import math\n",
    "import time\n",
    "import pickle\n",
    "\n",
    "proj_dir = os.getcwd()\n",
    "label_dir = os.path.join(proj_dir, 'emotiondetection/features_labels_lld/labels')\n",
    "lld_dir = os.path.join(proj_dir, 'emotiondetection/features_labels_lld/lld')\n",
    "\n",
    "pickle_train_y_list = 'pickle_train_y_list'\n",
    "pickle_train_x_list = 'pickle_train_x_list'\n",
    "\n",
    "pickle_test_y_list = 'pickle_test_y_list'\n",
    "pickle_test_x_list = 'pickle_test_x_list'"
   ]
  },
  {
   "cell_type": "code",
   "execution_count": 3,
   "metadata": {
    "collapsed": false
   },
   "outputs": [],
   "source": [
    "train_y_list = pickle.load(open(pickle_train_y_list))\n",
    "train_x_list = pickle.load(open(pickle_train_x_list))\n",
    "\n",
    "test_y_list = pickle.load(open(pickle_test_y_list))\n",
    "test_x_list = pickle.load(open(pickle_test_x_list))"
   ]
  },
  {
   "cell_type": "code",
   "execution_count": 4,
   "metadata": {
    "collapsed": true
   },
   "outputs": [],
   "source": [
    "from sklearn.metrics import confusion_matrix\n",
    "import itertools\n",
    "def calc_score(test_y_list, predict_y_list):\n",
    "    print \"Resulting Accuracy (AVG), Recall (AVG), F-Score (AVG):\"\n",
    "    print 'macro   : ', metrics.precision_recall_fscore_support(test_y_list, predict_y_list, average='macro')\n",
    "    print 'weighted: ', metrics.precision_recall_fscore_support(test_y_list, predict_y_list, average='weighted')\n",
    "    print metrics.precision_recall_fscore_support(test_y_list, predict_y_list)\n",
    "    print confusion_matrix(test_y_list, predict_y_list)"
   ]
  },
  {
   "cell_type": "code",
   "execution_count": 5,
   "metadata": {
    "collapsed": true
   },
   "outputs": [],
   "source": [
    "# z-score normalization\n",
    "# scaler = preprocessing.StandardScaler().fit(train_x_list)\n",
    "# train_x_list = scaler.transform(train_x_list)\n",
    "# test_x_list = scaler.transform(test_x_list)"
   ]
  },
  {
   "cell_type": "code",
   "execution_count": 6,
   "metadata": {
    "collapsed": false
   },
   "outputs": [],
   "source": [
    "# PCA whiten\n",
    "# pca = PCA(n_components='mle', svd_solver='full', whiten=True)\n",
    "# x_pca = pca.fit(train_x_list)\n",
    "# train_x_list = pca.transform(train_x_list)\n",
    "# test_x_list = pca.transform(test_x_list)"
   ]
  },
  {
   "cell_type": "code",
   "execution_count": 7,
   "metadata": {
    "collapsed": false
   },
   "outputs": [],
   "source": [
    "# sklearn l1/l2 normalization\n",
    "# x_normalizer = preprocessing.Normalizer(norm='l2').fit(train_x_list)\n",
    "# train_x_list = x_normalizer.transform(train_x_list)\n",
    "# test_x_list = x_normalizer.transform(test_x_list)"
   ]
  },
  {
   "cell_type": "code",
   "execution_count": 8,
   "metadata": {
    "collapsed": false
   },
   "outputs": [],
   "source": [
    "# # SMOTE up-sampling training data\n",
    "# sm = SMOTE(kind='regular')\n",
    "# train_x_list, train_y_list = sm.fit_sample(train_x_list, train_y_list)\n",
    "# train_x_list, train_y_list = sm.fit_sample(train_x_list, train_y_list)\n",
    "# train_x_list, train_y_list = sm.fit_sample(train_x_list, train_y_list)\n",
    "# train_x_list, train_y_list = sm.fit_sample(train_x_list, train_y_list)\n",
    "# train_x_list, train_y_list = sm.fit_sample(train_x_list, train_y_list)\n",
    "\n",
    "# # split training data to 5 different classes\n",
    "# train_x_lists = [[] for i in range(5)]\n",
    "# for i in xrange(len(train_y_list)):\n",
    "#     train_x_lists[int(train_y_list[i])].append(train_x_list[i])\n",
    "# for i in xrange(5):\n",
    "#     print 'number of class', i, ':', len(train_x_lists[i])"
   ]
  },
  {
   "cell_type": "code",
   "execution_count": null,
   "metadata": {
    "collapsed": true
   },
   "outputs": [],
   "source": []
  },
  {
   "cell_type": "code",
   "execution_count": 9,
   "metadata": {
    "collapsed": false
   },
   "outputs": [
    {
     "name": "stderr",
     "output_type": "stream",
     "text": [
      "/home/slhome/cc001/anaconda3/envs/python2/lib/python2.7/site-packages/sklearn/cross_validation.py:44: DeprecationWarning: This module was deprecated in version 0.18 in favor of the model_selection module into which all the refactored classes and functions are moved. Also note that the interface of the new CV iterators are different from that of this module. This module will be removed in 0.20.\n",
      "  \"This module will be removed in 0.20.\", DeprecationWarning)\n",
      "No handlers could be found for logger \"imblearn.base\"\n"
     ]
    },
    {
     "name": "stdout",
     "output_type": "stream",
     "text": [
      "number of class 0 : 3\n",
      "number of class 1 : 59\n",
      "number of class 2 : 1373\n",
      "number of class 3 : 674\n",
      "number of class 4 : 2\n"
     ]
    }
   ],
   "source": [
    "train_y_list = pickle.load(open(pickle_train_y_list))\n",
    "train_x_list = pickle.load(open(pickle_train_x_list))\n",
    "\n",
    "test_y_list = pickle.load(open(pickle_test_y_list))\n",
    "test_x_list = pickle.load(open(pickle_test_x_list))\n",
    "\n",
    "# ENN down-sampling training data\n",
    "from imblearn.under_sampling import EditedNearestNeighbours\n",
    "from imblearn.combine import SMOTEENN\n",
    "enn = EditedNearestNeighbours()\n",
    "# enn = SMOTEENN()\n",
    "\n",
    "train_x_list_enn, train_y_list_enn = enn.fit_sample(train_x_list, train_y_list)\n",
    "\n",
    "# split training data to 5 different classes\n",
    "train_x_lists = [[] for i in range(5)]\n",
    "train_y_lists = [[] for i in range(5)]\n",
    "for i in xrange(len(train_y_list_enn)):\n",
    "    train_x_lists[int(train_y_list_enn[i])].append(train_x_list_enn[i])\n",
    "    train_y_lists[int(train_y_list_enn[i])].append(train_y_list_enn[i])\n",
    "for i in xrange(5):\n",
    "    print 'number of class', i, ':', len(train_x_lists[i])\n",
    "\n",
    "train_x_lists_enn = train_x_lists\n",
    "train_y_lists_enn = train_y_lists"
   ]
  },
  {
   "cell_type": "code",
   "execution_count": 10,
   "metadata": {
    "collapsed": false
   },
   "outputs": [
    {
     "name": "stdout",
     "output_type": "stream",
     "text": [
      "number of class 0 : 881 881\n",
      "number of class 1 : 2093 2093\n",
      "number of class 2 : 5590 5590\n",
      "number of class 3 : 674 674\n",
      "number of class 4 : 721 721\n",
      "------------------\n",
      "number of class 0 : 881\n",
      "number of class 1 : 2093\n",
      "number of class 2 : 1373\n",
      "number of class 3 : 674\n",
      "number of class 4 : 721\n"
     ]
    }
   ],
   "source": [
    "train_y_list = pickle.load(open(pickle_train_y_list))\n",
    "train_x_list = pickle.load(open(pickle_train_x_list))\n",
    "\n",
    "test_y_list = pickle.load(open(pickle_test_y_list))\n",
    "test_x_list = pickle.load(open(pickle_test_x_list))\n",
    "\n",
    "# split training data to 5 different classes\n",
    "train_x_lists = [[] for i in range(5)]\n",
    "train_y_lists = [[] for i in range(5)]\n",
    "for i in xrange(len(train_y_list)):\n",
    "    train_x_lists[int(train_y_list[i])].append(train_x_list[i])\n",
    "    train_y_lists[int(train_y_list[i])].append(train_y_list[i])\n",
    "for i in xrange(5):\n",
    "    print 'number of class', i, ':', len(train_x_lists[i]), len(train_y_lists[i])\n",
    "print '------------------'\n",
    "\n",
    "train_x_lists[2] = train_x_lists_enn[2]\n",
    "train_y_lists[2] = train_y_lists_enn[2]\n",
    "\n",
    "train_x_list = np.vstack(train_x_lists)\n",
    "train_y_list = np.concatenate(train_y_lists)\n",
    "\n",
    "# split training data to 5 different classes\n",
    "train_x_lists = [[] for i in range(5)]\n",
    "for i in xrange(len(train_y_list)):\n",
    "    train_x_lists[int(train_y_list[i])].append(train_x_list[i])\n",
    "for i in xrange(5):\n",
    "    print 'number of class', i, ':', len(train_x_lists[i])"
   ]
  },
  {
   "cell_type": "code",
   "execution_count": null,
   "metadata": {
    "collapsed": true
   },
   "outputs": [],
   "source": []
  },
  {
   "cell_type": "code",
   "execution_count": null,
   "metadata": {
    "collapsed": true
   },
   "outputs": [],
   "source": []
  },
  {
   "cell_type": "code",
   "execution_count": 11,
   "metadata": {
    "collapsed": false
   },
   "outputs": [
    {
     "name": "stdout",
     "output_type": "stream",
     "text": [
      "(5742,) (5742, 384)\n",
      "(8257,) (8257, 384)\n"
     ]
    }
   ],
   "source": [
    "print train_y_list.shape, train_x_list.shape\n",
    "print test_y_list.shape, test_x_list.shape"
   ]
  },
  {
   "cell_type": "code",
   "execution_count": 12,
   "metadata": {
    "collapsed": false
   },
   "outputs": [
    {
     "name": "stdout",
     "output_type": "stream",
     "text": [
      "[  1.01766700e-01   3.14376600e-04   1.01452300e-01   5.80000000e+01\n",
      "   2.50000000e+01   1.67105400e-02  -6.80357300e-05   2.35821500e-02\n",
      "   6.06719100e-04   2.49522500e-02]\n",
      "[  1.23016500e-02   9.11361400e-05   1.22105100e-02   5.20000000e+01\n",
      "   2.40000000e+01   1.31725500e-03   3.23349300e-07   1.29866300e-03\n",
      "   6.89166500e-06   2.62522000e-03]\n"
     ]
    }
   ],
   "source": [
    "print train_x_list[0][:10]\n",
    "print test_x_list[0][:10]"
   ]
  },
  {
   "cell_type": "code",
   "execution_count": null,
   "metadata": {
    "collapsed": true
   },
   "outputs": [],
   "source": []
  },
  {
   "cell_type": "code",
   "execution_count": 13,
   "metadata": {
    "collapsed": true
   },
   "outputs": [],
   "source": [
    "X = train_x_list\n",
    "y = train_y_list"
   ]
  },
  {
   "cell_type": "code",
   "execution_count": null,
   "metadata": {
    "collapsed": true
   },
   "outputs": [],
   "source": []
  },
  {
   "cell_type": "code",
   "execution_count": 14,
   "metadata": {
    "collapsed": false
   },
   "outputs": [],
   "source": [
    "import numpy as np\n",
    "import matplotlib.pyplot as plt\n",
    "from matplotlib.colors import ListedColormap\n",
    "from sklearn.model_selection import train_test_split\n",
    "from sklearn.preprocessing import StandardScaler\n",
    "from sklearn.neural_network import MLPClassifier\n",
    "from sklearn.neighbors import KNeighborsClassifier\n",
    "from sklearn.svm import SVC\n",
    "from sklearn.tree import DecisionTreeClassifier\n",
    "from sklearn.ensemble import RandomForestClassifier, AdaBoostClassifier\n",
    "from sklearn.naive_bayes import GaussianNB\n",
    "from sklearn.discriminant_analysis import QuadraticDiscriminantAnalysis, LinearDiscriminantAnalysis\n",
    "\n",
    "names = [\n",
    "    \"Nearest Neighbors\",\n",
    "    \"RBF SVM\",\n",
    "    \"Decision Tree\",\n",
    "    \"Random Forest\",\n",
    "    \"Neural Net\",\n",
    "    \"AdaBoost\",\n",
    "    \"Naive Bayes\",\n",
    "    \"QDA\",\n",
    "    \"LDA\"\n",
    "]\n",
    "\n",
    "classifiers = [\n",
    "    KNeighborsClassifier(3),\n",
    "    SVC(),\n",
    "    DecisionTreeClassifier(max_depth=5),\n",
    "    RandomForestClassifier(max_depth=5, n_estimators=10, max_features=1),\n",
    "    MLPClassifier(alpha=1),\n",
    "    AdaBoostClassifier(),\n",
    "    GaussianNB(),\n",
    "    QuadraticDiscriminantAnalysis(), \n",
    "    LinearDiscriminantAnalysis()\n",
    "]"
   ]
  },
  {
   "cell_type": "code",
   "execution_count": null,
   "metadata": {
    "collapsed": true
   },
   "outputs": [],
   "source": []
  },
  {
   "cell_type": "code",
   "execution_count": 15,
   "metadata": {
    "collapsed": false
   },
   "outputs": [
    {
     "name": "stdout",
     "output_type": "stream",
     "text": [
      "Classifier: Nearest Neighbors\n",
      "Resulting Accuracy (AVG), Recall (AVG), F-Score (AVG):\n",
      "macro   :  (0.21357951717603677, 0.22300935253020787, 0.15470206230849584, None)\n",
      "weighted:  (0.50192197560472329, 0.24512534818941503, 0.24904306447567109, None)\n",
      "(array([ 0.09090909,  0.19895407,  0.69633508,  0.        ,  0.08169935]), array([ 0.31587561,  0.58023873,  0.17314488,  0.        ,  0.04578755]), array([ 0.14118508,  0.29630884,  0.27733095,  0.        ,  0.05868545]), array([ 611, 1508, 5377,  215,  546]))\n",
      "[[ 193  322   66    7   23]\n",
      " [ 362  875  198   13   60]\n",
      " [1380 2817  931   64  185]\n",
      " [  42  110   50    0   13]\n",
      " [ 146  274   92    9   25]]\n",
      "-------------------------------\n",
      "Classifier: RBF SVM\n",
      "Resulting Accuracy (AVG), Recall (AVG), F-Score (AVG):\n",
      "macro   :  (0.036526583504904932, 0.20000000000000001, 0.061771633384536603, None)\n",
      "weighted:  (0.033354782563519828, 0.18263291752452465, 0.056407668126366238, None)\n",
      "(array([ 0.        ,  0.18263292,  0.        ,  0.        ,  0.        ]), array([ 0.,  1.,  0.,  0.,  0.]), array([ 0.        ,  0.30885817,  0.        ,  0.        ,  0.        ]), array([ 611, 1508, 5377,  215,  546]))\n",
      "[[   0  611    0    0    0]\n",
      " [   0 1508    0    0    0]\n",
      " [   0 5377    0    0    0]\n",
      " [   0  215    0    0    0]\n",
      " [   0  546    0    0    0]]\n",
      "-------------------------------\n",
      "Classifier: Decision Tree\n"
     ]
    },
    {
     "name": "stderr",
     "output_type": "stream",
     "text": [
      "/home/slhome/cc001/anaconda3/envs/python2/lib/python2.7/site-packages/sklearn/metrics/classification.py:1113: UndefinedMetricWarning: Precision and F-score are ill-defined and being set to 0.0 in labels with no predicted samples.\n",
      "  'precision', 'predicted', average, warn_for)\n"
     ]
    },
    {
     "name": "stdout",
     "output_type": "stream",
     "text": [
      "Resulting Accuracy (AVG), Recall (AVG), F-Score (AVG):\n",
      "macro   :  (0.28891604452474973, 0.33669608757404501, 0.27343151533999621, None)\n",
      "weighted:  (0.57062060795593639, 0.38319002058859147, 0.41153277013112094, None)\n",
      "(array([ 0.20541205,  0.27209172,  0.76146045,  0.09318996,  0.11242604]), array([ 0.27332242,  0.64522546,  0.34907941,  0.24186047,  0.17399267]), array([ 0.23455056,  0.38276947,  0.47870441,  0.13454075,  0.13659238]), array([ 611, 1508, 5377,  215,  546]))\n",
      "[[ 167  296   52   36   60]\n",
      " [ 163  973  270   40   62]\n",
      " [ 430 2112 1877  357  601]\n",
      " [   5   30  101   52   27]\n",
      " [  48  165  165   73   95]]\n",
      "-------------------------------\n",
      "Classifier: Random Forest\n",
      "Resulting Accuracy (AVG), Recall (AVG), F-Score (AVG):\n",
      "macro   :  (0.28040438871863421, 0.24567152027383438, 0.15545857417298409, None)\n",
      "weighted:  (0.56318284703073451, 0.28303257841831175, 0.24155443964908183, None)\n",
      "(array([ 0.31147541,  0.20839342,  0.76636364,  0.11578947,  0.        ]), array([ 0.06219313,  0.95822281,  0.15677887,  0.05116279,  0.        ]), array([ 0.10368349,  0.34233594,  0.2603057 ,  0.07096774,  0.        ]), array([ 611, 1508, 5377,  215,  546]))\n",
      "[[  38  510   60    3    0]\n",
      " [  15 1445   44    3    1]\n",
      " [  56 4408  843   65    5]\n",
      " [   3  133   68   11    0]\n",
      " [  10  438   85   13    0]]\n",
      "-------------------------------\n",
      "Classifier: Neural Net\n",
      "Resulting Accuracy (AVG), Recall (AVG), F-Score (AVG):\n",
      "macro   :  (0.36594971786015573, 0.27797150924771086, 0.28115772412307494, None)\n",
      "weighted:  (0.57351035722434363, 0.61232893302652291, 0.57571605012840454, None)\n",
      "(array([ 0.52702703,  0.35669192,  0.70596705,  0.15555556,  0.08450704]), array([ 0.06382979,  0.37466844,  0.82071787,  0.09767442,  0.03296703]), array([ 0.11386861,  0.36545925,  0.75902993,  0.12      ,  0.04743083]), array([ 611, 1508, 5377,  215,  546]))\n",
      "[[  39  179  349   12   32]\n",
      " [   4  565  898   12   29]\n",
      " [  19  759 4413   68  118]\n",
      " [   3   17  158   21   16]\n",
      " [   9   64  433   22   18]]\n",
      "-------------------------------\n",
      "Classifier: AdaBoost\n",
      "Resulting Accuracy (AVG), Recall (AVG), F-Score (AVG):\n",
      "macro   :  (0.27665370308873199, 0.37450198895412157, 0.24901535040505191, None)\n",
      "weighted:  (0.56670588016557144, 0.3279641516289209, 0.36764405632907254, None)\n",
      "(array([ 0.15542907,  0.30260521,  0.75557665,  0.08270106,  0.08695652]), array([ 0.58101473,  0.4005305 ,  0.29607588,  0.50697674,  0.08791209]), array([ 0.24525043,  0.34474886,  0.42544094,  0.14220483,  0.08743169]), array([ 611, 1508, 5377,  215,  546]))\n",
      "[[ 355  125   63   40   28]\n",
      " [ 443  604  264  121   76]\n",
      " [1313 1180 1592  903  389]\n",
      " [  33   14   48  109   11]\n",
      " [ 140   73  140  145   48]]\n",
      "-------------------------------\n",
      "Classifier: Naive Bayes\n",
      "Resulting Accuracy (AVG), Recall (AVG), F-Score (AVG):\n",
      "macro   :  (0.28207419884691237, 0.30692601412448006, 0.1640776420176018, None)\n",
      "weighted:  (0.57288475789778448, 0.1705219813491583, 0.1582883429142507, None)\n",
      "(array([ 0.08715678,  0.36106984,  0.75381264,  0.10403727,  0.10429448]), array([ 0.80523732,  0.32228117,  0.06434815,  0.31162791,  0.03113553]), array([ 0.157289  ,  0.34057463,  0.11857437,  0.15599534,  0.04795487]), array([ 611, 1508, 5377,  215,  546]))\n",
      "[[ 492   81   13   19    6]\n",
      " [ 897  486   42   53   30]\n",
      " [3784  704  346  444   99]\n",
      " [ 100   24   13   67   11]\n",
      " [ 372   51   45   61   17]]\n",
      "-------------------------------\n",
      "Classifier: QDA\n"
     ]
    },
    {
     "name": "stderr",
     "output_type": "stream",
     "text": [
      "/home/slhome/cc001/anaconda3/envs/python2/lib/python2.7/site-packages/sklearn/discriminant_analysis.py:695: UserWarning: Variables are collinear\n",
      "  warnings.warn(\"Variables are collinear\")\n"
     ]
    },
    {
     "name": "stdout",
     "output_type": "stream",
     "text": [
      "Resulting Accuracy (AVG), Recall (AVG), F-Score (AVG):\n",
      "macro   :  (0.39784390412029091, 0.2915279816885451, 0.25480297974296934, None)\n",
      "weighted:  (0.56655737443549226, 0.52077025554075329, 0.52483612287835779, None)\n",
      "(array([ 0.15528313,  0.31860465,  0.72366507,  0.66666667,  0.125     ]), array([ 0.43535188,  0.36339523,  0.64775897,  0.00930233,  0.0018315 ]), array([ 0.22891566,  0.33952912,  0.68361138,  0.01834862,  0.00361011]), array([ 611, 1508, 5377,  215,  546]))\n",
      "[[ 266  151  194    0    0]\n",
      " [ 319  548  640    0    1]\n",
      " [1009  878 3483    1    6]\n",
      " [  28   42  143    2    0]\n",
      " [  91  101  353    0    1]]\n",
      "-------------------------------\n",
      "Classifier: LDA\n",
      "Resulting Accuracy (AVG), Recall (AVG), F-Score (AVG):\n",
      "macro   :  (0.31739575084824923, 0.39036745872701817, 0.30833613442513275, None)\n",
      "weighted:  (0.60142750488151797, 0.4051108150660046, 0.43616887456552639, None)\n",
      "(array([ 0.26628571,  0.30625   ,  0.79200653,  0.11664075,  0.10579577]), array([ 0.38134206,  0.64986737,  0.36116794,  0.34883721,  0.21062271]), array([ 0.31359354,  0.41631266,  0.49610423,  0.17482517,  0.14084507]), array([ 611, 1508, 5377,  215,  546]))\n",
      "[[ 233  234   49   20   75]\n",
      " [ 127  980  224   42  135]\n",
      " [ 431 1848 1942  434  722]\n",
      " [  16   26   58   75   40]\n",
      " [  68  112  179   72  115]]\n",
      "-------------------------------\n"
     ]
    },
    {
     "name": "stderr",
     "output_type": "stream",
     "text": [
      "/home/slhome/cc001/anaconda3/envs/python2/lib/python2.7/site-packages/sklearn/discriminant_analysis.py:387: UserWarning: Variables are collinear.\n",
      "  warnings.warn(\"Variables are collinear.\")\n"
     ]
    }
   ],
   "source": [
    "for name, clf in zip(names, classifiers):\n",
    "    print 'Classifier:', name\n",
    "\n",
    "    clf.fit(train_x_list, train_y_list)\n",
    "    predict_y_list = clf.predict(test_x_list)\n",
    "    calc_score(test_y_list, predict_y_list)\n",
    "\n",
    "    print '-------------------------------'"
   ]
  },
  {
   "cell_type": "code",
   "execution_count": null,
   "metadata": {
    "collapsed": true
   },
   "outputs": [],
   "source": []
  },
  {
   "cell_type": "code",
   "execution_count": 16,
   "metadata": {
    "collapsed": false
   },
   "outputs": [
    {
     "name": "stdout",
     "output_type": "stream",
     "text": [
      "Classifier: Nearest Neighbors\n",
      "Resulting Accuracy (AVG), Recall (AVG), F-Score (AVG):\n",
      "macro   :  (0.26923006977491665, 0.29713868281828548, 0.22231302314409035, None)\n",
      "weighted:  (0.54514496644606669, 0.30785999757781274, 0.32613314857922077, None)\n",
      "(array([ 0.12137097,  0.24791006,  0.73828125,  0.14124294,  0.09734513]), array([ 0.49263502,  0.57029178,  0.24604798,  0.11627907,  0.06043956]), array([ 0.19475898,  0.34558971,  0.36908913,  0.12755102,  0.07457627]), array([ 611, 1508, 5377,  215,  546]))\n",
      "[[ 301  224   46    7   33]\n",
      " [ 374  860  238    6   30]\n",
      " [1573 2140 1323  116  225]\n",
      " [  60   57   55   25   18]\n",
      " [ 172  188  130   23   33]]\n",
      "-------------------------------\n",
      "Classifier: RBF SVM\n",
      "Resulting Accuracy (AVG), Recall (AVG), F-Score (AVG):\n",
      "macro   :  (0.3605814533163173, 0.39624981265346193, 0.33534003027017384, None)\n",
      "weighted:  (0.61079607172323935, 0.46178999636671914, 0.47965038426328793, None)\n",
      "(array([ 0.30537353,  0.28845668,  0.79058663,  0.17435897,  0.24413146]), array([ 0.38134206,  0.75729443,  0.43109541,  0.31627907,  0.0952381 ]), array([ 0.33915575,  0.4177794 ,  0.55794921,  0.22479339,  0.1370224 ]), array([ 611, 1508, 5377,  215,  546]))\n",
      "[[ 233  291   61    9   17]\n",
      " [  79 1142  262   15   10]\n",
      " [ 377 2318 2318  242  122]\n",
      " [  18   44   73   68   12]\n",
      " [  56  164  218   56   52]]\n",
      "-------------------------------\n",
      "Classifier: Decision Tree\n",
      "Resulting Accuracy (AVG), Recall (AVG), F-Score (AVG):\n",
      "macro   :  (0.27467956955178191, 0.31272594533506287, 0.24258281604266449, None)\n",
      "weighted:  (0.56076662353858775, 0.39408986314642119, 0.41830771824195678, None)\n",
      "(array([ 0.21732026,  0.26404643,  0.75173929,  0.05865922,  0.08163265]), array([ 0.21767594,  0.6637931 ,  0.38181142,  0.29302326,  0.00732601]), array([ 0.21749796,  0.37780713,  0.50641342,  0.09775019,  0.01344538]), array([ 611, 1508, 5377,  215,  546]))\n",
      "[[ 133  329   83   62    4]\n",
      " [ 137 1001  293   64   13]\n",
      " [ 306 2248 2053  744   26]\n",
      " [   4   31  115   63    2]\n",
      " [  32  182  187  141    4]]\n",
      "-------------------------------\n",
      "Classifier: Random Forest\n",
      "Resulting Accuracy (AVG), Recall (AVG), F-Score (AVG):\n",
      "macro   :  (0.28537723423997929, 0.22206105228966563, 0.11515598871356918, None)\n",
      "weighted:  (0.58721157205371444, 0.26002179968511568, 0.20395382092255593, None)\n",
      "(array([ 0.33333333,  0.19793786,  0.80470588,  0.09090909,  0.        ]), array([ 0.00163666,  0.96750663,  0.12720848,  0.01395349,  0.        ]), array([ 0.00325733,  0.32864061,  0.21968845,  0.02419355,  0.        ]), array([ 611, 1508, 5377,  215,  546]))\n",
      "[[   1  576   27    7    0]\n",
      " [   0 1459   47    2    0]\n",
      " [   2 4678  684   13    0]\n",
      " [   0  174   38    3    0]\n",
      " [   0  484   54    8    0]]\n",
      "-------------------------------\n",
      "Classifier: Neural Net\n",
      "Resulting Accuracy (AVG), Recall (AVG), F-Score (AVG):\n",
      "macro   :  (0.30918189993744277, 0.37589599626624526, 0.29974379644198479, None)\n",
      "weighted:  (0.58413342216091957, 0.40159864357514835, 0.43660317590241332, None)\n",
      "(array([ 0.26093294,  0.2882941 ,  0.77097506,  0.12011173,  0.10559567]), array([ 0.29296236,  0.5928382 ,  0.37939371,  0.4       ,  0.21428571]), array([ 0.27602159,  0.38793665,  0.50853795,  0.18474758,  0.14147521]), array([ 611, 1508, 5377,  215,  546]))\n",
      "[[ 179  262   73   23   74]\n",
      " [  95  894  307   46  166]\n",
      " [ 346 1791 2040  476  724]\n",
      " [  13   33   56   86   27]\n",
      " [  53  121  170   85  117]]\n",
      "-------------------------------\n",
      "Classifier: AdaBoost\n",
      "Resulting Accuracy (AVG), Recall (AVG), F-Score (AVG):\n",
      "macro   :  (0.27352086809262621, 0.3661741005767426, 0.24422392262582893, None)\n",
      "weighted:  (0.5645365230676449, 0.32372532396754267, 0.36442105978417427, None)\n",
      "(array([ 0.15472028,  0.30477168,  0.75274463,  0.07580175,  0.079566  ]), array([ 0.57937807,  0.3938992 ,  0.29328622,  0.48372093,  0.08058608]), array([ 0.24422215,  0.34365056,  0.42210921,  0.1310649 ,  0.08007279]), array([ 611, 1508, 5377,  215,  546]))\n",
      "[[ 354  127   62   41   27]\n",
      " [ 445  594  255  139   75]\n",
      " [1323 1143 1577  940  394]\n",
      " [  33   14   51  104   13]\n",
      " [ 133   71  150  148   44]]\n",
      "-------------------------------\n",
      "Classifier: Naive Bayes\n",
      "Resulting Accuracy (AVG), Recall (AVG), F-Score (AVG):\n",
      "macro   :  (0.29038398264543036, 0.2977336638836125, 0.13056773045092104, None)\n",
      "weighted:  (0.56994570373487385, 0.14581567155141092, 0.13794351675108896, None)\n",
      "(array([ 0.0877587 ,  0.45762712,  0.72395833,  0.09090909,  0.09166667]), array([ 0.89525368,  0.08952255,  0.07755254,  0.38604651,  0.04029304]), array([ 0.15984804,  0.14975042,  0.14009743,  0.14716312,  0.05597964]), array([ 611, 1508, 5377,  215,  546]))\n",
      "[[ 547   16   15   25    8]\n",
      " [1169  135   83   83   38]\n",
      " [4047  128  417  634  151]\n",
      " [  98    2   11   83   21]\n",
      " [ 372   14   50   88   22]]\n",
      "-------------------------------\n",
      "Classifier: QDA\n",
      "Resulting Accuracy (AVG), Recall (AVG), F-Score (AVG):\n",
      "macro   :  (0.29521138962691673, 0.25899312154366122, 0.23808519467625811, None)\n",
      "weighted:  (0.53772949724400654, 0.51834806830568003, 0.51377474282549618, None)\n",
      "(array([ 0.14983165,  0.26664306,  0.71236002,  0.22222222,  0.125     ]), array([ 0.14566285,  0.49933687,  0.63883206,  0.00930233,  0.0018315 ]), array([ 0.14771784,  0.34764543,  0.67359545,  0.01785714,  0.00361011]), array([ 611, 1508, 5377,  215,  546]))\n",
      "[[  89  259  262    1    0]\n",
      " [  98  753  656    0    1]\n",
      " [ 352 1578 3435    6    6]\n",
      " [  10   71  132    2    0]\n",
      " [  45  163  337    0    1]]\n",
      "-------------------------------\n",
      "Classifier: LDA\n",
      "Resulting Accuracy (AVG), Recall (AVG), F-Score (AVG):\n",
      "macro   :  (0.31739575084824923, 0.39036745872701817, 0.30833613442513275, None)\n",
      "weighted:  (0.60142750488151797, 0.4051108150660046, 0.43616887456552639, None)\n",
      "(array([ 0.26628571,  0.30625   ,  0.79200653,  0.11664075,  0.10579577]), array([ 0.38134206,  0.64986737,  0.36116794,  0.34883721,  0.21062271]), array([ 0.31359354,  0.41631266,  0.49610423,  0.17482517,  0.14084507]), array([ 611, 1508, 5377,  215,  546]))\n",
      "[[ 233  234   49   20   75]\n",
      " [ 127  980  224   42  135]\n",
      " [ 431 1848 1942  434  722]\n",
      " [  16   26   58   75   40]\n",
      " [  68  112  179   72  115]]\n",
      "-------------------------------\n"
     ]
    }
   ],
   "source": [
    "# z-score normalization\n",
    "scaler = preprocessing.StandardScaler().fit(train_x_list)\n",
    "train_x_list = scaler.transform(train_x_list)\n",
    "test_x_list = scaler.transform(test_x_list)\n",
    "\n",
    "for name, clf in zip(names, classifiers):\n",
    "    print 'Classifier:', name\n",
    "\n",
    "    clf.fit(train_x_list, train_y_list)\n",
    "    predict_y_list = clf.predict(test_x_list)\n",
    "    calc_score(test_y_list, predict_y_list)\n",
    "\n",
    "    print '-------------------------------'"
   ]
  },
  {
   "cell_type": "code",
   "execution_count": null,
   "metadata": {
    "collapsed": true
   },
   "outputs": [],
   "source": []
  },
  {
   "cell_type": "code",
   "execution_count": null,
   "metadata": {
    "collapsed": true
   },
   "outputs": [],
   "source": []
  },
  {
   "cell_type": "code",
   "execution_count": null,
   "metadata": {
    "collapsed": true
   },
   "outputs": [],
   "source": []
  },
  {
   "cell_type": "code",
   "execution_count": 17,
   "metadata": {
    "collapsed": false
   },
   "outputs": [
    {
     "name": "stdout",
     "output_type": "stream",
     "text": [
      "[4 2 4 4 2 0 4 1 1 4 3 2 3 4 1 1 1 2 2 4 2 2 0 1 4 4 0 2 4 1 3 2 3 2 4 1 1\n",
      " 4 2 4 1 4 4 2 2 1 1 1 1 1 2 4 0 4 1 4 2 2 0 1 2 2 4 3 1 1 1 1 2 2 1 2 1 1\n",
      " 1 1 1 2 1 1 1 1 1 1 1 1 1 1 1 1 1 4 2 4 2 2 4 1 1 1]\n"
     ]
    }
   ],
   "source": [
    "print predict_y_list[:100]"
   ]
  },
  {
   "cell_type": "code",
   "execution_count": 18,
   "metadata": {
    "collapsed": false
   },
   "outputs": [
    {
     "name": "stdout",
     "output_type": "stream",
     "text": [
      "[2 2 2 2 2 4 2 2 2 2 2 2 2 2 1 1 1 2 2 2 2 2 2 2 2 2 2 2 2 2 2 2 2 2 2 1 1\n",
      " 1 2 2 2 2 2 2 2 1 1 2 1 1 2 2 2 0 1 2 2 2 2 2 2 2 2 2 2 1 1 2 2 2 2 2 2 2\n",
      " 1 1 1 2 1 1 1 1 1 2 2 1 1 1 2 1 1 2 2 2 2 2 1 1 1 2]\n"
     ]
    }
   ],
   "source": [
    "print test_y_list[:100]"
   ]
  },
  {
   "cell_type": "code",
   "execution_count": null,
   "metadata": {
    "collapsed": true
   },
   "outputs": [],
   "source": []
  }
 ],
 "metadata": {
  "anaconda-cloud": {},
  "kernelspec": {
   "display_name": "Python [conda env:python2]",
   "language": "python",
   "name": "conda-env-python2-py"
  },
  "language_info": {
   "codemirror_mode": {
    "name": "ipython",
    "version": 2
   },
   "file_extension": ".py",
   "mimetype": "text/x-python",
   "name": "python",
   "nbconvert_exporter": "python",
   "pygments_lexer": "ipython2",
   "version": "2.7.12"
  }
 },
 "nbformat": 4,
 "nbformat_minor": 0
}
